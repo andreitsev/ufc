{
 "cells": [
  {
   "attachments": {},
   "cell_type": "markdown",
   "metadata": {},
   "source": [
    "<a id='home'></a>\n",
    "### Contents\n",
    "\n",
    "[Imports](#Imports)\n",
    "\n",
    "[Dataloading](#Dataloading)"
   ]
  },
  {
   "attachments": {},
   "cell_type": "markdown",
   "metadata": {},
   "source": [
    "<a id='Imports'></a>\n",
    "### Imports\n",
    "[back to contents](#home)"
   ]
  },
  {
   "cell_type": "code",
   "execution_count": 1,
   "metadata": {},
   "outputs": [],
   "source": [
    "%load_ext autoreload\n",
    "%autoreload 2"
   ]
  },
  {
   "cell_type": "code",
   "execution_count": null,
   "metadata": {},
   "outputs": [],
   "source": [
    "import os\n",
    "from os.path import join as p_join\n",
    "import sys\n",
    "from typing import List, Tuple, Dict, Set, Any, Optional, Callable\n",
    "from pathlib import Path\n",
    "sys.path.insert(0, str(Path(os.getcwd()).parent))\n",
    "import requests\n",
    "from tqdm import tqdm\n",
    "try:\n",
    "    from fabulous import color as fb_color\n",
    "    color_print = lambda x, color='green': print(getattr(fb_color, color)(x)) if 'fb_color' in globals() else print(x)\n",
    "except Exception as e:\n",
    "    color_print = lambda x, color='green': print(x)\n",
    "\n",
    "from bs4 import BeautifulSoup\n",
    "import numpy as np\n",
    "import pandas as pd\n",
    "import matplotlib\n",
    "import matplotlib.pyplot as plt\n",
    "import seaborn as sns\n",
    "%matplotlib inline"
   ]
  },
  {
   "attachments": {},
   "cell_type": "markdown",
   "metadata": {},
   "source": [
    "<a id='Dataloading'></a>\n",
    "### Dataloading\n",
    "[back to contents](#home)"
   ]
  },
  {
   "cell_type": "code",
   "execution_count": null,
   "metadata": {},
   "outputs": [],
   "source": [
    "Minio(\n",
    "    endpoint='localhost:9001',\n",
    "    access_key=,\n",
    "    secret_key=None,\n",
    "    session_token=None,\n",
    "    secure=True,\n",
    "    region=None,\n",
    "    http_client=None,\n",
    "    credentials=None,\n",
    ")"
   ]
  },
  {
   "cell_type": "code",
   "execution_count": 30,
   "metadata": {},
   "outputs": [
    {
     "data": {
      "text/plain": [
       "<minio.api.Minio at 0x7fc5eb3a0970>"
      ]
     },
     "execution_count": 30,
     "metadata": {},
     "output_type": "execute_result"
    }
   ],
   "source": [
    "# creating Minio client\n",
    "minio_client = Minio(\n",
    "    endpoint=\"172.17.0.2:9000\",\n",
    "    access_key=\"joitandr\",\n",
    "    secret_key=\"0w9a8c7r6a5f4t\",\n",
    "    secure=False,\n",
    ")\n",
    "minio_client"
   ]
  },
  {
   "cell_type": "code",
   "execution_count": 31,
   "metadata": {},
   "outputs": [
    {
     "data": {
      "text/plain": [
       "[Bucket('ufc-raw-data')]"
      ]
     },
     "execution_count": 31,
     "metadata": {},
     "output_type": "execute_result"
    }
   ],
   "source": [
    "# checking client creation\n",
    "minio_client.list_buckets()"
   ]
  },
  {
   "cell_type": "code",
   "execution_count": 32,
   "metadata": {},
   "outputs": [],
   "source": [
    "for bucket in minio_client.list_buckets(): break"
   ]
  },
  {
   "cell_type": "code",
   "execution_count": null,
   "metadata": {},
   "outputs": [],
   "source": []
  },
  {
   "cell_type": "code",
   "execution_count": null,
   "metadata": {},
   "outputs": [],
   "source": []
  },
  {
   "cell_type": "code",
   "execution_count": null,
   "metadata": {},
   "outputs": [],
   "source": []
  }
 ],
 "metadata": {
  "kernelspec": {
   "display_name": "ufc_venv",
   "language": "python",
   "name": "ufc_venv"
  },
  "language_info": {
   "codemirror_mode": {
    "name": "ipython",
    "version": 3
   },
   "file_extension": ".py",
   "mimetype": "text/x-python",
   "name": "python",
   "nbconvert_exporter": "python",
   "pygments_lexer": "ipython3",
   "version": "3.9.9"
  },
  "orig_nbformat": 4
 },
 "nbformat": 4,
 "nbformat_minor": 2
}
