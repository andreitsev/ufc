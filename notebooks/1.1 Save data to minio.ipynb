{
 "cells": [
  {
   "attachments": {},
   "cell_type": "markdown",
   "metadata": {},
   "source": [
    "<a id='home'></a>\n",
    "### Contents\n",
    "\n",
    "[Imports](#Imports)\n",
    "\n",
    "[Dataloading](#Dataloading)"
   ]
  },
  {
   "attachments": {},
   "cell_type": "markdown",
   "metadata": {},
   "source": [
    "<a id='Imports'></a>\n",
    "### Imports\n",
    "[back to contents](#home)"
   ]
  },
  {
   "cell_type": "code",
   "execution_count": 1,
   "metadata": {},
   "outputs": [],
   "source": [
    "%load_ext autoreload\n",
    "%autoreload 2"
   ]
  },
  {
   "cell_type": "code",
   "execution_count": 2,
   "metadata": {},
   "outputs": [],
   "source": [
    "import os\n",
    "from os.path import join as p_join\n",
    "import sys\n",
    "from typing import List, Tuple, Dict, Set, Any, Optional, Callable\n",
    "from pathlib import Path\n",
    "sys.path.insert(0, str(Path(os.getcwd()).parent))\n",
    "import requests\n",
    "from tqdm import tqdm\n",
    "try:\n",
    "    from fabulous import color as fb_color\n",
    "    color_print = lambda x, color='green': print(getattr(fb_color, color)(x)) if 'fb_color' in globals() else print(x)\n",
    "except Exception as e:\n",
    "    color_print = lambda x, color='green': print(x)\n",
    "\n",
    "from bs4 import BeautifulSoup\n",
    "import numpy as np\n",
    "import pandas as pd\n",
    "import matplotlib\n",
    "import matplotlib.pyplot as plt\n",
    "import seaborn as sns\n",
    "%matplotlib inline"
   ]
  },
  {
   "attachments": {},
   "cell_type": "markdown",
   "metadata": {},
   "source": [
    "<a id='Dataloading'></a>\n",
    "### Dataloading\n",
    "[back to contents](#home)"
   ]
  },
  {
   "cell_type": "code",
   "execution_count": 21,
   "metadata": {},
   "outputs": [],
   "source": [
    "env_sh = open(\n",
    "    p_join(str((Path(os.getcwd()).parent)), 'env.sh'), \n",
    "    mode='r', \n",
    "    encoding='utf-8'\n",
    ").read().split('\\n')\n",
    "\n",
    "MINIO_ACCESS_KEY = [\n",
    "    row.split('=')[-1].replace('\"', '').replace(\"'\", \"\") for row in env_sh if 'MINIO_ACCESS_KEY' in row\n",
    "][0]\n",
    "MINIO_SECRET_KEY = [\n",
    "    row.split('=')[-1].replace('\"', '').replace(\"'\", \"\") for row in env_sh if 'MINIO_SECRET_KEY' in row\n",
    "][0]"
   ]
  },
  {
   "cell_type": "code",
   "execution_count": 24,
   "metadata": {},
   "outputs": [
    {
     "data": {
      "text/plain": [
       "<minio.api.Minio at 0x7facec5e5e50>"
      ]
     },
     "execution_count": 24,
     "metadata": {},
     "output_type": "execute_result"
    }
   ],
   "source": [
    "# creating Minio client\n",
    "from minio import Minio\n",
    "\n",
    "minio_client = Minio(\n",
    "    endpoint=\"172.17.0.2:9000\",\n",
    "    access_key=MINIO_ACCESS_KEY,\n",
    "    secret_key=MINIO_SECRET_KEY,\n",
    "    secure=False,\n",
    ")\n",
    "minio_client"
   ]
  },
  {
   "cell_type": "code",
   "execution_count": 25,
   "metadata": {},
   "outputs": [
    {
     "data": {
      "text/plain": [
       "[Bucket('ufc-raw-data')]"
      ]
     },
     "execution_count": 25,
     "metadata": {},
     "output_type": "execute_result"
    }
   ],
   "source": [
    "# checking client creation\n",
    "minio_client.list_buckets()"
   ]
  },
  {
   "cell_type": "code",
   "execution_count": 26,
   "metadata": {},
   "outputs": [],
   "source": [
    "for bucket in minio_client.list_buckets(): break"
   ]
  },
  {
   "cell_type": "code",
   "execution_count": null,
   "metadata": {},
   "outputs": [],
   "source": []
  },
  {
   "cell_type": "code",
   "execution_count": null,
   "metadata": {},
   "outputs": [],
   "source": []
  },
  {
   "cell_type": "code",
   "execution_count": null,
   "metadata": {},
   "outputs": [],
   "source": []
  }
 ],
 "metadata": {
  "kernelspec": {
   "display_name": "ufc_venv",
   "language": "python",
   "name": "ufc_venv"
  },
  "language_info": {
   "codemirror_mode": {
    "name": "ipython",
    "version": 3
   },
   "file_extension": ".py",
   "mimetype": "text/x-python",
   "name": "python",
   "nbconvert_exporter": "python",
   "pygments_lexer": "ipython3",
   "version": "3.9.9"
  },
  "orig_nbformat": 4
 },
 "nbformat": 4,
 "nbformat_minor": 2
}
