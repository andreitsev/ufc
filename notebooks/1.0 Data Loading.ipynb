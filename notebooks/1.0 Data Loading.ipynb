{
 "cells": [
  {
   "cell_type": "code",
   "execution_count": 1,
   "metadata": {
    "ExecuteTime": {
     "end_time": "2023-02-27T05:04:41.962621Z",
     "start_time": "2023-02-27T05:04:41.933461Z"
    }
   },
   "outputs": [],
   "source": [
    "%load_ext autoreload\n",
    "%autoreload 2"
   ]
  },
  {
   "cell_type": "code",
   "execution_count": 2,
   "metadata": {
    "ExecuteTime": {
     "end_time": "2023-02-27T05:04:45.050964Z",
     "start_time": "2023-02-27T05:04:42.280999Z"
    },
    "pycharm": {
     "name": "#%%\n"
    }
   },
   "outputs": [],
   "source": [
    "import os\n",
    "from os.path import join as p_join\n",
    "from dotenv import load_dotenv\n",
    "load_dotenv()\n",
    "from pathlib import Path\n",
    "import sys\n",
    "import json\n",
    "import pickle\n",
    "from typing import List, Tuple, Dict, Set, Any, Optional, Callable\n",
    "from pathlib import Path\n",
    "sys.path.insert(0, str(Path(os.getcwd()).parent))\n",
    "import requests\n",
    "from tqdm import tqdm\n",
    "try:\n",
    "    from fabulous import color as fb_color\n",
    "    color_print = lambda x, color='green': print(getattr(fb_color, color)(x)) if 'fb_color' in globals() else print(x)\n",
    "except Exception as e:\n",
    "    color_print = lambda x, color='green': print(x)\n",
    "\n",
    "from bs4 import BeautifulSoup\n",
    "import numpy as np\n",
    "import pandas as pd\n",
    "import matplotlib\n",
    "import matplotlib.pyplot as plt\n",
    "import seaborn as sns\n",
    "%matplotlib inline\n",
    "\n",
    "from minio import Minio"
   ]
  },
  {
   "cell_type": "code",
   "execution_count": 9,
   "metadata": {
    "ExecuteTime": {
     "end_time": "2023-02-27T05:06:04.786880Z",
     "start_time": "2023-02-27T05:06:04.735637Z"
    }
   },
   "outputs": [],
   "source": [
    "from src.minio_utils import (\n",
    "    minio_container_ipaddr, \n",
    "    initialize_minio_client\n",
    ")\n",
    "\n",
    "from src.parse_utils import get_events_list, get_events_info, get_fighters_info, get_one_fight_stats\n",
    "from src.processing import eventslist2df\n",
    "from src.pipelines.parse_all_fights import parse_all_fights"
   ]
  },
  {
   "cell_type": "code",
   "execution_count": 4,
   "metadata": {
    "ExecuteTime": {
     "end_time": "2023-02-27T05:04:45.148384Z",
     "start_time": "2023-02-27T05:04:45.104513Z"
    },
    "pycharm": {
     "name": "#%%\n"
    }
   },
   "outputs": [],
   "source": [
    "matplotlib.rcParams['figure.figsize'] = (8, 8)\n",
    "sns.set_style('whitegrid')"
   ]
  },
  {
   "cell_type": "markdown",
   "metadata": {
    "pycharm": {
     "name": "#%% md\n"
    }
   },
   "source": [
    "---"
   ]
  },
  {
   "cell_type": "code",
   "execution_count": 5,
   "metadata": {
    "ExecuteTime": {
     "end_time": "2023-02-27T05:04:46.407285Z",
     "start_time": "2023-02-27T05:04:46.356437Z"
    }
   },
   "outputs": [
    {
     "name": "stdout",
     "output_type": "stream",
     "text": [
      "PROJECT_FOLDER: /home/aiandrejcev/ufc\n",
      "PARSED_DATA_PATH: /home/aiandrejcev/ufc/data/raw/all_fights.json\n"
     ]
    }
   ],
   "source": [
    "MINIO_ACCESS_KEY = os.environ['MINIO_ACCESS_KEY']\n",
    "MINIO_SECRET_KEY = os.environ['MINIO_SECRET_KEY']\n",
    "\n",
    "PROJECT_FOLDER = str(Path(os.getcwd()).parent)\n",
    "PARSED_DATA_PATH = p_join(str(Path(os.getcwd()).parent), 'data/raw/all_fights.json')\n",
    "print(f\"PROJECT_FOLDER: {PROJECT_FOLDER}\")\n",
    "print(f\"PARSED_DATA_PATH: {PARSED_DATA_PATH}\")"
   ]
  },
  {
   "cell_type": "code",
   "execution_count": 6,
   "metadata": {
    "ExecuteTime": {
     "end_time": "2023-02-27T05:04:48.915396Z",
     "start_time": "2023-02-27T05:04:46.631165Z"
    }
   },
   "outputs": [
    {
     "name": "stdout",
     "output_type": "stream",
     "text": [
      "True\n",
      "681\n"
     ]
    },
    {
     "data": {
      "text/plain": [
       "[{'event_url': 'http://www.ufcstats.com/event-details/a9df5ae20a97b090',\n",
       "  'event_name': \"UFC 299: O'Malley vs. Vera 2\",\n",
       "  'date': 'March 09, 2024',\n",
       "  'location': 'Miami, Florida, USA'},\n",
       " {'event_url': 'http://www.ufcstats.com/event-details/e4a9dbade7c7e1a7',\n",
       "  'event_name': 'UFC Fight Night: Rozenstruik vs. Gaziev',\n",
       "  'date': 'March 02, 2024',\n",
       "  'location': 'Las Vegas, Nevada, USA'},\n",
       " {'event_url': 'http://www.ufcstats.com/event-details/902ab9197b83d0db',\n",
       "  'event_name': 'UFC Fight Night: Moreno vs. Royval 2',\n",
       "  'date': 'February 24, 2024',\n",
       "  'location': 'Mexico City, Distrito Federal, Mexico'}]"
      ]
     },
     "execution_count": 6,
     "metadata": {},
     "output_type": "execute_result"
    }
   ],
   "source": [
    "fights_list, status_ok = get_events_list()\n",
    "print(status_ok)\n",
    "print(len(fights_list))\n",
    "fights_list[:3]"
   ]
  },
  {
   "cell_type": "code",
   "execution_count": 7,
   "metadata": {
    "ExecuteTime": {
     "end_time": "2023-02-27T05:04:48.977273Z",
     "start_time": "2023-02-27T05:04:48.918484Z"
    }
   },
   "outputs": [
    {
     "data": {
      "text/html": [
       "<div>\n",
       "<style scoped>\n",
       "    .dataframe tbody tr th:only-of-type {\n",
       "        vertical-align: middle;\n",
       "    }\n",
       "\n",
       "    .dataframe tbody tr th {\n",
       "        vertical-align: top;\n",
       "    }\n",
       "\n",
       "    .dataframe thead th {\n",
       "        text-align: right;\n",
       "    }\n",
       "</style>\n",
       "<table border=\"1\" class=\"dataframe\">\n",
       "  <thead>\n",
       "    <tr style=\"text-align: right;\">\n",
       "      <th></th>\n",
       "      <th>event_url</th>\n",
       "      <th>event_name</th>\n",
       "      <th>date</th>\n",
       "      <th>location</th>\n",
       "    </tr>\n",
       "  </thead>\n",
       "  <tbody>\n",
       "    <tr>\n",
       "      <th>0</th>\n",
       "      <td>http://www.ufcstats.com/event-details/a9df5ae2...</td>\n",
       "      <td>UFC 299: O'Malley vs. Vera 2</td>\n",
       "      <td>March 09, 2024</td>\n",
       "      <td>Miami, Florida, USA</td>\n",
       "    </tr>\n",
       "    <tr>\n",
       "      <th>1</th>\n",
       "      <td>http://www.ufcstats.com/event-details/e4a9dbad...</td>\n",
       "      <td>UFC Fight Night: Rozenstruik vs. Gaziev</td>\n",
       "      <td>March 02, 2024</td>\n",
       "      <td>Las Vegas, Nevada, USA</td>\n",
       "    </tr>\n",
       "    <tr>\n",
       "      <th>2</th>\n",
       "      <td>http://www.ufcstats.com/event-details/902ab919...</td>\n",
       "      <td>UFC Fight Night: Moreno vs. Royval 2</td>\n",
       "      <td>February 24, 2024</td>\n",
       "      <td>Mexico City, Distrito Federal, Mexico</td>\n",
       "    </tr>\n",
       "    <tr>\n",
       "      <th>3</th>\n",
       "      <td>http://www.ufcstats.com/event-details/dab0e6cb...</td>\n",
       "      <td>UFC 298: Volkanovski vs. Topuria</td>\n",
       "      <td>February 17, 2024</td>\n",
       "      <td>Anaheim, California, USA</td>\n",
       "    </tr>\n",
       "    <tr>\n",
       "      <th>4</th>\n",
       "      <td>http://www.ufcstats.com/event-details/eaea0fc7...</td>\n",
       "      <td>UFC Fight Night: Hermansson vs. Pyfer</td>\n",
       "      <td>February 10, 2024</td>\n",
       "      <td>Las Vegas, Nevada, USA</td>\n",
       "    </tr>\n",
       "    <tr>\n",
       "      <th>...</th>\n",
       "      <td>...</td>\n",
       "      <td>...</td>\n",
       "      <td>...</td>\n",
       "      <td>...</td>\n",
       "    </tr>\n",
       "    <tr>\n",
       "      <th>676</th>\n",
       "      <td>http://www.ufcstats.com/event-details/1c3f5e85...</td>\n",
       "      <td>UFC 6: Clash of the Titans</td>\n",
       "      <td>July 14, 1995</td>\n",
       "      <td>Casper, Wyoming, USA</td>\n",
       "    </tr>\n",
       "    <tr>\n",
       "      <th>677</th>\n",
       "      <td>http://www.ufcstats.com/event-details/dedc3bb4...</td>\n",
       "      <td>UFC 5: The Return of the Beast</td>\n",
       "      <td>April 07, 1995</td>\n",
       "      <td>Charlotte, North Carolina, USA</td>\n",
       "    </tr>\n",
       "    <tr>\n",
       "      <th>678</th>\n",
       "      <td>http://www.ufcstats.com/event-details/b60391da...</td>\n",
       "      <td>UFC 4: Revenge of the Warriors</td>\n",
       "      <td>December 16, 1994</td>\n",
       "      <td>Tulsa, Oklahoma, USA</td>\n",
       "    </tr>\n",
       "    <tr>\n",
       "      <th>679</th>\n",
       "      <td>http://www.ufcstats.com/event-details/1a49e067...</td>\n",
       "      <td>UFC 3: The American Dream</td>\n",
       "      <td>September 09, 1994</td>\n",
       "      <td>Charlotte, North Carolina, USA</td>\n",
       "    </tr>\n",
       "    <tr>\n",
       "      <th>680</th>\n",
       "      <td>http://www.ufcstats.com/event-details/a6a9ab5a...</td>\n",
       "      <td>UFC 2: No Way Out</td>\n",
       "      <td>March 11, 1994</td>\n",
       "      <td>Denver, Colorado, USA</td>\n",
       "    </tr>\n",
       "  </tbody>\n",
       "</table>\n",
       "<p>681 rows × 4 columns</p>\n",
       "</div>"
      ],
      "text/plain": [
       "                                             event_url   \n",
       "0    http://www.ufcstats.com/event-details/a9df5ae2...  \\\n",
       "1    http://www.ufcstats.com/event-details/e4a9dbad...   \n",
       "2    http://www.ufcstats.com/event-details/902ab919...   \n",
       "3    http://www.ufcstats.com/event-details/dab0e6cb...   \n",
       "4    http://www.ufcstats.com/event-details/eaea0fc7...   \n",
       "..                                                 ...   \n",
       "676  http://www.ufcstats.com/event-details/1c3f5e85...   \n",
       "677  http://www.ufcstats.com/event-details/dedc3bb4...   \n",
       "678  http://www.ufcstats.com/event-details/b60391da...   \n",
       "679  http://www.ufcstats.com/event-details/1a49e067...   \n",
       "680  http://www.ufcstats.com/event-details/a6a9ab5a...   \n",
       "\n",
       "                                  event_name                date   \n",
       "0               UFC 299: O'Malley vs. Vera 2      March 09, 2024  \\\n",
       "1    UFC Fight Night: Rozenstruik vs. Gaziev      March 02, 2024   \n",
       "2       UFC Fight Night: Moreno vs. Royval 2   February 24, 2024   \n",
       "3           UFC 298: Volkanovski vs. Topuria   February 17, 2024   \n",
       "4      UFC Fight Night: Hermansson vs. Pyfer   February 10, 2024   \n",
       "..                                       ...                 ...   \n",
       "676               UFC 6: Clash of the Titans       July 14, 1995   \n",
       "677           UFC 5: The Return of the Beast      April 07, 1995   \n",
       "678           UFC 4: Revenge of the Warriors   December 16, 1994   \n",
       "679                UFC 3: The American Dream  September 09, 1994   \n",
       "680                        UFC 2: No Way Out      March 11, 1994   \n",
       "\n",
       "                                  location  \n",
       "0                      Miami, Florida, USA  \n",
       "1                   Las Vegas, Nevada, USA  \n",
       "2    Mexico City, Distrito Federal, Mexico  \n",
       "3                 Anaheim, California, USA  \n",
       "4                   Las Vegas, Nevada, USA  \n",
       "..                                     ...  \n",
       "676                   Casper, Wyoming, USA  \n",
       "677         Charlotte, North Carolina, USA  \n",
       "678                   Tulsa, Oklahoma, USA  \n",
       "679         Charlotte, North Carolina, USA  \n",
       "680                  Denver, Colorado, USA  \n",
       "\n",
       "[681 rows x 4 columns]"
      ]
     },
     "execution_count": 7,
     "metadata": {},
     "output_type": "execute_result"
    }
   ],
   "source": [
    "fights_df = eventslist2df(fights_list)\n",
    "fights_df"
   ]
  },
  {
   "cell_type": "code",
   "execution_count": 11,
   "metadata": {},
   "outputs": [
    {
     "data": {
      "text/plain": [
       "<minio.api.Minio at 0x7fe5d863e640>"
      ]
     },
     "execution_count": 11,
     "metadata": {},
     "output_type": "execute_result"
    }
   ],
   "source": [
    "minio_client = initialize_minio_client(\n",
    "\tipaddr=minio_container_ipaddr(),\n",
    "\taccess_key=MINIO_ACCESS_KEY,\n",
    "\tsecret_key=MINIO_SECRET_KEY,\n",
    "\tport_number=9000\n",
    ")\n",
    "minio_client"
   ]
  },
  {
   "cell_type": "code",
   "execution_count": 47,
   "metadata": {},
   "outputs": [],
   "source": [
    "############################### Loading all fights info from minio ####################################\n",
    "all_fights_list = None\n",
    "\n",
    "try:\n",
    "    minio_client = Minio(\n",
    "        # endpoint=\"172.17.0.2:9000\",\n",
    "        endpoint=f\"{minio_container_ipaddr()}:9000\",\n",
    "        access_key=MINIO_ACCESS_KEY,\n",
    "        secret_key=MINIO_SECRET_KEY,\n",
    "        secure=False,\n",
    "    )\n",
    "\n",
    "    minio_client.fget_object(\n",
    "        bucket_name='ufc-raw-data',\n",
    "        object_name='ufc_stats.json',\n",
    "        file_path=PARSED_DATA_PATH,\n",
    "    )\n",
    "\n",
    "    all_fights_list = json.load( open(PARSED_DATA_PATH, mode='r', encoding='utf-8'))\n",
    "    os.remove(PARSED_DATA_PATH)\n",
    "except Exception as e:\n",
    "    print(\"Can't load all_fights_list!\")\n",
    "    print(e, end='\\n'*2)\n",
    "\n",
    "############################## put set of parsed events to minio ##############################\n",
    "try:    \n",
    "    events_set = set([fight_info['event_uri'] for fight_info in all_fights_list])\n",
    "except Exception as e:\n",
    "    events_set = None\n",
    "    print(e, end='\\n'*2)\n",
    "\n",
    "# parsed_events_set_path = p_join(PROJECT_FOLDER, 'data/raw/', 'parsed_events_set.pkl')\n",
    "# pickle.dump(\n",
    "#     events_set, \n",
    "#     open(parsed_events_set_path, mode='wb'), \n",
    "# )\n",
    "\n",
    "# # creating Minio client\n",
    "# minio_client = Minio(\n",
    "#     endpoint=\"172.17.0.2:9000\",\n",
    "#     access_key=MINIO_ACCESS_KEY,\n",
    "#     secret_key=MINIO_SECRET_KEY,\n",
    "#     secure=False,\n",
    "# )\n",
    "\n",
    "# minio_client.fput_object(\n",
    "#     bucket_name='ufc-raw-data',\n",
    "#     object_name='parsed_events_set.pkl',\n",
    "#     file_path=parsed_events_set_path,\n",
    "# )\n",
    "# os.remove(parsed_events_set_path)"
   ]
  },
  {
   "cell_type": "code",
   "execution_count": 8,
   "metadata": {},
   "outputs": [],
   "source": [
    "minio_client = Minio(\n",
    "    # endpoint=\"172.17.0.2:9000\",\n",
    "    endpoint=f\"{minio_container_ipaddr()}:9000\",\n",
    "    access_key=MINIO_ACCESS_KEY,\n",
    "    secret_key=MINIO_SECRET_KEY,\n",
    "    secure=False,\n",
    ")\n",
    "\n",
    "minio_client.fget_object(\n",
    "    bucket_name='ufc-raw-data',\n",
    "    object_name='ufc_stats.json',\n",
    "    file_path=PARSED_DATA_PATH,\n",
    ")\n",
    "\n",
    "all_fights_list = json.load( open(PARSED_DATA_PATH, mode='r', encoding='utf-8'))\n",
    "os.remove(PARSED_DATA_PATH)"
   ]
  },
  {
   "cell_type": "code",
   "execution_count": 48,
   "metadata": {},
   "outputs": [
    {
     "name": "stdout",
     "output_type": "stream",
     "text": [
      "status_ok: True\n"
     ]
    },
    {
     "name": "stderr",
     "output_type": "stream",
     "text": [
      "100%|██████████| 638/638 [00:11<00:00, 57.98it/s]\n"
     ]
    },
    {
     "name": "stdout",
     "output_type": "stream",
     "text": [
      "7035\n"
     ]
    }
   ],
   "source": [
    "all_fights_list_added = parse_all_fights(\n",
    "    save_path=None,\n",
    "    parsed_events_set=events_set,\n",
    ")\n",
    "if all_fights_list is None:\n",
    "    all_fights_list = all_fights_list_added\n",
    "else:\n",
    "    all_fights_list.extend(all_fights_list_added)\n",
    "\n",
    "print(len(all_fights_list))\n",
    "\n",
    "json.dump(\n",
    "    all_fights_list, \n",
    "    open(PARSED_DATA_PATH, mode='w', encoding='utf-8'), ensure_ascii=False, indent=2\n",
    ")"
   ]
  },
  {
   "cell_type": "code",
   "execution_count": 50,
   "metadata": {},
   "outputs": [],
   "source": [
    "#################################### Putting data to minio ################################################\n",
    "all_fights_list = json.load(open(PARSED_DATA_PATH, mode='r', encoding='utf-8'))\n",
    "\n",
    "# creating Minio client\n",
    "minio_client = Minio(\n",
    "    # endpoint=\"172.17.0.2:9000\",\n",
    "    endpoint=f\"{minio_container_ipaddr()}:9000\",\n",
    "    access_key=MINIO_ACCESS_KEY,\n",
    "    secret_key=MINIO_SECRET_KEY,\n",
    "    secure=False,\n",
    ")\n",
    "\n",
    "minio_client.fput_object(\n",
    "    bucket_name='ufc-raw-data',\n",
    "    object_name='ufc_stats.json',\n",
    "    file_path=PARSED_DATA_PATH,\n",
    ")\n",
    "\n",
    "os.remove(PARSED_DATA_PATH)"
   ]
  },
  {
   "cell_type": "code",
   "execution_count": null,
   "metadata": {},
   "outputs": [],
   "source": []
  },
  {
   "cell_type": "code",
   "execution_count": null,
   "metadata": {},
   "outputs": [],
   "source": []
  },
  {
   "cell_type": "code",
   "execution_count": null,
   "metadata": {},
   "outputs": [],
   "source": []
  }
 ],
 "metadata": {
  "kernelspec": {
   "display_name": "ufc_venv",
   "language": "python",
   "name": "python3"
  },
  "language_info": {
   "codemirror_mode": {
    "name": "ipython",
    "version": 3
   },
   "file_extension": ".py",
   "mimetype": "text/x-python",
   "name": "python",
   "nbconvert_exporter": "python",
   "pygments_lexer": "ipython3",
   "version": "3.9.9"
  },
  "toc": {
   "base_numbering": 1,
   "nav_menu": {},
   "number_sections": true,
   "sideBar": true,
   "skip_h1_title": false,
   "title_cell": "Table of Contents",
   "title_sidebar": "Contents",
   "toc_cell": false,
   "toc_position": {},
   "toc_section_display": true,
   "toc_window_display": false
  },
  "varInspector": {
   "cols": {
    "lenName": 16,
    "lenType": 16,
    "lenVar": 40
   },
   "kernels_config": {
    "python": {
     "delete_cmd_postfix": "",
     "delete_cmd_prefix": "del ",
     "library": "var_list.py",
     "varRefreshCmd": "print(var_dic_list())"
    },
    "r": {
     "delete_cmd_postfix": ") ",
     "delete_cmd_prefix": "rm(",
     "library": "var_list.r",
     "varRefreshCmd": "cat(var_dic_list()) "
    }
   },
   "types_to_exclude": [
    "module",
    "function",
    "builtin_function_or_method",
    "instance",
    "_Feature"
   ],
   "window_display": false
  }
 },
 "nbformat": 4,
 "nbformat_minor": 1
}
