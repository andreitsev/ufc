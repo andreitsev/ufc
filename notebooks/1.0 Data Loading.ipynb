{
 "cells": [
  {
   "cell_type": "code",
   "execution_count": 2,
   "metadata": {
    "ExecuteTime": {
     "end_time": "2022-07-30T09:13:53.992380Z",
     "start_time": "2022-07-30T09:13:53.958408Z"
    }
   },
   "outputs": [],
   "source": [
    "%load_ext autoreload\n",
    "%autoreload 2"
   ]
  },
  {
   "cell_type": "code",
   "execution_count": 1,
   "metadata": {
    "ExecuteTime": {
     "end_time": "2022-07-30T09:13:49.686574Z",
     "start_time": "2022-07-30T09:13:47.956173Z"
    },
    "pycharm": {
     "name": "#%%\n"
    }
   },
   "outputs": [],
   "source": [
    "import os\n",
    "from os.path import join as p_join\n",
    "import sys\n",
    "from typing import List, Tuple, Dict, Set, Any, Optional, Callable\n",
    "from pathlib import Path\n",
    "sys.path.insert(0, str(Path(os.getcwd()).parent))\n",
    "import requests\n",
    "\n",
    "try:\n",
    "    from fabulous import color as fb_color\n",
    "    color_print = lambda x, color='green': print(getattr(fb_color, color)(x)) if 'fb_color' in globals() else print(x)\n",
    "except Exception as e:\n",
    "    color_print = lambda x, color='green': print(x)\n",
    "\n",
    "from bs4 import BeautifulSoup\n",
    "import numpy as np\n",
    "import pandas as pd\n",
    "import matplotlib\n",
    "import matplotlib.pyplot as plt\n",
    "import seaborn as sns\n",
    "%matplotlib inline"
   ]
  },
  {
   "cell_type": "code",
   "execution_count": 43,
   "metadata": {
    "ExecuteTime": {
     "end_time": "2022-07-30T17:21:25.531500Z",
     "start_time": "2022-07-30T17:21:25.498961Z"
    }
   },
   "outputs": [],
   "source": [
    "from src.parse_utils import get_events_list, get_fights_info\n",
    "from src.processing import eventslist2df"
   ]
  },
  {
   "cell_type": "code",
   "execution_count": 4,
   "metadata": {
    "ExecuteTime": {
     "end_time": "2022-07-30T09:13:56.346146Z",
     "start_time": "2022-07-30T09:13:56.316708Z"
    },
    "pycharm": {
     "name": "#%%\n"
    }
   },
   "outputs": [],
   "source": [
    "matplotlib.rcParams['figure.figsize'] = (8, 8)\n",
    "sns.set_style('whitegrid')"
   ]
  },
  {
   "cell_type": "markdown",
   "metadata": {
    "pycharm": {
     "name": "#%% md\n"
    }
   },
   "source": [
    "---"
   ]
  },
  {
   "cell_type": "code",
   "execution_count": 42,
   "metadata": {
    "ExecuteTime": {
     "end_time": "2022-07-30T17:20:51.346125Z",
     "start_time": "2022-07-30T17:20:48.915969Z"
    }
   },
   "outputs": [
    {
     "name": "stdout",
     "output_type": "stream",
     "text": [
      "True\n",
      "613\n"
     ]
    },
    {
     "data": {
      "text/plain": [
       "[{'event_url': 'http://www.ufcstats.com/event-details/319c15b8aac5bfde',\n",
       "  'event_name': 'UFC Fight Night: Blaydes vs. Aspinall',\n",
       "  'date': 'July 23, 2022',\n",
       "  'location': 'London, England, United Kingdom'},\n",
       " {'event_url': 'http://www.ufcstats.com/event-details/8fd76e1b49c00ae2',\n",
       "  'event_name': 'UFC Fight Night: Ortega vs. Rodriguez',\n",
       "  'date': 'July 16, 2022',\n",
       "  'location': 'Elmont, New York, USA'},\n",
       " {'event_url': 'http://www.ufcstats.com/event-details/31da66df48c0c1a0',\n",
       "  'event_name': 'UFC Fight Night: Dos Anjos vs. Fiziev',\n",
       "  'date': 'July 09, 2022',\n",
       "  'location': 'Las Vegas, Nevada, USA'}]"
      ]
     },
     "execution_count": 42,
     "metadata": {},
     "output_type": "execute_result"
    }
   ],
   "source": [
    "fights_list, status_ok = get_events_list()\n",
    "print(status_ok)\n",
    "print(len(fights_list))\n",
    "fights_list[:3]"
   ]
  },
  {
   "cell_type": "code",
   "execution_count": 44,
   "metadata": {
    "ExecuteTime": {
     "end_time": "2022-07-30T17:21:30.132548Z",
     "start_time": "2022-07-30T17:21:30.089547Z"
    }
   },
   "outputs": [
    {
     "data": {
      "text/html": [
       "<div>\n",
       "<style scoped>\n",
       "    .dataframe tbody tr th:only-of-type {\n",
       "        vertical-align: middle;\n",
       "    }\n",
       "\n",
       "    .dataframe tbody tr th {\n",
       "        vertical-align: top;\n",
       "    }\n",
       "\n",
       "    .dataframe thead th {\n",
       "        text-align: right;\n",
       "    }\n",
       "</style>\n",
       "<table border=\"1\" class=\"dataframe\">\n",
       "  <thead>\n",
       "    <tr style=\"text-align: right;\">\n",
       "      <th></th>\n",
       "      <th>event_url</th>\n",
       "      <th>event_name</th>\n",
       "      <th>date</th>\n",
       "      <th>location</th>\n",
       "    </tr>\n",
       "  </thead>\n",
       "  <tbody>\n",
       "    <tr>\n",
       "      <th>0</th>\n",
       "      <td>http://www.ufcstats.com/event-details/319c15b8...</td>\n",
       "      <td>UFC Fight Night: Blaydes vs. Aspinall</td>\n",
       "      <td>July 23, 2022</td>\n",
       "      <td>London, England, United Kingdom</td>\n",
       "    </tr>\n",
       "    <tr>\n",
       "      <th>1</th>\n",
       "      <td>http://www.ufcstats.com/event-details/8fd76e1b...</td>\n",
       "      <td>UFC Fight Night: Ortega vs. Rodriguez</td>\n",
       "      <td>July 16, 2022</td>\n",
       "      <td>Elmont, New York, USA</td>\n",
       "    </tr>\n",
       "    <tr>\n",
       "      <th>2</th>\n",
       "      <td>http://www.ufcstats.com/event-details/31da66df...</td>\n",
       "      <td>UFC Fight Night: Dos Anjos vs. Fiziev</td>\n",
       "      <td>July 09, 2022</td>\n",
       "      <td>Las Vegas, Nevada, USA</td>\n",
       "    </tr>\n",
       "    <tr>\n",
       "      <th>3</th>\n",
       "      <td>http://www.ufcstats.com/event-details/4a9e3056...</td>\n",
       "      <td>UFC 276: Adesanya vs. Cannonier</td>\n",
       "      <td>July 02, 2022</td>\n",
       "      <td>Las Vegas, Nevada, USA</td>\n",
       "    </tr>\n",
       "    <tr>\n",
       "      <th>4</th>\n",
       "      <td>http://www.ufcstats.com/event-details/eb42d4fe...</td>\n",
       "      <td>UFC Fight Night: Tsarukyan vs. Gamrot</td>\n",
       "      <td>June 25, 2022</td>\n",
       "      <td>Las Vegas, Nevada, USA</td>\n",
       "    </tr>\n",
       "    <tr>\n",
       "      <th>...</th>\n",
       "      <td>...</td>\n",
       "      <td>...</td>\n",
       "      <td>...</td>\n",
       "      <td>...</td>\n",
       "    </tr>\n",
       "    <tr>\n",
       "      <th>608</th>\n",
       "      <td>http://www.ufcstats.com/event-details/1c3f5e85...</td>\n",
       "      <td>UFC 6: Clash of the Titans</td>\n",
       "      <td>July 14, 1995</td>\n",
       "      <td>Casper, Wyoming, USA</td>\n",
       "    </tr>\n",
       "    <tr>\n",
       "      <th>609</th>\n",
       "      <td>http://www.ufcstats.com/event-details/dedc3bb4...</td>\n",
       "      <td>UFC 5: The Return of the Beast</td>\n",
       "      <td>April 07, 1995</td>\n",
       "      <td>Charlotte, North Carolina, USA</td>\n",
       "    </tr>\n",
       "    <tr>\n",
       "      <th>610</th>\n",
       "      <td>http://www.ufcstats.com/event-details/b60391da...</td>\n",
       "      <td>UFC 4: Revenge of the Warriors</td>\n",
       "      <td>December 16, 1994</td>\n",
       "      <td>Tulsa, Oklahoma, USA</td>\n",
       "    </tr>\n",
       "    <tr>\n",
       "      <th>611</th>\n",
       "      <td>http://www.ufcstats.com/event-details/1a49e067...</td>\n",
       "      <td>UFC 3: The American Dream</td>\n",
       "      <td>September 09, 1994</td>\n",
       "      <td>Charlotte, North Carolina, USA</td>\n",
       "    </tr>\n",
       "    <tr>\n",
       "      <th>612</th>\n",
       "      <td>http://www.ufcstats.com/event-details/a6a9ab5a...</td>\n",
       "      <td>UFC 2: No Way Out</td>\n",
       "      <td>March 11, 1994</td>\n",
       "      <td>Denver, Colorado, USA</td>\n",
       "    </tr>\n",
       "  </tbody>\n",
       "</table>\n",
       "<p>613 rows × 4 columns</p>\n",
       "</div>"
      ],
      "text/plain": [
       "                                             event_url  \\\n",
       "0    http://www.ufcstats.com/event-details/319c15b8...   \n",
       "1    http://www.ufcstats.com/event-details/8fd76e1b...   \n",
       "2    http://www.ufcstats.com/event-details/31da66df...   \n",
       "3    http://www.ufcstats.com/event-details/4a9e3056...   \n",
       "4    http://www.ufcstats.com/event-details/eb42d4fe...   \n",
       "..                                                 ...   \n",
       "608  http://www.ufcstats.com/event-details/1c3f5e85...   \n",
       "609  http://www.ufcstats.com/event-details/dedc3bb4...   \n",
       "610  http://www.ufcstats.com/event-details/b60391da...   \n",
       "611  http://www.ufcstats.com/event-details/1a49e067...   \n",
       "612  http://www.ufcstats.com/event-details/a6a9ab5a...   \n",
       "\n",
       "                                event_name                date  \\\n",
       "0    UFC Fight Night: Blaydes vs. Aspinall       July 23, 2022   \n",
       "1    UFC Fight Night: Ortega vs. Rodriguez       July 16, 2022   \n",
       "2    UFC Fight Night: Dos Anjos vs. Fiziev       July 09, 2022   \n",
       "3          UFC 276: Adesanya vs. Cannonier       July 02, 2022   \n",
       "4    UFC Fight Night: Tsarukyan vs. Gamrot       June 25, 2022   \n",
       "..                                     ...                 ...   \n",
       "608             UFC 6: Clash of the Titans       July 14, 1995   \n",
       "609         UFC 5: The Return of the Beast      April 07, 1995   \n",
       "610         UFC 4: Revenge of the Warriors   December 16, 1994   \n",
       "611              UFC 3: The American Dream  September 09, 1994   \n",
       "612                      UFC 2: No Way Out      March 11, 1994   \n",
       "\n",
       "                            location  \n",
       "0    London, England, United Kingdom  \n",
       "1              Elmont, New York, USA  \n",
       "2             Las Vegas, Nevada, USA  \n",
       "3             Las Vegas, Nevada, USA  \n",
       "4             Las Vegas, Nevada, USA  \n",
       "..                               ...  \n",
       "608             Casper, Wyoming, USA  \n",
       "609   Charlotte, North Carolina, USA  \n",
       "610             Tulsa, Oklahoma, USA  \n",
       "611   Charlotte, North Carolina, USA  \n",
       "612            Denver, Colorado, USA  \n",
       "\n",
       "[613 rows x 4 columns]"
      ]
     },
     "execution_count": 44,
     "metadata": {},
     "output_type": "execute_result"
    }
   ],
   "source": [
    "fights_df = eventslist2df(fights_list)\n",
    "fights_df"
   ]
  },
  {
   "cell_type": "code",
   "execution_count": 241,
   "metadata": {
    "ExecuteTime": {
     "end_time": "2022-07-31T16:59:48.667661Z",
     "start_time": "2022-07-31T16:53:38.773927Z"
    }
   },
   "outputs": [
    {
     "name": "stderr",
     "output_type": "stream",
     "text": [
      "100%|████████████████████████████████████████████████████████████████████████████████████████████████████| 613/613 [06:09<00:00,  1.66it/s]\n"
     ]
    }
   ],
   "source": [
    "fights_info_dict = get_fights_info(fights_urls=fights_df['event_url'].values.tolist())"
   ]
  },
  {
   "cell_type": "code",
   "execution_count": null,
   "metadata": {},
   "outputs": [],
   "source": []
  }
 ],
 "metadata": {
  "kernelspec": {
   "display_name": "Python 3 (ipykernel)",
   "language": "python",
   "name": "python3"
  },
  "language_info": {
   "codemirror_mode": {
    "name": "ipython",
    "version": 3
   },
   "file_extension": ".py",
   "mimetype": "text/x-python",
   "name": "python",
   "nbconvert_exporter": "python",
   "pygments_lexer": "ipython3",
   "version": "3.9.10"
  },
  "toc": {
   "base_numbering": 1,
   "nav_menu": {},
   "number_sections": true,
   "sideBar": true,
   "skip_h1_title": false,
   "title_cell": "Table of Contents",
   "title_sidebar": "Contents",
   "toc_cell": false,
   "toc_position": {},
   "toc_section_display": true,
   "toc_window_display": false
  },
  "varInspector": {
   "cols": {
    "lenName": 16,
    "lenType": 16,
    "lenVar": 40
   },
   "kernels_config": {
    "python": {
     "delete_cmd_postfix": "",
     "delete_cmd_prefix": "del ",
     "library": "var_list.py",
     "varRefreshCmd": "print(var_dic_list())"
    },
    "r": {
     "delete_cmd_postfix": ") ",
     "delete_cmd_prefix": "rm(",
     "library": "var_list.r",
     "varRefreshCmd": "cat(var_dic_list()) "
    }
   },
   "types_to_exclude": [
    "module",
    "function",
    "builtin_function_or_method",
    "instance",
    "_Feature"
   ],
   "window_display": false
  }
 },
 "nbformat": 4,
 "nbformat_minor": 1
}
