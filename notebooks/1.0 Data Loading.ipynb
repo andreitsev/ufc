{
 "cells": [
  {
   "cell_type": "code",
   "execution_count": 3,
   "metadata": {
    "ExecuteTime": {
     "end_time": "2023-01-08T16:49:38.050917Z",
     "start_time": "2023-01-08T16:49:37.942899Z"
    }
   },
   "outputs": [],
   "source": [
    "%load_ext autoreload\n",
    "%autoreload 2"
   ]
  },
  {
   "cell_type": "code",
   "execution_count": 4,
   "metadata": {
    "ExecuteTime": {
     "end_time": "2023-01-08T16:49:48.056834Z",
     "start_time": "2023-01-08T16:49:38.577803Z"
    },
    "pycharm": {
     "name": "#%%\n"
    }
   },
   "outputs": [],
   "source": [
    "import os\n",
    "from os.path import join as p_join\n",
    "import sys\n",
    "from typing import List, Tuple, Dict, Set, Any, Optional, Callable\n",
    "from pathlib import Path\n",
    "sys.path.insert(0, str(Path(os.getcwd()).parent))\n",
    "import requests\n",
    "from tqdm import tqdm\n",
    "try:\n",
    "    from fabulous import color as fb_color\n",
    "    color_print = lambda x, color='green': print(getattr(fb_color, color)(x)) if 'fb_color' in globals() else print(x)\n",
    "except Exception as e:\n",
    "    color_print = lambda x, color='green': print(x)\n",
    "\n",
    "from bs4 import BeautifulSoup\n",
    "import numpy as np\n",
    "import pandas as pd\n",
    "import matplotlib\n",
    "import matplotlib.pyplot as plt\n",
    "import seaborn as sns\n",
    "%matplotlib inline"
   ]
  },
  {
   "cell_type": "code",
   "execution_count": 6,
   "metadata": {
    "ExecuteTime": {
     "end_time": "2023-01-08T16:49:48.163314Z",
     "start_time": "2023-01-08T16:49:48.060843Z"
    }
   },
   "outputs": [],
   "source": [
    "from src.parse_utils import get_events_list, get_events_info, get_fighters_info, get_one_fight_stats\n",
    "from src.processing import eventslist2df"
   ]
  },
  {
   "cell_type": "code",
   "execution_count": 7,
   "metadata": {
    "ExecuteTime": {
     "end_time": "2023-01-08T16:49:48.208913Z",
     "start_time": "2023-01-08T16:49:48.166249Z"
    },
    "pycharm": {
     "name": "#%%\n"
    }
   },
   "outputs": [],
   "source": [
    "matplotlib.rcParams['figure.figsize'] = (8, 8)\n",
    "sns.set_style('whitegrid')"
   ]
  },
  {
   "cell_type": "markdown",
   "metadata": {
    "pycharm": {
     "name": "#%% md\n"
    }
   },
   "source": [
    "---"
   ]
  },
  {
   "cell_type": "code",
   "execution_count": 9,
   "metadata": {
    "ExecuteTime": {
     "end_time": "2023-01-08T18:41:24.416880Z",
     "start_time": "2023-01-08T18:41:24.373157Z"
    }
   },
   "outputs": [
    {
     "name": "stdout",
     "output_type": "stream",
     "text": [
      "PARSED_DATA_PATH: /home/aiandrejcev/ufc/data/raw/all_fights.json\n"
     ]
    }
   ],
   "source": [
    "PARSED_DATA_PATH = p_join(str(Path(os.getcwd()).parent), 'data/raw/all_fights.json')\n",
    "print(f\"PARSED_DATA_PATH: {PARSED_DATA_PATH}\")"
   ]
  },
  {
   "cell_type": "code",
   "execution_count": 10,
   "metadata": {
    "ExecuteTime": {
     "end_time": "2023-01-08T16:49:49.736320Z",
     "start_time": "2023-01-08T16:49:48.212804Z"
    }
   },
   "outputs": [
    {
     "name": "stdout",
     "output_type": "stream",
     "text": [
      "True\n",
      "630\n"
     ]
    },
    {
     "data": {
      "text/plain": [
       "[{'event_url': 'http://www.ufcstats.com/event-details/56ec58954158966a',\n",
       "  'event_name': 'UFC Fight Night: Cannonier vs. Strickland',\n",
       "  'date': 'December 17, 2022',\n",
       "  'location': 'Las Vegas, Nevada, USA'},\n",
       " {'event_url': 'http://www.ufcstats.com/event-details/f65a0eb902f9476b',\n",
       "  'event_name': 'UFC 282: Blachowicz vs. Ankalaev',\n",
       "  'date': 'December 10, 2022',\n",
       "  'location': 'Las Vegas, Nevada, USA'},\n",
       " {'event_url': 'http://www.ufcstats.com/event-details/b23388ff8ac6637b',\n",
       "  'event_name': 'UFC Fight Night: Thompson vs. Holland',\n",
       "  'date': 'December 03, 2022',\n",
       "  'location': 'Orlando, Florida, USA'}]"
      ]
     },
     "execution_count": 10,
     "metadata": {},
     "output_type": "execute_result"
    }
   ],
   "source": [
    "fights_list, status_ok = get_events_list()\n",
    "print(status_ok)\n",
    "print(len(fights_list))\n",
    "fights_list[:3]"
   ]
  },
  {
   "cell_type": "code",
   "execution_count": 13,
   "metadata": {
    "ExecuteTime": {
     "end_time": "2023-01-08T16:49:58.617518Z",
     "start_time": "2023-01-08T16:49:58.503258Z"
    }
   },
   "outputs": [
    {
     "data": {
      "text/html": [
       "<div>\n",
       "<style scoped>\n",
       "    .dataframe tbody tr th:only-of-type {\n",
       "        vertical-align: middle;\n",
       "    }\n",
       "\n",
       "    .dataframe tbody tr th {\n",
       "        vertical-align: top;\n",
       "    }\n",
       "\n",
       "    .dataframe thead th {\n",
       "        text-align: right;\n",
       "    }\n",
       "</style>\n",
       "<table border=\"1\" class=\"dataframe\">\n",
       "  <thead>\n",
       "    <tr style=\"text-align: right;\">\n",
       "      <th></th>\n",
       "      <th>event_url</th>\n",
       "      <th>event_name</th>\n",
       "      <th>date</th>\n",
       "      <th>location</th>\n",
       "    </tr>\n",
       "  </thead>\n",
       "  <tbody>\n",
       "    <tr>\n",
       "      <th>0</th>\n",
       "      <td>http://www.ufcstats.com/event-details/56ec5895...</td>\n",
       "      <td>UFC Fight Night: Cannonier vs. Strickland</td>\n",
       "      <td>December 17, 2022</td>\n",
       "      <td>Las Vegas, Nevada, USA</td>\n",
       "    </tr>\n",
       "    <tr>\n",
       "      <th>1</th>\n",
       "      <td>http://www.ufcstats.com/event-details/f65a0eb9...</td>\n",
       "      <td>UFC 282: Blachowicz vs. Ankalaev</td>\n",
       "      <td>December 10, 2022</td>\n",
       "      <td>Las Vegas, Nevada, USA</td>\n",
       "    </tr>\n",
       "    <tr>\n",
       "      <th>2</th>\n",
       "      <td>http://www.ufcstats.com/event-details/b23388ff...</td>\n",
       "      <td>UFC Fight Night: Thompson vs. Holland</td>\n",
       "      <td>December 03, 2022</td>\n",
       "      <td>Orlando, Florida, USA</td>\n",
       "    </tr>\n",
       "    <tr>\n",
       "      <th>3</th>\n",
       "      <td>http://www.ufcstats.com/event-details/012fc7cd...</td>\n",
       "      <td>UFC Fight Night: Nzechukwu vs. Cutelaba</td>\n",
       "      <td>November 19, 2022</td>\n",
       "      <td>Las Vegas, Nevada, USA</td>\n",
       "    </tr>\n",
       "    <tr>\n",
       "      <th>4</th>\n",
       "      <td>http://www.ufcstats.com/event-details/b3b6e80b...</td>\n",
       "      <td>UFC 281: Adesanya vs. Pereira</td>\n",
       "      <td>November 12, 2022</td>\n",
       "      <td>New York City, New York, USA</td>\n",
       "    </tr>\n",
       "    <tr>\n",
       "      <th>...</th>\n",
       "      <td>...</td>\n",
       "      <td>...</td>\n",
       "      <td>...</td>\n",
       "      <td>...</td>\n",
       "    </tr>\n",
       "    <tr>\n",
       "      <th>625</th>\n",
       "      <td>http://www.ufcstats.com/event-details/1c3f5e85...</td>\n",
       "      <td>UFC 6: Clash of the Titans</td>\n",
       "      <td>July 14, 1995</td>\n",
       "      <td>Casper, Wyoming, USA</td>\n",
       "    </tr>\n",
       "    <tr>\n",
       "      <th>626</th>\n",
       "      <td>http://www.ufcstats.com/event-details/dedc3bb4...</td>\n",
       "      <td>UFC 5: The Return of the Beast</td>\n",
       "      <td>April 07, 1995</td>\n",
       "      <td>Charlotte, North Carolina, USA</td>\n",
       "    </tr>\n",
       "    <tr>\n",
       "      <th>627</th>\n",
       "      <td>http://www.ufcstats.com/event-details/b60391da...</td>\n",
       "      <td>UFC 4: Revenge of the Warriors</td>\n",
       "      <td>December 16, 1994</td>\n",
       "      <td>Tulsa, Oklahoma, USA</td>\n",
       "    </tr>\n",
       "    <tr>\n",
       "      <th>628</th>\n",
       "      <td>http://www.ufcstats.com/event-details/1a49e067...</td>\n",
       "      <td>UFC 3: The American Dream</td>\n",
       "      <td>September 09, 1994</td>\n",
       "      <td>Charlotte, North Carolina, USA</td>\n",
       "    </tr>\n",
       "    <tr>\n",
       "      <th>629</th>\n",
       "      <td>http://www.ufcstats.com/event-details/a6a9ab5a...</td>\n",
       "      <td>UFC 2: No Way Out</td>\n",
       "      <td>March 11, 1994</td>\n",
       "      <td>Denver, Colorado, USA</td>\n",
       "    </tr>\n",
       "  </tbody>\n",
       "</table>\n",
       "<p>630 rows × 4 columns</p>\n",
       "</div>"
      ],
      "text/plain": [
       "                                             event_url  \\\n",
       "0    http://www.ufcstats.com/event-details/56ec5895...   \n",
       "1    http://www.ufcstats.com/event-details/f65a0eb9...   \n",
       "2    http://www.ufcstats.com/event-details/b23388ff...   \n",
       "3    http://www.ufcstats.com/event-details/012fc7cd...   \n",
       "4    http://www.ufcstats.com/event-details/b3b6e80b...   \n",
       "..                                                 ...   \n",
       "625  http://www.ufcstats.com/event-details/1c3f5e85...   \n",
       "626  http://www.ufcstats.com/event-details/dedc3bb4...   \n",
       "627  http://www.ufcstats.com/event-details/b60391da...   \n",
       "628  http://www.ufcstats.com/event-details/1a49e067...   \n",
       "629  http://www.ufcstats.com/event-details/a6a9ab5a...   \n",
       "\n",
       "                                    event_name                date  \\\n",
       "0    UFC Fight Night: Cannonier vs. Strickland   December 17, 2022   \n",
       "1             UFC 282: Blachowicz vs. Ankalaev   December 10, 2022   \n",
       "2        UFC Fight Night: Thompson vs. Holland   December 03, 2022   \n",
       "3      UFC Fight Night: Nzechukwu vs. Cutelaba   November 19, 2022   \n",
       "4                UFC 281: Adesanya vs. Pereira   November 12, 2022   \n",
       "..                                         ...                 ...   \n",
       "625                 UFC 6: Clash of the Titans       July 14, 1995   \n",
       "626             UFC 5: The Return of the Beast      April 07, 1995   \n",
       "627             UFC 4: Revenge of the Warriors   December 16, 1994   \n",
       "628                  UFC 3: The American Dream  September 09, 1994   \n",
       "629                          UFC 2: No Way Out      March 11, 1994   \n",
       "\n",
       "                           location  \n",
       "0            Las Vegas, Nevada, USA  \n",
       "1            Las Vegas, Nevada, USA  \n",
       "2             Orlando, Florida, USA  \n",
       "3            Las Vegas, Nevada, USA  \n",
       "4      New York City, New York, USA  \n",
       "..                              ...  \n",
       "625            Casper, Wyoming, USA  \n",
       "626  Charlotte, North Carolina, USA  \n",
       "627            Tulsa, Oklahoma, USA  \n",
       "628  Charlotte, North Carolina, USA  \n",
       "629           Denver, Colorado, USA  \n",
       "\n",
       "[630 rows x 4 columns]"
      ]
     },
     "execution_count": 13,
     "metadata": {},
     "output_type": "execute_result"
    }
   ],
   "source": [
    "fights_df = eventslist2df(fights_list)\n",
    "fights_df"
   ]
  },
  {
   "cell_type": "code",
   "execution_count": 8,
   "metadata": {
    "ExecuteTime": {
     "end_time": "2022-08-28T15:43:40.050768Z",
     "start_time": "2022-08-28T15:43:40.021373Z"
    }
   },
   "outputs": [],
   "source": [
    "# from src.parse_utils import get_events_info"
   ]
  },
  {
   "cell_type": "code",
   "execution_count": 9,
   "metadata": {
    "ExecuteTime": {
     "end_time": "2022-08-28T15:43:43.384407Z",
     "start_time": "2022-08-28T15:43:43.354950Z"
    },
    "code_folding": [
     0,
     15,
     19
    ]
   },
   "outputs": [],
   "source": [
    "# event_urls = ['http://www.ufcstats.com/event-details/a23e63184c65f5b8']\n",
    "# events_stats_dict = {}\n",
    "# for event_url in tqdm(event_urls):\n",
    "#     one_event = requests.get(event_url)\n",
    "#     one_event = BeautifulSoup(one_event.content, 'lxml')\n",
    "\n",
    "#     fights_in_1_event = (\n",
    "#             one_event\n",
    "#             .find_all(\n",
    "#                     \"tr\", {\n",
    "#                             \"class\": \"b-fight-details__table-row b-fight-details__table-row__hover js-fight-details-click\"\n",
    "#                     }\n",
    "#             )\n",
    "#     )\n",
    "\n",
    "#     stat_cols_names = (\n",
    "#             one_event.find_all('thead', {'class': \"b-fight-details__table-head\"})[0]\n",
    "#             .find_all('th', {'class': \"b-fight-details__table-col\"})\n",
    "#     )\n",
    "#     item_number2stat_mapping = {\n",
    "#             i: stat.text.strip().lower().replace('/', '_').replace(' ', '_') for i, stat in enumerate(stat_cols_names)\n",
    "#     }\n",
    "\n",
    "#     one_event_stats_list = []\n",
    "#     for i, one_fight in enumerate(fights_in_1_event):\n",
    "#         one_fights_stats = one_fight.find_all('td', {\"class\": \"b-fight-details__table-col\"})\n",
    "\n",
    "#         curr_fight_stats_dict = {}\n",
    "#         for j, stat in enumerate(one_fights_stats):\n",
    "#                 stat = stat.find_all('p', {'class': 'b-fight-details__table-text'})\n",
    "#                 if len(stat) == 1:\n",
    "#                         curr_fight_stats_dict[item_number2stat_mapping[j]] = stat[0].text.strip()\n",
    "#                 elif len(stat) == 2:\n",
    "#                         curr_fight_stats_dict[item_number2stat_mapping[j]] = []\n",
    "#                         for val in stat:\n",
    "#                                 curr_fight_stats_dict[item_number2stat_mapping[j]].append(val.text.strip())\n",
    "#                 else:\n",
    "#                         raise ValueError(\"it's not expected to be more than 2 values!\")\n",
    "\n",
    "#         one_event_stats_list.append(curr_fight_stats_dict)\n",
    "#     events_stats_dict[event_url] = one_event_stats_list"
   ]
  },
  {
   "cell_type": "code",
   "execution_count": 10,
   "metadata": {
    "ExecuteTime": {
     "end_time": "2022-08-28T15:43:51.439920Z",
     "start_time": "2022-08-28T15:43:51.410500Z"
    }
   },
   "outputs": [],
   "source": [
    "# fights_info_dict = get_events_info(event_urls=fights_df['event_url'].values.tolist())\n",
    "# print(len(fights_info_dict))"
   ]
  },
  {
   "cell_type": "code",
   "execution_count": 9,
   "metadata": {
    "ExecuteTime": {
     "end_time": "2023-01-08T18:41:24.369073Z",
     "start_time": "2023-01-08T16:50:34.031776Z"
    },
    "scrolled": true
   },
   "outputs": [
    {
     "name": "stderr",
     "output_type": "stream",
     "text": [
      "\n",
      "  0%|                                                                                                                                           | 0/630 [00:00<?, ?it/s]\u001b[A\n",
      "  0%|▏                                                                                                                                | 1/630 [00:12<2:15:09, 12.89s/it]\u001b[A\n",
      "  0%|▍                                                                                                                                | 2/630 [00:24<2:07:06, 12.14s/it]\u001b[A\n",
      "  0%|▌                                                                                                                                | 3/630 [00:38<2:16:12, 13.03s/it]\u001b[A\n",
      "  1%|▊                                                                                                                                | 4/630 [00:48<2:05:02, 11.99s/it]\u001b[A\n",
      "  1%|█                                                                                                                                | 5/630 [01:02<2:09:51, 12.47s/it]\u001b[A\n",
      "  1%|█▏                                                                                                                               | 6/630 [01:12<2:02:24, 11.77s/it]\u001b[A\n",
      "  1%|█▍                                                                                                                               | 7/630 [01:22<1:56:21, 11.21s/it]\u001b[A\n",
      "  1%|█▋                                                                                                                               | 8/630 [01:34<1:58:02, 11.39s/it]\u001b[A\n",
      "  1%|█▊                                                                                                                               | 9/630 [01:45<1:55:24, 11.15s/it]\u001b[A\n",
      "  2%|██                                                                                                                              | 10/630 [01:55<1:53:17, 10.96s/it]\u001b[A\n",
      "  2%|██▏                                                                                                                             | 11/630 [02:07<1:57:14, 11.36s/it]\u001b[A\n",
      "  2%|██▍                                                                                                                             | 12/630 [02:20<2:00:24, 11.69s/it]\u001b[A\n",
      "  2%|██▋                                                                                                                             | 13/630 [02:31<1:59:27, 11.62s/it]\u001b[A\n",
      "  2%|██▊                                                                                                                             | 14/630 [02:43<1:59:41, 11.66s/it]\u001b[A\n",
      "  2%|███                                                                                                                             | 15/630 [02:56<2:02:09, 11.92s/it]\u001b[A\n",
      "  3%|███▎                                                                                                                            | 16/630 [03:06<1:56:01, 11.34s/it]\u001b[A\n",
      "  3%|███▍                                                                                                                            | 17/630 [03:18<2:00:30, 11.79s/it]\u001b[A\n",
      "  3%|███▋                                                                                                                            | 18/630 [03:32<2:06:25, 12.39s/it]\u001b[A\n",
      "  3%|███▊                                                                                                                            | 19/630 [03:37<1:42:24, 10.06s/it]\u001b[A\n",
      "  3%|████                                                                                                                            | 20/630 [03:48<1:45:00, 10.33s/it]\u001b[A\n",
      "  3%|████▎                                                                                                                           | 21/630 [04:00<1:50:03, 10.84s/it]\u001b[A\n",
      "  3%|████▍                                                                                                                           | 22/630 [04:11<1:50:09, 10.87s/it]\u001b[A\n",
      "  4%|████▋                                                                                                                           | 23/630 [04:23<1:54:36, 11.33s/it]\u001b[A\n",
      "  4%|████▉                                                                                                                           | 24/630 [04:35<1:55:08, 11.40s/it]\u001b[A\n",
      "  4%|█████                                                                                                                           | 25/630 [04:48<1:59:54, 11.89s/it]\u001b[A\n",
      "  4%|█████▎                                                                                                                          | 26/630 [04:58<1:55:26, 11.47s/it]\u001b[A\n",
      "  4%|█████▍                                                                                                                          | 27/630 [05:09<1:53:17, 11.27s/it]\u001b[A\n",
      "  4%|█████▋                                                                                                                          | 28/630 [05:22<1:57:38, 11.72s/it]\u001b[A\n",
      "  5%|█████▉                                                                                                                          | 29/630 [05:33<1:55:58, 11.58s/it]\u001b[A\n",
      "  5%|██████                                                                                                                          | 30/630 [05:43<1:52:03, 11.21s/it]\u001b[A\n",
      "  5%|██████▎                                                                                                                         | 31/630 [05:57<1:58:38, 11.88s/it]\u001b[A\n",
      "  5%|██████▌                                                                                                                         | 32/630 [06:09<1:57:58, 11.84s/it]\u001b[A\n",
      "  5%|██████▋                                                                                                                         | 33/630 [06:21<1:58:11, 11.88s/it]\u001b[A\n",
      "  5%|██████▉                                                                                                                         | 34/630 [06:33<1:58:01, 11.88s/it]\u001b[A\n",
      "  6%|███████                                                                                                                         | 35/630 [06:46<2:02:13, 12.32s/it]\u001b[A\n",
      "  6%|███████▎                                                                                                                        | 36/630 [06:59<2:03:19, 12.46s/it]\u001b[A\n",
      "  6%|███████▌                                                                                                                        | 37/630 [07:09<1:58:07, 11.95s/it]\u001b[A\n",
      "  6%|███████▋                                                                                                                        | 38/630 [07:21<1:57:06, 11.87s/it]\u001b[A\n",
      "  6%|███████▉                                                                                                                        | 39/630 [07:35<2:01:52, 12.37s/it]\u001b[A\n",
      "  6%|████████▏                                                                                                                       | 40/630 [07:47<2:02:29, 12.46s/it]\u001b[A\n",
      "  7%|████████▎                                                                                                                       | 41/630 [07:58<1:56:38, 11.88s/it]\u001b[A\n",
      "  7%|████████▌                                                                                                                       | 42/630 [08:08<1:50:20, 11.26s/it]\u001b[A\n",
      "  7%|████████▋                                                                                                                       | 43/630 [08:20<1:53:43, 11.62s/it]\u001b[A\n",
      "  7%|████████▉                                                                                                                       | 44/630 [08:34<1:59:13, 12.21s/it]\u001b[A\n",
      "  7%|█████████▏                                                                                                                      | 45/630 [08:46<1:59:56, 12.30s/it]\u001b[A\n",
      "  7%|█████████▎                                                                                                                      | 46/630 [09:00<2:03:22, 12.68s/it]\u001b[A\n"
     ]
    },
    {
     "name": "stderr",
     "output_type": "stream",
     "text": [
      "  7%|█████████▌                                                                                                                      | 47/630 [09:10<1:56:43, 12.01s/it]\u001b[A\n",
      "  8%|█████████▊                                                                                                                      | 48/630 [09:24<2:00:34, 12.43s/it]\u001b[A\n",
      "  8%|█████████▉                                                                                                                      | 49/630 [09:39<2:09:58, 13.42s/it]\u001b[A\n",
      "  8%|██████████▏                                                                                                                     | 50/630 [09:58<2:23:23, 14.83s/it]\u001b[A\n",
      "  8%|██████████▎                                                                                                                     | 51/630 [10:07<2:07:41, 13.23s/it]\u001b[A\n",
      "  8%|██████████▌                                                                                                                     | 52/630 [10:11<1:40:19, 10.41s/it]\u001b[A\n",
      "  8%|██████████▊                                                                                                                     | 53/630 [10:20<1:36:23, 10.02s/it]\u001b[A\n",
      "  9%|██████████▉                                                                                                                     | 54/630 [10:30<1:35:13,  9.92s/it]\u001b[A\n",
      "  9%|███████████▏                                                                                                                    | 55/630 [10:40<1:37:41, 10.19s/it]\u001b[A\n",
      "  9%|███████████▍                                                                                                                    | 56/630 [10:48<1:30:40,  9.48s/it]\u001b[A\n",
      "  9%|███████████▌                                                                                                                    | 57/630 [10:59<1:35:24,  9.99s/it]\u001b[A\n",
      "  9%|███████████▊                                                                                                                    | 58/630 [11:11<1:40:31, 10.54s/it]\u001b[A\n",
      "  9%|███████████▉                                                                                                                    | 59/630 [11:24<1:46:54, 11.23s/it]\u001b[A\n",
      " 10%|████████████▏                                                                                                                   | 60/630 [11:34<1:42:47, 10.82s/it]\u001b[A\n",
      " 10%|████████████▍                                                                                                                   | 61/630 [11:45<1:43:05, 10.87s/it]\u001b[A\n",
      " 10%|████████████▌                                                                                                                   | 62/630 [11:55<1:39:32, 10.51s/it]\u001b[A\n",
      " 10%|████████████▊                                                                                                                   | 63/630 [12:06<1:41:46, 10.77s/it]\u001b[A\n",
      " 10%|█████████████                                                                                                                   | 64/630 [12:19<1:47:21, 11.38s/it]\u001b[A\n",
      " 10%|█████████████▏                                                                                                                  | 65/630 [12:31<1:50:04, 11.69s/it]\u001b[A\n",
      " 10%|█████████████▍                                                                                                                  | 66/630 [12:45<1:56:33, 12.40s/it]\u001b[A\n",
      " 11%|█████████████▌                                                                                                                  | 67/630 [12:58<1:57:12, 12.49s/it]\u001b[A\n",
      " 11%|█████████████▊                                                                                                                  | 68/630 [13:10<1:54:29, 12.22s/it]\u001b[A\n",
      " 11%|██████████████                                                                                                                  | 69/630 [13:21<1:52:00, 11.98s/it]\u001b[A\n",
      " 11%|██████████████▏                                                                                                                 | 70/630 [13:30<1:43:43, 11.11s/it]\u001b[A\n",
      " 11%|██████████████▍                                                                                                                 | 71/630 [13:41<1:42:19, 10.98s/it]\u001b[A\n",
      " 11%|██████████████▋                                                                                                                 | 72/630 [13:53<1:45:48, 11.38s/it]\u001b[A\n",
      " 12%|██████████████▊                                                                                                                 | 73/630 [14:03<1:41:45, 10.96s/it]\u001b[A\n",
      " 12%|███████████████                                                                                                                 | 74/630 [14:16<1:46:04, 11.45s/it]\u001b[A\n",
      " 12%|███████████████▏                                                                                                                | 75/630 [14:26<1:41:36, 10.99s/it]\u001b[A\n",
      " 12%|███████████████▍                                                                                                                | 76/630 [14:36<1:38:54, 10.71s/it]\u001b[A\n",
      " 12%|███████████████▋                                                                                                                | 77/630 [14:49<1:45:47, 11.48s/it]\u001b[A\n",
      " 12%|███████████████▊                                                                                                                | 78/630 [15:03<1:53:44, 12.36s/it]\u001b[A\n",
      " 13%|████████████████                                                                                                                | 79/630 [15:14<1:47:31, 11.71s/it]\u001b[A\n",
      " 13%|████████████████▎                                                                                                               | 80/630 [15:25<1:45:55, 11.55s/it]\u001b[A\n",
      " 13%|████████████████▍                                                                                                               | 81/630 [15:35<1:41:33, 11.10s/it]\u001b[A\n",
      " 13%|████████████████▋                                                                                                               | 82/630 [15:46<1:43:03, 11.28s/it]\u001b[A\n",
      " 13%|████████████████▊                                                                                                               | 83/630 [15:57<1:39:56, 10.96s/it]\u001b[A\n",
      " 13%|█████████████████                                                                                                               | 84/630 [16:09<1:44:22, 11.47s/it]\u001b[A\n",
      " 13%|█████████████████▎                                                                                                              | 85/630 [16:18<1:37:41, 10.75s/it]\u001b[A\n",
      " 14%|█████████████████▍                                                                                                              | 86/630 [16:31<1:41:46, 11.23s/it]\u001b[A\n",
      " 14%|█████████████████▋                                                                                                              | 87/630 [16:41<1:38:19, 10.86s/it]\u001b[A\n",
      " 14%|█████████████████▉                                                                                                              | 88/630 [16:49<1:31:00, 10.07s/it]\u001b[A\n",
      " 14%|██████████████████                                                                                                              | 89/630 [16:59<1:29:37,  9.94s/it]\u001b[A\n",
      " 14%|██████████████████▎                                                                                                             | 90/630 [17:10<1:32:34, 10.29s/it]\u001b[A\n",
      " 14%|██████████████████▍                                                                                                             | 91/630 [17:19<1:29:38,  9.98s/it]\u001b[A\n",
      " 15%|██████████████████▋                                                                                                             | 92/630 [17:29<1:30:45, 10.12s/it]\u001b[A\n",
      " 15%|██████████████████▉                                                                                                             | 93/630 [17:39<1:30:01, 10.06s/it]\u001b[A\n"
     ]
    },
    {
     "name": "stderr",
     "output_type": "stream",
     "text": [
      " 15%|███████████████████                                                                                                             | 94/630 [17:51<1:33:13, 10.44s/it]\u001b[A\n",
      " 15%|███████████████████▎                                                                                                            | 95/630 [18:02<1:34:24, 10.59s/it]\u001b[A\n",
      " 15%|███████████████████▌                                                                                                            | 96/630 [18:14<1:38:47, 11.10s/it]\u001b[A\n",
      " 15%|███████████████████▋                                                                                                            | 97/630 [18:25<1:38:42, 11.11s/it]\u001b[A\n",
      " 16%|███████████████████▉                                                                                                            | 98/630 [18:36<1:37:17, 10.97s/it]\u001b[A\n",
      " 16%|████████████████████                                                                                                            | 99/630 [18:49<1:43:41, 11.72s/it]\u001b[A\n",
      " 16%|████████████████████▏                                                                                                          | 100/630 [19:01<1:43:23, 11.70s/it]\u001b[A\n",
      " 16%|████████████████████▎                                                                                                          | 101/630 [19:08<1:30:51, 10.31s/it]\u001b[A\n",
      " 16%|████████████████████▌                                                                                                          | 102/630 [19:18<1:29:40, 10.19s/it]\u001b[A\n",
      " 16%|████████████████████▊                                                                                                          | 103/630 [19:26<1:24:27,  9.62s/it]\u001b[A\n",
      " 17%|████████████████████▉                                                                                                          | 104/630 [19:37<1:28:09, 10.06s/it]\u001b[A\n",
      " 17%|█████████████████████▏                                                                                                         | 105/630 [19:49<1:31:55, 10.50s/it]\u001b[A\n",
      " 17%|█████████████████████▎                                                                                                         | 106/630 [19:56<1:23:33,  9.57s/it]\u001b[A\n",
      " 17%|█████████████████████▌                                                                                                         | 107/630 [20:10<1:35:57, 11.01s/it]\u001b[A\n",
      " 17%|█████████████████████▊                                                                                                         | 108/630 [20:23<1:38:47, 11.36s/it]\u001b[A\n",
      " 17%|█████████████████████▉                                                                                                         | 109/630 [20:33<1:36:22, 11.10s/it]\u001b[A\n",
      " 17%|██████████████████████▏                                                                                                        | 110/630 [20:46<1:41:53, 11.76s/it]\u001b[A\n",
      " 18%|██████████████████████▍                                                                                                        | 111/630 [20:56<1:35:56, 11.09s/it]\u001b[A\n",
      " 18%|██████████████████████▌                                                                                                        | 112/630 [21:08<1:37:31, 11.30s/it]\u001b[A\n",
      " 18%|██████████████████████▊                                                                                                        | 113/630 [21:17<1:33:15, 10.82s/it]\u001b[A\n",
      " 18%|██████████████████████▉                                                                                                        | 114/630 [21:29<1:36:09, 11.18s/it]\u001b[A\n",
      " 18%|███████████████████████▏                                                                                                       | 115/630 [21:40<1:34:47, 11.04s/it]\u001b[A\n",
      " 18%|███████████████████████▍                                                                                                       | 116/630 [21:51<1:33:53, 10.96s/it]\u001b[A\n",
      " 19%|███████████████████████▌                                                                                                       | 117/630 [22:01<1:31:29, 10.70s/it]\u001b[A\n",
      " 19%|███████████████████████▊                                                                                                       | 118/630 [22:12<1:32:32, 10.84s/it]\u001b[A\n",
      " 19%|███████████████████████▉                                                                                                       | 119/630 [22:24<1:34:31, 11.10s/it]\u001b[A\n",
      " 19%|████████████████████████▏                                                                                                      | 120/630 [22:35<1:34:11, 11.08s/it]\u001b[A\n",
      " 19%|████████████████████████▍                                                                                                      | 121/630 [22:46<1:34:42, 11.16s/it]\u001b[A\n",
      " 19%|████████████████████████▌                                                                                                      | 122/630 [22:58<1:35:49, 11.32s/it]\u001b[A\n",
      " 20%|████████████████████████▊                                                                                                      | 123/630 [23:10<1:38:36, 11.67s/it]\u001b[A\n",
      " 20%|████████████████████████▉                                                                                                      | 124/630 [23:23<1:39:24, 11.79s/it]\u001b[A\n",
      " 20%|█████████████████████████▏                                                                                                     | 125/630 [23:35<1:41:30, 12.06s/it]\u001b[A\n",
      " 20%|█████████████████████████▍                                                                                                     | 126/630 [23:46<1:38:59, 11.79s/it]\u001b[A\n",
      " 20%|█████████████████████████▌                                                                                                     | 127/630 [23:59<1:40:36, 12.00s/it]\u001b[A\n",
      " 20%|█████████████████████████▊                                                                                                     | 128/630 [24:12<1:43:04, 12.32s/it]\u001b[A\n",
      " 20%|██████████████████████████                                                                                                     | 129/630 [24:24<1:41:37, 12.17s/it]\u001b[A\n",
      " 21%|██████████████████████████▏                                                                                                    | 130/630 [24:36<1:41:27, 12.18s/it]\u001b[A\n",
      " 21%|██████████████████████████▍                                                                                                    | 131/630 [24:48<1:41:19, 12.18s/it]\u001b[A\n",
      " 21%|██████████████████████████▌                                                                                                    | 132/630 [25:00<1:39:13, 11.95s/it]\u001b[A\n",
      " 21%|██████████████████████████▊                                                                                                    | 133/630 [25:10<1:36:19, 11.63s/it]\u001b[A\n",
      " 21%|███████████████████████████                                                                                                    | 134/630 [25:22<1:36:05, 11.62s/it]\u001b[A\n",
      " 21%|███████████████████████████▏                                                                                                   | 135/630 [25:36<1:41:56, 12.36s/it]\u001b[A\n",
      " 22%|███████████████████████████▍                                                                                                   | 136/630 [25:47<1:37:05, 11.79s/it]\u001b[A\n",
      " 22%|███████████████████████████▌                                                                                                   | 137/630 [26:00<1:40:02, 12.18s/it]\u001b[A\n",
      " 22%|███████████████████████████▊                                                                                                   | 138/630 [26:11<1:38:05, 11.96s/it]\u001b[A\n",
      " 22%|████████████████████████████                                                                                                   | 139/630 [26:23<1:37:35, 11.92s/it]\u001b[A\n",
      " 22%|████████████████████████████▏                                                                                                  | 140/630 [26:36<1:40:44, 12.34s/it]\u001b[A\n"
     ]
    },
    {
     "name": "stderr",
     "output_type": "stream",
     "text": [
      " 22%|████████████████████████████▍                                                                                                  | 141/630 [26:47<1:35:58, 11.78s/it]\u001b[A\n",
      " 23%|████████████████████████████▋                                                                                                  | 142/630 [26:59<1:36:51, 11.91s/it]\u001b[A\n",
      " 23%|████████████████████████████▊                                                                                                  | 143/630 [27:11<1:37:59, 12.07s/it]\u001b[A\n",
      " 23%|█████████████████████████████                                                                                                  | 144/630 [27:23<1:36:09, 11.87s/it]\u001b[A\n",
      " 23%|█████████████████████████████▏                                                                                                 | 145/630 [27:34<1:34:35, 11.70s/it]\u001b[A\n",
      " 23%|█████████████████████████████▍                                                                                                 | 146/630 [27:47<1:37:29, 12.09s/it]\u001b[A\n",
      " 23%|█████████████████████████████▋                                                                                                 | 147/630 [27:59<1:36:00, 11.93s/it]\u001b[A\n",
      " 23%|█████████████████████████████▊                                                                                                 | 148/630 [28:10<1:34:59, 11.82s/it]\u001b[A\n",
      " 24%|██████████████████████████████                                                                                                 | 149/630 [28:22<1:34:08, 11.74s/it]\u001b[A\n",
      " 24%|██████████████████████████████▏                                                                                                | 150/630 [28:33<1:31:56, 11.49s/it]\u001b[A\n",
      " 24%|██████████████████████████████▍                                                                                                | 151/630 [28:46<1:36:00, 12.03s/it]\u001b[A\n",
      " 24%|██████████████████████████████▋                                                                                                | 152/630 [28:58<1:35:18, 11.96s/it]\u001b[A\n",
      " 24%|██████████████████████████████▊                                                                                                | 153/630 [29:10<1:36:46, 12.17s/it]\u001b[A\n",
      " 24%|███████████████████████████████                                                                                                | 154/630 [29:22<1:34:54, 11.96s/it]\u001b[A\n",
      " 25%|███████████████████████████████▏                                                                                               | 155/630 [29:34<1:35:10, 12.02s/it]\u001b[A\n",
      " 25%|███████████████████████████████▍                                                                                               | 156/630 [29:47<1:38:12, 12.43s/it]\u001b[A\n",
      " 25%|███████████████████████████████▋                                                                                               | 157/630 [29:58<1:33:51, 11.91s/it]\u001b[A\n",
      " 25%|███████████████████████████████▊                                                                                               | 158/630 [30:11<1:36:35, 12.28s/it]\u001b[A\n",
      " 25%|████████████████████████████████                                                                                               | 159/630 [30:23<1:35:29, 12.17s/it]\u001b[A\n",
      " 25%|████████████████████████████████▎                                                                                              | 160/630 [30:35<1:35:29, 12.19s/it]\u001b[A\n",
      " 26%|████████████████████████████████▍                                                                                              | 161/630 [30:47<1:33:09, 11.92s/it]\u001b[A\n",
      " 26%|████████████████████████████████▋                                                                                              | 162/630 [31:00<1:35:13, 12.21s/it]\u001b[A\n",
      " 26%|████████████████████████████████▊                                                                                              | 163/630 [31:11<1:33:40, 12.03s/it]\u001b[A\n",
      " 26%|█████████████████████████████████                                                                                              | 164/630 [31:24<1:34:11, 12.13s/it]\u001b[A\n",
      " 26%|█████████████████████████████████▎                                                                                             | 165/630 [31:36<1:35:47, 12.36s/it]\u001b[A\n",
      " 26%|█████████████████████████████████▍                                                                                             | 166/630 [31:47<1:31:30, 11.83s/it]\u001b[A\n",
      " 27%|█████████████████████████████████▋                                                                                             | 167/630 [32:00<1:32:59, 12.05s/it]\u001b[A\n",
      " 27%|█████████████████████████████████▊                                                                                             | 168/630 [32:12<1:33:40, 12.17s/it]\u001b[A\n",
      " 27%|██████████████████████████████████                                                                                             | 169/630 [32:25<1:34:37, 12.32s/it]\u001b[A\n",
      " 27%|██████████████████████████████████▎                                                                                            | 170/630 [32:37<1:34:29, 12.33s/it]\u001b[A\n",
      " 27%|██████████████████████████████████▍                                                                                            | 171/630 [32:50<1:35:07, 12.43s/it]\u001b[A\n",
      " 27%|██████████████████████████████████▋                                                                                            | 172/630 [33:02<1:34:26, 12.37s/it]\u001b[A\n",
      " 27%|██████████████████████████████████▊                                                                                            | 173/630 [33:14<1:34:17, 12.38s/it]\u001b[A\n",
      " 28%|███████████████████████████████████                                                                                            | 174/630 [33:26<1:31:54, 12.09s/it]\u001b[A\n",
      " 28%|███████████████████████████████████▎                                                                                           | 175/630 [33:38<1:32:32, 12.20s/it]\u001b[A\n",
      " 28%|███████████████████████████████████▍                                                                                           | 176/630 [33:50<1:30:23, 11.95s/it]\u001b[A\n",
      " 28%|███████████████████████████████████▋                                                                                           | 177/630 [34:02<1:30:15, 11.95s/it]\u001b[A\n",
      " 28%|███████████████████████████████████▉                                                                                           | 178/630 [34:14<1:31:04, 12.09s/it]\u001b[A\n",
      " 28%|████████████████████████████████████                                                                                           | 179/630 [34:25<1:29:00, 11.84s/it]\u001b[A\n",
      " 29%|████████████████████████████████████▎                                                                                          | 180/630 [34:39<1:33:18, 12.44s/it]\u001b[A\n",
      " 29%|████████████████████████████████████▍                                                                                          | 181/630 [34:51<1:30:49, 12.14s/it]\u001b[A\n",
      " 29%|████████████████████████████████████▋                                                                                          | 182/630 [35:03<1:32:25, 12.38s/it]\u001b[A\n",
      " 29%|████████████████████████████████████▉                                                                                          | 183/630 [35:16<1:31:39, 12.30s/it]\u001b[A\n",
      " 29%|█████████████████████████████████████                                                                                          | 184/630 [35:27<1:30:20, 12.15s/it]\u001b[A\n",
      " 29%|█████████████████████████████████████▎                                                                                         | 185/630 [35:40<1:31:18, 12.31s/it]\u001b[A\n",
      " 30%|█████████████████████████████████████▍                                                                                         | 186/630 [35:53<1:32:02, 12.44s/it]\u001b[A\n",
      " 30%|█████████████████████████████████████▋                                                                                         | 187/630 [36:05<1:32:00, 12.46s/it]\u001b[A\n"
     ]
    },
    {
     "name": "stderr",
     "output_type": "stream",
     "text": [
      " 30%|█████████████████████████████████████▉                                                                                         | 188/630 [36:16<1:28:20, 11.99s/it]\u001b[A\n",
      " 30%|██████████████████████████████████████                                                                                         | 189/630 [36:28<1:27:01, 11.84s/it]\u001b[A\n",
      " 30%|██████████████████████████████████████▎                                                                                        | 190/630 [36:40<1:27:54, 11.99s/it]\u001b[A\n",
      " 30%|██████████████████████████████████████▌                                                                                        | 191/630 [36:53<1:29:37, 12.25s/it]\u001b[A\n",
      " 30%|██████████████████████████████████████▋                                                                                        | 192/630 [37:05<1:28:21, 12.10s/it]\u001b[A\n",
      " 31%|██████████████████████████████████████▉                                                                                        | 193/630 [37:15<1:24:19, 11.58s/it]\u001b[A\n",
      " 31%|███████████████████████████████████████                                                                                        | 194/630 [37:28<1:27:09, 11.99s/it]\u001b[A\n",
      " 31%|███████████████████████████████████████▎                                                                                       | 195/630 [37:41<1:28:10, 12.16s/it]\u001b[A\n",
      " 31%|███████████████████████████████████████▌                                                                                       | 196/630 [37:51<1:25:06, 11.77s/it]\u001b[A\n",
      " 31%|███████████████████████████████████████▋                                                                                       | 197/630 [38:05<1:29:35, 12.41s/it]\u001b[A\n",
      " 31%|███████████████████████████████████████▉                                                                                       | 198/630 [38:14<1:22:13, 11.42s/it]\u001b[A\n",
      " 32%|████████████████████████████████████████                                                                                       | 199/630 [38:24<1:18:43, 10.96s/it]\u001b[A\n",
      " 32%|████████████████████████████████████████▎                                                                                      | 200/630 [38:37<1:21:14, 11.34s/it]\u001b[A\n",
      " 32%|████████████████████████████████████████▌                                                                                      | 201/630 [38:48<1:21:20, 11.38s/it]\u001b[A\n",
      " 32%|████████████████████████████████████████▋                                                                                      | 202/630 [39:00<1:22:18, 11.54s/it]\u001b[A\n",
      " 32%|████████████████████████████████████████▉                                                                                      | 203/630 [39:12<1:23:07, 11.68s/it]\u001b[A\n",
      " 32%|█████████████████████████████████████████                                                                                      | 204/630 [39:22<1:20:25, 11.33s/it]\u001b[A\n",
      " 33%|█████████████████████████████████████████▎                                                                                     | 205/630 [39:35<1:22:04, 11.59s/it]\u001b[A\n",
      " 33%|█████████████████████████████████████████▌                                                                                     | 206/630 [39:45<1:19:59, 11.32s/it]\u001b[A\n",
      " 33%|█████████████████████████████████████████▋                                                                                     | 207/630 [39:56<1:17:44, 11.03s/it]\u001b[A\n",
      " 33%|█████████████████████████████████████████▉                                                                                     | 208/630 [40:06<1:15:47, 10.78s/it]\u001b[A\n",
      " 33%|██████████████████████████████████████████▏                                                                                    | 209/630 [40:17<1:16:08, 10.85s/it]\u001b[A\n",
      " 33%|██████████████████████████████████████████▎                                                                                    | 210/630 [40:30<1:21:02, 11.58s/it]\u001b[A\n",
      " 33%|██████████████████████████████████████████▌                                                                                    | 211/630 [40:42<1:21:53, 11.73s/it]\u001b[A\n",
      " 34%|██████████████████████████████████████████▋                                                                                    | 212/630 [40:53<1:20:42, 11.59s/it]\u001b[A\n",
      " 34%|██████████████████████████████████████████▉                                                                                    | 213/630 [41:05<1:19:34, 11.45s/it]\u001b[A\n",
      " 34%|███████████████████████████████████████████▏                                                                                   | 214/630 [41:17<1:22:02, 11.83s/it]\u001b[A\n",
      " 34%|███████████████████████████████████████████▎                                                                                   | 215/630 [41:31<1:24:49, 12.26s/it]\u001b[A\n",
      " 34%|███████████████████████████████████████████▌                                                                                   | 216/630 [41:42<1:22:13, 11.92s/it]\u001b[A\n",
      " 34%|███████████████████████████████████████████▋                                                                                   | 217/630 [41:54<1:21:57, 11.91s/it]\u001b[A\n",
      " 35%|███████████████████████████████████████████▉                                                                                   | 218/630 [42:05<1:19:54, 11.64s/it]\u001b[A\n",
      " 35%|████████████████████████████████████████████▏                                                                                  | 219/630 [42:15<1:18:01, 11.39s/it]\u001b[A\n",
      " 35%|████████████████████████████████████████████▎                                                                                  | 220/630 [42:25<1:14:25, 10.89s/it]\u001b[A\n",
      " 35%|████████████████████████████████████████████▌                                                                                  | 221/630 [42:35<1:12:37, 10.65s/it]\u001b[A\n",
      " 35%|████████████████████████████████████████████▊                                                                                  | 222/630 [42:46<1:12:32, 10.67s/it]\u001b[A\n",
      " 35%|████████████████████████████████████████████▉                                                                                  | 223/630 [42:57<1:13:15, 10.80s/it]\u001b[A\n",
      " 36%|█████████████████████████████████████████████▏                                                                                 | 224/630 [43:09<1:14:37, 11.03s/it]\u001b[A\n",
      " 36%|█████████████████████████████████████████████▎                                                                                 | 225/630 [43:20<1:15:10, 11.14s/it]\u001b[A\n",
      " 36%|█████████████████████████████████████████████▌                                                                                 | 226/630 [43:33<1:19:39, 11.83s/it]\u001b[A\n",
      " 36%|█████████████████████████████████████████████▊                                                                                 | 227/630 [43:45<1:18:41, 11.72s/it]\u001b[A\n",
      " 36%|█████████████████████████████████████████████▉                                                                                 | 228/630 [43:56<1:17:16, 11.53s/it]\u001b[A\n",
      " 36%|██████████████████████████████████████████████▏                                                                                | 229/630 [44:06<1:14:55, 11.21s/it]\u001b[A\n",
      " 37%|██████████████████████████████████████████████▎                                                                                | 230/630 [44:19<1:17:47, 11.67s/it]\u001b[A\n",
      " 37%|██████████████████████████████████████████████▌                                                                                | 231/630 [44:32<1:19:16, 11.92s/it]\u001b[A\n",
      " 37%|██████████████████████████████████████████████▊                                                                                | 232/630 [44:42<1:16:34, 11.54s/it]\u001b[A\n",
      " 37%|██████████████████████████████████████████████▉                                                                                | 233/630 [44:54<1:16:43, 11.59s/it]\u001b[A\n",
      " 37%|███████████████████████████████████████████████▏                                                                               | 234/630 [45:06<1:17:30, 11.74s/it]\u001b[A\n"
     ]
    },
    {
     "name": "stderr",
     "output_type": "stream",
     "text": [
      " 37%|███████████████████████████████████████████████▎                                                                               | 235/630 [45:19<1:18:36, 11.94s/it]\u001b[A\n",
      " 37%|███████████████████████████████████████████████▌                                                                               | 236/630 [45:32<1:20:59, 12.33s/it]\u001b[A\n",
      " 38%|███████████████████████████████████████████████▊                                                                               | 237/630 [45:45<1:21:59, 12.52s/it]\u001b[A\n",
      " 38%|███████████████████████████████████████████████▉                                                                               | 238/630 [45:57<1:21:14, 12.43s/it]\u001b[A\n",
      " 38%|████████████████████████████████████████████████▏                                                                              | 239/630 [46:08<1:18:47, 12.09s/it]\u001b[A\n",
      " 38%|████████████████████████████████████████████████▍                                                                              | 240/630 [46:20<1:18:17, 12.05s/it]\u001b[A\n",
      " 38%|████████████████████████████████████████████████▌                                                                              | 241/630 [46:31<1:16:23, 11.78s/it]\u001b[A\n",
      " 38%|████████████████████████████████████████████████▊                                                                              | 242/630 [46:43<1:14:51, 11.58s/it]\u001b[A\n",
      " 39%|████████████████████████████████████████████████▉                                                                              | 243/630 [46:53<1:12:04, 11.17s/it]\u001b[A\n",
      " 39%|█████████████████████████████████████████████████▏                                                                             | 244/630 [47:04<1:11:56, 11.18s/it]\u001b[A\n",
      " 39%|█████████████████████████████████████████████████▍                                                                             | 245/630 [47:16<1:13:06, 11.39s/it]\u001b[A\n",
      " 39%|█████████████████████████████████████████████████▌                                                                             | 246/630 [47:27<1:12:29, 11.33s/it]\u001b[A\n",
      " 39%|█████████████████████████████████████████████████▊                                                                             | 247/630 [47:36<1:08:19, 10.70s/it]\u001b[A\n",
      " 39%|█████████████████████████████████████████████████▉                                                                             | 248/630 [47:48<1:10:28, 11.07s/it]\u001b[A\n",
      " 40%|██████████████████████████████████████████████████▏                                                                            | 249/630 [48:00<1:11:34, 11.27s/it]\u001b[A\n",
      " 40%|██████████████████████████████████████████████████▍                                                                            | 250/630 [48:12<1:12:02, 11.37s/it]\u001b[A\n",
      " 40%|██████████████████████████████████████████████████▌                                                                            | 251/630 [48:24<1:13:27, 11.63s/it]\u001b[A\n",
      " 40%|██████████████████████████████████████████████████▊                                                                            | 252/630 [48:37<1:15:25, 11.97s/it]\u001b[A\n",
      " 40%|███████████████████████████████████████████████████                                                                            | 253/630 [48:48<1:15:08, 11.96s/it]\u001b[A\n",
      " 40%|███████████████████████████████████████████████████▏                                                                           | 254/630 [49:01<1:16:17, 12.17s/it]\u001b[A\n",
      " 40%|███████████████████████████████████████████████████▍                                                                           | 255/630 [49:12<1:13:48, 11.81s/it]\u001b[A\n",
      " 41%|███████████████████████████████████████████████████▌                                                                           | 256/630 [49:25<1:16:07, 12.21s/it]\u001b[A\n",
      " 41%|███████████████████████████████████████████████████▊                                                                           | 257/630 [49:37<1:14:23, 11.97s/it]\u001b[A\n",
      " 41%|████████████████████████████████████████████████████                                                                           | 258/630 [49:48<1:13:54, 11.92s/it]\u001b[A\n",
      " 41%|████████████████████████████████████████████████████▏                                                                          | 259/630 [50:01<1:14:41, 12.08s/it]\u001b[A\n",
      " 41%|████████████████████████████████████████████████████▍                                                                          | 260/630 [50:12<1:12:22, 11.74s/it]\u001b[A\n",
      " 41%|████████████████████████████████████████████████████▌                                                                          | 261/630 [50:22<1:08:42, 11.17s/it]\u001b[A\n",
      " 42%|████████████████████████████████████████████████████▊                                                                          | 262/630 [50:33<1:09:38, 11.36s/it]\u001b[A\n",
      " 42%|█████████████████████████████████████████████████████                                                                          | 263/630 [50:44<1:07:00, 10.96s/it]\u001b[A\n",
      " 42%|█████████████████████████████████████████████████████▏                                                                         | 264/630 [50:55<1:07:52, 11.13s/it]\u001b[A\n",
      " 42%|█████████████████████████████████████████████████████▍                                                                         | 265/630 [51:07<1:09:41, 11.46s/it]\u001b[A\n",
      " 42%|█████████████████████████████████████████████████████▌                                                                         | 266/630 [51:18<1:08:24, 11.28s/it]\u001b[A\n",
      " 42%|█████████████████████████████████████████████████████▊                                                                         | 267/630 [51:29<1:07:43, 11.19s/it]\u001b[A\n",
      " 43%|██████████████████████████████████████████████████████                                                                         | 268/630 [51:41<1:08:15, 11.31s/it]\u001b[A\n",
      " 43%|██████████████████████████████████████████████████████▏                                                                        | 269/630 [51:53<1:09:07, 11.49s/it]\u001b[A\n",
      " 43%|██████████████████████████████████████████████████████▍                                                                        | 270/630 [52:04<1:08:21, 11.39s/it]\u001b[A\n",
      " 43%|██████████████████████████████████████████████████████▋                                                                        | 271/630 [52:16<1:09:32, 11.62s/it]\u001b[A\n",
      " 43%|██████████████████████████████████████████████████████▊                                                                        | 272/630 [52:29<1:11:51, 12.04s/it]\u001b[A\n",
      " 43%|███████████████████████████████████████████████████████                                                                        | 273/630 [52:41<1:11:49, 12.07s/it]\u001b[A\n",
      " 43%|███████████████████████████████████████████████████████▏                                                                       | 274/630 [52:53<1:11:29, 12.05s/it]\u001b[A\n",
      " 44%|███████████████████████████████████████████████████████▍                                                                       | 275/630 [53:05<1:10:59, 12.00s/it]\u001b[A\n",
      " 44%|███████████████████████████████████████████████████████▋                                                                       | 276/630 [53:18<1:12:33, 12.30s/it]\u001b[A\n",
      " 44%|███████████████████████████████████████████████████████▊                                                                       | 277/630 [53:30<1:11:25, 12.14s/it]\u001b[A\n",
      " 44%|████████████████████████████████████████████████████████                                                                       | 278/630 [53:40<1:08:40, 11.71s/it]\u001b[A\n",
      " 44%|████████████████████████████████████████████████████████▏                                                                      | 279/630 [53:53<1:10:32, 12.06s/it]\u001b[A\n",
      " 44%|████████████████████████████████████████████████████████▍                                                                      | 280/630 [54:05<1:10:18, 12.05s/it]\u001b[A\n",
      " 45%|████████████████████████████████████████████████████████▋                                                                      | 281/630 [54:17<1:10:16, 12.08s/it]\u001b[A\n"
     ]
    },
    {
     "name": "stderr",
     "output_type": "stream",
     "text": [
      " 45%|████████████████████████████████████████████████████████▊                                                                      | 282/630 [54:31<1:11:58, 12.41s/it]\u001b[A\n",
      " 45%|█████████████████████████████████████████████████████████                                                                      | 283/630 [54:43<1:11:58, 12.44s/it]\u001b[A\n",
      " 45%|█████████████████████████████████████████████████████████▎                                                                     | 284/630 [54:55<1:10:14, 12.18s/it]\u001b[A\n",
      " 45%|█████████████████████████████████████████████████████████▍                                                                     | 285/630 [55:08<1:11:42, 12.47s/it]\u001b[A\n",
      " 45%|█████████████████████████████████████████████████████████▋                                                                     | 286/630 [55:21<1:12:22, 12.62s/it]\u001b[A\n",
      " 46%|█████████████████████████████████████████████████████████▊                                                                     | 287/630 [55:33<1:11:09, 12.45s/it]\u001b[A\n",
      " 46%|██████████████████████████████████████████████████████████                                                                     | 288/630 [55:46<1:12:21, 12.69s/it]\u001b[A\n",
      " 46%|██████████████████████████████████████████████████████████▎                                                                    | 289/630 [55:58<1:10:51, 12.47s/it]\u001b[A\n",
      " 46%|██████████████████████████████████████████████████████████▍                                                                    | 290/630 [56:08<1:06:31, 11.74s/it]\u001b[A\n",
      " 46%|██████████████████████████████████████████████████████████▋                                                                    | 291/630 [56:21<1:07:34, 11.96s/it]\u001b[A\n",
      " 46%|██████████████████████████████████████████████████████████▊                                                                    | 292/630 [56:31<1:05:25, 11.61s/it]\u001b[A\n",
      " 47%|███████████████████████████████████████████████████████████                                                                    | 293/630 [56:45<1:08:04, 12.12s/it]\u001b[A\n",
      " 47%|███████████████████████████████████████████████████████████▎                                                                   | 294/630 [56:57<1:08:54, 12.31s/it]\u001b[A\n",
      " 47%|███████████████████████████████████████████████████████████▍                                                                   | 295/630 [57:10<1:09:24, 12.43s/it]\u001b[A\n",
      " 47%|███████████████████████████████████████████████████████████▋                                                                   | 296/630 [57:21<1:05:48, 11.82s/it]\u001b[A\n",
      " 47%|███████████████████████████████████████████████████████████▊                                                                   | 297/630 [57:33<1:06:22, 11.96s/it]\u001b[A\n",
      " 47%|████████████████████████████████████████████████████████████                                                                   | 298/630 [57:42<1:02:00, 11.21s/it]\u001b[A\n",
      " 47%|████████████████████████████████████████████████████████████▎                                                                  | 299/630 [57:53<1:01:08, 11.08s/it]\u001b[A\n",
      " 48%|████████████████████████████████████████████████████████████▍                                                                  | 300/630 [58:05<1:02:32, 11.37s/it]\u001b[A\n",
      " 48%|████████████████████████████████████████████████████████████▋                                                                  | 301/630 [58:18<1:04:05, 11.69s/it]\u001b[A\n",
      " 48%|████████████████████████████████████████████████████████████▉                                                                  | 302/630 [58:31<1:06:24, 12.15s/it]\u001b[A\n",
      " 48%|█████████████████████████████████████████████████████████████                                                                  | 303/630 [58:42<1:04:55, 11.91s/it]\u001b[A\n",
      " 48%|█████████████████████████████████████████████████████████████▎                                                                 | 304/630 [58:53<1:03:24, 11.67s/it]\u001b[A\n",
      " 48%|█████████████████████████████████████████████████████████████▍                                                                 | 305/630 [59:05<1:03:49, 11.78s/it]\u001b[A\n",
      " 49%|█████████████████████████████████████████████████████████████▋                                                                 | 306/630 [59:16<1:01:42, 11.43s/it]\u001b[A\n",
      " 49%|██████████████████████████████████████████████████████████████▊                                                                  | 307/630 [59:26<59:44, 11.10s/it]\u001b[A\n",
      " 49%|███████████████████████████████████████████████████████████████                                                                  | 308/630 [59:36<56:47, 10.58s/it]\u001b[A\n",
      " 49%|███████████████████████████████████████████████████████████████▎                                                                 | 309/630 [59:47<57:01, 10.66s/it]\u001b[A\n",
      " 49%|███████████████████████████████████████████████████████████████▍                                                                 | 310/630 [59:57<56:33, 10.61s/it]\u001b[A\n",
      " 49%|██████████████████████████████████████████████████████████████▋                                                                | 311/630 [1:00:09<58:05, 10.93s/it]\u001b[A\n",
      " 50%|██████████████████████████████████████████████████████████████▉                                                                | 312/630 [1:00:20<58:48, 11.10s/it]\u001b[A\n",
      " 50%|███████████████████████████████████████████████████████████████                                                                | 313/630 [1:00:31<58:47, 11.13s/it]\u001b[A\n",
      " 50%|███████████████████████████████████████████████████████████████▎                                                               | 314/630 [1:00:43<58:46, 11.16s/it]\u001b[A\n",
      " 50%|██████████████████████████████████████████████████████████████▌                                                              | 315/630 [1:00:55<1:00:02, 11.44s/it]\u001b[A\n",
      " 50%|███████████████████████████████████████████████████████████████▋                                                               | 316/630 [1:01:06<59:55, 11.45s/it]\u001b[A\n",
      " 50%|███████████████████████████████████████████████████████████████▉                                                               | 317/630 [1:01:17<58:54, 11.29s/it]\u001b[A\n",
      " 50%|████████████████████████████████████████████████████████████████                                                               | 318/630 [1:01:29<59:14, 11.39s/it]\u001b[A\n",
      " 51%|████████████████████████████████████████████████████████████████▎                                                              | 319/630 [1:01:38<56:17, 10.86s/it]\u001b[A\n",
      " 51%|████████████████████████████████████████████████████████████████▌                                                              | 320/630 [1:01:51<58:38, 11.35s/it]\u001b[A\n",
      " 51%|████████████████████████████████████████████████████████████████▋                                                              | 321/630 [1:02:02<58:55, 11.44s/it]\u001b[A\n",
      " 51%|████████████████████████████████████████████████████████████████▉                                                              | 322/630 [1:02:13<57:06, 11.13s/it]\u001b[A\n",
      " 51%|█████████████████████████████████████████████████████████████████                                                              | 323/630 [1:02:24<56:34, 11.06s/it]\u001b[A\n",
      " 51%|█████████████████████████████████████████████████████████████████▎                                                             | 324/630 [1:02:34<54:37, 10.71s/it]\u001b[A\n",
      " 52%|█████████████████████████████████████████████████████████████████▌                                                             | 325/630 [1:02:45<55:25, 10.90s/it]\u001b[A\n",
      " 52%|█████████████████████████████████████████████████████████████████▋                                                             | 326/630 [1:02:56<55:54, 11.03s/it]\u001b[A\n",
      " 52%|█████████████████████████████████████████████████████████████████▉                                                             | 327/630 [1:03:08<56:07, 11.11s/it]\u001b[A\n",
      " 52%|██████████████████████████████████████████████████████████████████                                                             | 328/630 [1:03:18<55:21, 11.00s/it]\u001b[A\n"
     ]
    },
    {
     "name": "stderr",
     "output_type": "stream",
     "text": [
      " 52%|██████████████████████████████████████████████████████████████████▎                                                            | 329/630 [1:03:30<56:20, 11.23s/it]\u001b[A\n",
      " 52%|██████████████████████████████████████████████████████████████████▌                                                            | 330/630 [1:03:42<56:56, 11.39s/it]\u001b[A\n",
      " 53%|██████████████████████████████████████████████████████████████████▋                                                            | 331/630 [1:03:53<56:05, 11.26s/it]\u001b[A\n",
      " 53%|██████████████████████████████████████████████████████████████████▉                                                            | 332/630 [1:04:04<55:14, 11.12s/it]\u001b[A\n",
      " 53%|███████████████████████████████████████████████████████████████████▏                                                           | 333/630 [1:04:15<55:56, 11.30s/it]\u001b[A\n",
      " 53%|███████████████████████████████████████████████████████████████████▎                                                           | 334/630 [1:04:25<53:55, 10.93s/it]\u001b[A\n",
      " 53%|███████████████████████████████████████████████████████████████████▌                                                           | 335/630 [1:04:36<53:02, 10.79s/it]\u001b[A\n",
      " 53%|███████████████████████████████████████████████████████████████████▋                                                           | 336/630 [1:04:46<52:13, 10.66s/it]\u001b[A\n",
      " 53%|███████████████████████████████████████████████████████████████████▉                                                           | 337/630 [1:04:57<51:50, 10.62s/it]\u001b[A\n",
      " 54%|████████████████████████████████████████████████████████████████████▏                                                          | 338/630 [1:05:09<53:19, 10.96s/it]\u001b[A\n",
      " 54%|████████████████████████████████████████████████████████████████████▎                                                          | 339/630 [1:05:19<52:29, 10.82s/it]\u001b[A\n",
      " 54%|████████████████████████████████████████████████████████████████████▌                                                          | 340/630 [1:05:30<52:46, 10.92s/it]\u001b[A\n",
      " 54%|████████████████████████████████████████████████████████████████████▋                                                          | 341/630 [1:05:41<53:06, 11.03s/it]\u001b[A\n",
      " 54%|████████████████████████████████████████████████████████████████████▉                                                          | 342/630 [1:05:53<52:57, 11.03s/it]\u001b[A\n",
      " 54%|█████████████████████████████████████████████████████████████████████▏                                                         | 343/630 [1:06:01<49:37, 10.37s/it]\u001b[A\n",
      " 55%|█████████████████████████████████████████████████████████████████████▎                                                         | 344/630 [1:06:09<45:48,  9.61s/it]\u001b[A\n",
      " 55%|█████████████████████████████████████████████████████████████████████▌                                                         | 345/630 [1:06:21<48:16, 10.16s/it]\u001b[A\n",
      " 55%|█████████████████████████████████████████████████████████████████████▋                                                         | 346/630 [1:06:31<48:28, 10.24s/it]\u001b[A\n",
      " 55%|█████████████████████████████████████████████████████████████████████▉                                                         | 347/630 [1:06:41<47:37, 10.10s/it]\u001b[A\n",
      " 55%|██████████████████████████████████████████████████████████████████████▏                                                        | 348/630 [1:06:52<49:40, 10.57s/it]\u001b[A\n",
      " 55%|██████████████████████████████████████████████████████████████████████▎                                                        | 349/630 [1:07:02<48:38, 10.39s/it]\u001b[A\n",
      " 56%|██████████████████████████████████████████████████████████████████████▌                                                        | 350/630 [1:07:13<49:12, 10.55s/it]\u001b[A\n",
      " 56%|██████████████████████████████████████████████████████████████████████▊                                                        | 351/630 [1:07:24<48:54, 10.52s/it]\u001b[A\n",
      " 56%|██████████████████████████████████████████████████████████████████████▉                                                        | 352/630 [1:07:34<48:40, 10.50s/it]\u001b[A\n",
      " 56%|███████████████████████████████████████████████████████████████████████▏                                                       | 353/630 [1:07:45<48:49, 10.57s/it]\u001b[A\n",
      " 56%|███████████████████████████████████████████████████████████████████████▎                                                       | 354/630 [1:07:55<47:21, 10.30s/it]\u001b[A\n",
      " 56%|███████████████████████████████████████████████████████████████████████▌                                                       | 355/630 [1:08:05<47:26, 10.35s/it]\u001b[A\n",
      " 57%|███████████████████████████████████████████████████████████████████████▊                                                       | 356/630 [1:08:16<48:25, 10.60s/it]\u001b[A\n",
      " 57%|███████████████████████████████████████████████████████████████████████▉                                                       | 357/630 [1:08:29<51:04, 11.23s/it]\u001b[A\n",
      " 57%|████████████████████████████████████████████████████████████████████████▏                                                      | 358/630 [1:08:39<48:51, 10.78s/it]\u001b[A\n",
      " 57%|████████████████████████████████████████████████████████████████████████▎                                                      | 359/630 [1:08:51<50:49, 11.25s/it]\u001b[A\n",
      " 57%|████████████████████████████████████████████████████████████████████████▌                                                      | 360/630 [1:09:04<52:45, 11.72s/it]\u001b[A\n",
      " 57%|████████████████████████████████████████████████████████████████████████▊                                                      | 361/630 [1:09:14<50:02, 11.16s/it]\u001b[A\n",
      " 57%|████████████████████████████████████████████████████████████████████████▉                                                      | 362/630 [1:09:26<50:56, 11.41s/it]\u001b[A\n",
      " 58%|█████████████████████████████████████████████████████████████████████████▏                                                     | 363/630 [1:09:39<53:45, 12.08s/it]\u001b[A\n",
      " 58%|█████████████████████████████████████████████████████████████████████████▍                                                     | 364/630 [1:09:47<48:08, 10.86s/it]\u001b[A\n",
      " 58%|█████████████████████████████████████████████████████████████████████████▌                                                     | 365/630 [1:09:58<47:47, 10.82s/it]\u001b[A\n",
      " 58%|█████████████████████████████████████████████████████████████████████████▊                                                     | 366/630 [1:10:12<51:04, 11.61s/it]\u001b[A\n",
      " 58%|█████████████████████████████████████████████████████████████████████████▉                                                     | 367/630 [1:10:21<47:36, 10.86s/it]\u001b[A\n",
      " 58%|██████████████████████████████████████████████████████████████████████████▏                                                    | 368/630 [1:10:28<43:22,  9.93s/it]\u001b[A\n",
      " 59%|██████████████████████████████████████████████████████████████████████████▍                                                    | 369/630 [1:10:39<44:31, 10.24s/it]\u001b[A\n",
      " 59%|██████████████████████████████████████████████████████████████████████████▌                                                    | 370/630 [1:10:52<47:29, 10.96s/it]\u001b[A\n",
      " 59%|██████████████████████████████████████████████████████████████████████████▊                                                    | 371/630 [1:11:04<48:22, 11.21s/it]\u001b[A\n",
      " 59%|██████████████████████████████████████████████████████████████████████████▉                                                    | 372/630 [1:11:15<47:54, 11.14s/it]\u001b[A\n",
      " 59%|███████████████████████████████████████████████████████████████████████████▏                                                   | 373/630 [1:11:27<49:12, 11.49s/it]\u001b[A\n",
      " 59%|███████████████████████████████████████████████████████████████████████████▍                                                   | 374/630 [1:11:38<47:54, 11.23s/it]\u001b[A\n",
      " 60%|███████████████████████████████████████████████████████████████████████████▌                                                   | 375/630 [1:11:49<47:30, 11.18s/it]\u001b[A\n"
     ]
    },
    {
     "name": "stderr",
     "output_type": "stream",
     "text": [
      " 60%|███████████████████████████████████████████████████████████████████████████▊                                                   | 376/630 [1:11:59<46:38, 11.02s/it]\u001b[A\n",
      " 60%|███████████████████████████████████████████████████████████████████████████▉                                                   | 377/630 [1:12:11<47:03, 11.16s/it]\u001b[A\n",
      " 60%|████████████████████████████████████████████████████████████████████████████▏                                                  | 378/630 [1:12:21<45:10, 10.76s/it]\u001b[A\n",
      " 60%|████████████████████████████████████████████████████████████████████████████▍                                                  | 379/630 [1:12:34<48:16, 11.54s/it]\u001b[A\n",
      " 60%|████████████████████████████████████████████████████████████████████████████▌                                                  | 380/630 [1:12:45<46:57, 11.27s/it]\u001b[A\n",
      " 60%|████████████████████████████████████████████████████████████████████████████▊                                                  | 381/630 [1:12:57<48:32, 11.70s/it]\u001b[A\n",
      " 61%|█████████████████████████████████████████████████████████████████████████████                                                  | 382/630 [1:13:09<47:52, 11.58s/it]\u001b[A\n",
      " 61%|█████████████████████████████████████████████████████████████████████████████▏                                                 | 383/630 [1:13:22<49:10, 11.94s/it]\u001b[A\n",
      " 61%|█████████████████████████████████████████████████████████████████████████████▍                                                 | 384/630 [1:13:32<47:13, 11.52s/it]\u001b[A\n",
      " 61%|█████████████████████████████████████████████████████████████████████████████▌                                                 | 385/630 [1:13:45<48:38, 11.91s/it]\u001b[A\n",
      " 61%|█████████████████████████████████████████████████████████████████████████████▊                                                 | 386/630 [1:13:55<46:39, 11.47s/it]\u001b[A\n",
      " 61%|██████████████████████████████████████████████████████████████████████████████                                                 | 387/630 [1:14:07<47:00, 11.61s/it]\u001b[A\n",
      " 62%|██████████████████████████████████████████████████████████████████████████████▏                                                | 388/630 [1:14:19<47:27, 11.76s/it]\u001b[A\n",
      " 62%|██████████████████████████████████████████████████████████████████████████████▍                                                | 389/630 [1:14:33<49:05, 12.22s/it]\u001b[A\n",
      " 62%|██████████████████████████████████████████████████████████████████████████████▌                                                | 390/630 [1:14:44<48:13, 12.06s/it]\u001b[A\n",
      " 62%|██████████████████████████████████████████████████████████████████████████████▊                                                | 391/630 [1:14:57<48:39, 12.22s/it]\u001b[A\n",
      " 62%|███████████████████████████████████████████████████████████████████████████████                                                | 392/630 [1:15:08<46:49, 11.80s/it]\u001b[A\n",
      " 62%|███████████████████████████████████████████████████████████████████████████████▏                                               | 393/630 [1:15:19<45:37, 11.55s/it]\u001b[A\n",
      " 63%|███████████████████████████████████████████████████████████████████████████████▍                                               | 394/630 [1:15:31<46:05, 11.72s/it]\u001b[A\n",
      " 63%|███████████████████████████████████████████████████████████████████████████████▋                                               | 395/630 [1:15:43<45:53, 11.72s/it]\u001b[A\n",
      " 63%|███████████████████████████████████████████████████████████████████████████████▊                                               | 396/630 [1:15:55<46:51, 12.02s/it]\u001b[A\n",
      " 63%|████████████████████████████████████████████████████████████████████████████████                                               | 397/630 [1:16:06<45:08, 11.63s/it]\u001b[A\n",
      " 63%|████████████████████████████████████████████████████████████████████████████████▏                                              | 398/630 [1:16:19<46:06, 11.92s/it]\u001b[A\n",
      " 63%|████████████████████████████████████████████████████████████████████████████████▍                                              | 399/630 [1:16:30<45:45, 11.89s/it]\u001b[A\n",
      " 63%|████████████████████████████████████████████████████████████████████████████████▋                                              | 400/630 [1:16:43<45:51, 11.96s/it]\u001b[A\n",
      " 64%|████████████████████████████████████████████████████████████████████████████████▊                                              | 401/630 [1:16:54<45:10, 11.84s/it]\u001b[A\n",
      " 64%|█████████████████████████████████████████████████████████████████████████████████                                              | 402/630 [1:17:05<43:56, 11.57s/it]\u001b[A\n",
      " 64%|█████████████████████████████████████████████████████████████████████████████████▏                                             | 403/630 [1:17:17<43:45, 11.57s/it]\u001b[A\n",
      " 64%|█████████████████████████████████████████████████████████████████████████████████▍                                             | 404/630 [1:17:29<44:00, 11.68s/it]\u001b[A\n",
      " 64%|█████████████████████████████████████████████████████████████████████████████████▋                                             | 405/630 [1:17:40<43:35, 11.62s/it]\u001b[A\n",
      " 64%|█████████████████████████████████████████████████████████████████████████████████▊                                             | 406/630 [1:17:52<43:18, 11.60s/it]\u001b[A\n",
      " 65%|██████████████████████████████████████████████████████████████████████████████████                                             | 407/630 [1:18:02<42:02, 11.31s/it]\u001b[A\n",
      " 65%|██████████████████████████████████████████████████████████████████████████████████▏                                            | 408/630 [1:18:15<43:12, 11.68s/it]\u001b[A\n",
      " 65%|██████████████████████████████████████████████████████████████████████████████████▍                                            | 409/630 [1:18:25<41:09, 11.17s/it]\u001b[A\n",
      " 65%|██████████████████████████████████████████████████████████████████████████████████▋                                            | 410/630 [1:18:35<39:59, 10.90s/it]\u001b[A\n",
      " 65%|██████████████████████████████████████████████████████████████████████████████████▊                                            | 411/630 [1:18:46<39:48, 10.90s/it]\u001b[A\n",
      " 65%|███████████████████████████████████████████████████████████████████████████████████                                            | 412/630 [1:18:58<41:20, 11.38s/it]\u001b[A\n",
      " 66%|███████████████████████████████████████████████████████████████████████████████████▎                                           | 413/630 [1:19:07<37:54, 10.48s/it]\u001b[A\n",
      " 66%|███████████████████████████████████████████████████████████████████████████████████▍                                           | 414/630 [1:19:18<38:45, 10.77s/it]\u001b[A\n",
      " 66%|███████████████████████████████████████████████████████████████████████████████████▋                                           | 415/630 [1:19:28<37:12, 10.39s/it]\u001b[A\n",
      " 66%|███████████████████████████████████████████████████████████████████████████████████▊                                           | 416/630 [1:19:39<37:27, 10.50s/it]\u001b[A\n",
      " 66%|████████████████████████████████████████████████████████████████████████████████████                                           | 417/630 [1:19:51<39:01, 10.99s/it]\u001b[A\n",
      " 66%|████████████████████████████████████████████████████████████████████████████████████▎                                          | 418/630 [1:20:00<37:25, 10.59s/it]\u001b[A\n",
      " 67%|████████████████████████████████████████████████████████████████████████████████████▍                                          | 419/630 [1:20:10<36:11, 10.29s/it]\u001b[A\n",
      " 67%|████████████████████████████████████████████████████████████████████████████████████▋                                          | 420/630 [1:20:21<37:01, 10.58s/it]\u001b[A\n",
      " 67%|████████████████████████████████████████████████████████████████████████████████████▊                                          | 421/630 [1:20:32<37:07, 10.66s/it]\u001b[A\n",
      " 67%|█████████████████████████████████████████████████████████████████████████████████████                                          | 422/630 [1:20:43<37:03, 10.69s/it]\u001b[A\n"
     ]
    },
    {
     "name": "stderr",
     "output_type": "stream",
     "text": [
      " 67%|█████████████████████████████████████████████████████████████████████████████████████▎                                         | 423/630 [1:20:54<37:23, 10.84s/it]\u001b[A\n",
      " 67%|█████████████████████████████████████████████████████████████████████████████████████▍                                         | 424/630 [1:21:05<37:36, 10.95s/it]\u001b[A\n",
      " 67%|█████████████████████████████████████████████████████████████████████████████████████▋                                         | 425/630 [1:21:16<37:28, 10.97s/it]\u001b[A\n",
      " 68%|█████████████████████████████████████████████████████████████████████████████████████▉                                         | 426/630 [1:21:26<36:06, 10.62s/it]\u001b[A\n",
      " 68%|██████████████████████████████████████████████████████████████████████████████████████                                         | 427/630 [1:21:39<38:15, 11.31s/it]\u001b[A\n",
      " 68%|██████████████████████████████████████████████████████████████████████████████████████▎                                        | 428/630 [1:21:50<38:17, 11.37s/it]\u001b[A\n",
      " 68%|██████████████████████████████████████████████████████████████████████████████████████▍                                        | 429/630 [1:22:02<38:15, 11.42s/it]\u001b[A\n",
      " 68%|██████████████████████████████████████████████████████████████████████████████████████▋                                        | 430/630 [1:22:14<38:17, 11.49s/it]\u001b[A\n",
      " 68%|██████████████████████████████████████████████████████████████████████████████████████▉                                        | 431/630 [1:22:26<38:29, 11.60s/it]\u001b[A\n",
      " 69%|███████████████████████████████████████████████████████████████████████████████████████                                        | 432/630 [1:22:36<37:25, 11.34s/it]\u001b[A\n",
      " 69%|███████████████████████████████████████████████████████████████████████████████████████▎                                       | 433/630 [1:22:48<37:52, 11.54s/it]\u001b[A\n",
      " 69%|███████████████████████████████████████████████████████████████████████████████████████▍                                       | 434/630 [1:22:58<35:40, 10.92s/it]\u001b[A\n",
      " 69%|███████████████████████████████████████████████████████████████████████████████████████▋                                       | 435/630 [1:23:09<35:23, 10.89s/it]\u001b[A\n",
      " 69%|███████████████████████████████████████████████████████████████████████████████████████▉                                       | 436/630 [1:23:18<34:16, 10.60s/it]\u001b[A\n",
      " 69%|████████████████████████████████████████████████████████████████████████████████████████                                       | 437/630 [1:23:28<33:20, 10.37s/it]\u001b[A\n",
      " 70%|████████████████████████████████████████████████████████████████████████████████████████▎                                      | 438/630 [1:23:38<32:42, 10.22s/it]\u001b[A\n",
      " 70%|████████████████████████████████████████████████████████████████████████████████████████▍                                      | 439/630 [1:23:48<32:22, 10.17s/it]\u001b[A\n",
      " 70%|████████████████████████████████████████████████████████████████████████████████████████▋                                      | 440/630 [1:23:59<33:15, 10.50s/it]\u001b[A\n",
      " 70%|████████████████████████████████████████████████████████████████████████████████████████▉                                      | 441/630 [1:24:09<31:55, 10.13s/it]\u001b[A\n",
      " 70%|█████████████████████████████████████████████████████████████████████████████████████████                                      | 442/630 [1:24:21<33:53, 10.82s/it]\u001b[A\n",
      " 70%|█████████████████████████████████████████████████████████████████████████████████████████▎                                     | 443/630 [1:24:31<33:05, 10.62s/it]\u001b[A\n",
      " 70%|█████████████████████████████████████████████████████████████████████████████████████████▌                                     | 444/630 [1:24:41<31:59, 10.32s/it]\u001b[A\n",
      " 71%|█████████████████████████████████████████████████████████████████████████████████████████▋                                     | 445/630 [1:24:52<32:14, 10.45s/it]\u001b[A\n",
      " 71%|█████████████████████████████████████████████████████████████████████████████████████████▉                                     | 446/630 [1:25:03<33:07, 10.80s/it]\u001b[A\n",
      " 71%|██████████████████████████████████████████████████████████████████████████████████████████                                     | 447/630 [1:25:13<31:56, 10.47s/it]\u001b[A\n",
      " 71%|██████████████████████████████████████████████████████████████████████████████████████████▎                                    | 448/630 [1:25:22<30:45, 10.14s/it]\u001b[A\n",
      " 71%|██████████████████████████████████████████████████████████████████████████████████████████▌                                    | 449/630 [1:25:34<31:45, 10.53s/it]\u001b[A\n",
      " 71%|██████████████████████████████████████████████████████████████████████████████████████████▋                                    | 450/630 [1:25:46<33:08, 11.05s/it]\u001b[A\n",
      " 72%|██████████████████████████████████████████████████████████████████████████████████████████▉                                    | 451/630 [1:25:58<33:35, 11.26s/it]\u001b[A\n",
      " 72%|███████████████████████████████████████████████████████████████████████████████████████████                                    | 452/630 [1:26:09<33:09, 11.17s/it]\u001b[A\n",
      " 72%|███████████████████████████████████████████████████████████████████████████████████████████▎                                   | 453/630 [1:26:20<32:42, 11.09s/it]\u001b[A\n",
      " 72%|███████████████████████████████████████████████████████████████████████████████████████████▌                                   | 454/630 [1:26:31<32:34, 11.11s/it]\u001b[A\n",
      " 72%|███████████████████████████████████████████████████████████████████████████████████████████▋                                   | 455/630 [1:26:43<33:10, 11.38s/it]\u001b[A\n",
      " 72%|███████████████████████████████████████████████████████████████████████████████████████████▉                                   | 456/630 [1:26:53<32:18, 11.14s/it]\u001b[A\n",
      " 73%|████████████████████████████████████████████████████████████████████████████████████████████▏                                  | 457/630 [1:27:03<31:00, 10.75s/it]\u001b[A\n",
      " 73%|████████████████████████████████████████████████████████████████████████████████████████████▎                                  | 458/630 [1:27:15<31:33, 11.01s/it]\u001b[A\n",
      " 73%|████████████████████████████████████████████████████████████████████████████████████████████▌                                  | 459/630 [1:27:26<31:28, 11.04s/it]\u001b[A\n",
      " 73%|████████████████████████████████████████████████████████████████████████████████████████████▋                                  | 460/630 [1:27:39<32:34, 11.50s/it]\u001b[A\n",
      " 73%|████████████████████████████████████████████████████████████████████████████████████████████▉                                  | 461/630 [1:27:49<31:50, 11.31s/it]\u001b[A\n",
      " 73%|█████████████████████████████████████████████████████████████████████████████████████████████▏                                 | 462/630 [1:28:01<31:54, 11.39s/it]\u001b[A\n",
      " 73%|█████████████████████████████████████████████████████████████████████████████████████████████▎                                 | 463/630 [1:28:12<31:15, 11.23s/it]\u001b[A\n",
      " 74%|█████████████████████████████████████████████████████████████████████████████████████████████▌                                 | 464/630 [1:28:22<30:15, 10.94s/it]\u001b[A\n",
      " 74%|█████████████████████████████████████████████████████████████████████████████████████████████▋                                 | 465/630 [1:28:34<30:57, 11.26s/it]\u001b[A\n",
      " 74%|█████████████████████████████████████████████████████████████████████████████████████████████▉                                 | 466/630 [1:28:45<30:31, 11.17s/it]\u001b[A\n",
      " 74%|██████████████████████████████████████████████████████████████████████████████████████████████▏                                | 467/630 [1:28:55<29:28, 10.85s/it]\u001b[A\n",
      " 74%|██████████████████████████████████████████████████████████████████████████████████████████████▎                                | 468/630 [1:29:07<29:40, 10.99s/it]\u001b[A\n",
      " 74%|██████████████████████████████████████████████████████████████████████████████████████████████▌                                | 469/630 [1:29:16<28:19, 10.55s/it]\u001b[A\n"
     ]
    },
    {
     "name": "stderr",
     "output_type": "stream",
     "text": [
      " 75%|██████████████████████████████████████████████████████████████████████████████████████████████▋                                | 470/630 [1:29:27<28:25, 10.66s/it]\u001b[A\n",
      " 75%|██████████████████████████████████████████████████████████████████████████████████████████████▉                                | 471/630 [1:29:38<28:08, 10.62s/it]\u001b[A\n",
      " 75%|███████████████████████████████████████████████████████████████████████████████████████████████▏                               | 472/630 [1:29:48<28:02, 10.65s/it]\u001b[A\n",
      " 75%|███████████████████████████████████████████████████████████████████████████████████████████████▎                               | 473/630 [1:29:58<27:12, 10.40s/it]\u001b[A\n",
      " 75%|███████████████████████████████████████████████████████████████████████████████████████████████▌                               | 474/630 [1:30:08<26:18, 10.12s/it]\u001b[A\n",
      " 75%|███████████████████████████████████████████████████████████████████████████████████████████████▊                               | 475/630 [1:30:18<26:48, 10.38s/it]\u001b[A\n",
      " 76%|███████████████████████████████████████████████████████████████████████████████████████████████▉                               | 476/630 [1:30:28<26:16, 10.24s/it]\u001b[A\n",
      " 76%|████████████████████████████████████████████████████████████████████████████████████████████████▏                              | 477/630 [1:30:39<26:39, 10.46s/it]\u001b[A\n",
      " 76%|████████████████████████████████████████████████████████████████████████████████████████████████▎                              | 478/630 [1:30:49<25:34, 10.09s/it]\u001b[A\n",
      " 76%|████████████████████████████████████████████████████████████████████████████████████████████████▌                              | 479/630 [1:30:59<25:58, 10.32s/it]\u001b[A\n",
      " 76%|████████████████████████████████████████████████████████████████████████████████████████████████▊                              | 480/630 [1:31:11<26:23, 10.55s/it]\u001b[A\n",
      " 76%|████████████████████████████████████████████████████████████████████████████████████████████████▉                              | 481/630 [1:31:22<26:37, 10.72s/it]\u001b[A\n",
      " 77%|█████████████████████████████████████████████████████████████████████████████████████████████████▏                             | 482/630 [1:31:32<26:11, 10.61s/it]\u001b[A\n",
      " 77%|█████████████████████████████████████████████████████████████████████████████████████████████████▎                             | 483/630 [1:31:42<25:40, 10.48s/it]\u001b[A\n",
      " 77%|█████████████████████████████████████████████████████████████████████████████████████████████████▌                             | 484/630 [1:31:51<24:37, 10.12s/it]\u001b[A\n",
      " 77%|█████████████████████████████████████████████████████████████████████████████████████████████████▊                             | 485/630 [1:32:03<25:08, 10.40s/it]\u001b[A\n",
      " 77%|█████████████████████████████████████████████████████████████████████████████████████████████████▉                             | 486/630 [1:32:12<24:21, 10.15s/it]\u001b[A\n",
      " 77%|██████████████████████████████████████████████████████████████████████████████████████████████████▏                            | 487/630 [1:32:23<24:28, 10.27s/it]\u001b[A\n",
      " 77%|██████████████████████████████████████████████████████████████████████████████████████████████████▎                            | 488/630 [1:32:33<24:26, 10.33s/it]\u001b[A\n",
      " 78%|██████████████████████████████████████████████████████████████████████████████████████████████████▌                            | 489/630 [1:32:43<23:53, 10.17s/it]\u001b[A\n",
      " 78%|██████████████████████████████████████████████████████████████████████████████████████████████████▊                            | 490/630 [1:32:53<23:30, 10.08s/it]\u001b[A\n",
      " 78%|██████████████████████████████████████████████████████████████████████████████████████████████████▉                            | 491/630 [1:33:02<22:39,  9.78s/it]\u001b[A\n",
      " 78%|███████████████████████████████████████████████████████████████████████████████████████████████████▏                           | 492/630 [1:33:10<21:41,  9.43s/it]\u001b[A\n",
      " 78%|███████████████████████████████████████████████████████████████████████████████████████████████████▍                           | 493/630 [1:33:21<22:02,  9.65s/it]\u001b[A\n",
      " 78%|███████████████████████████████████████████████████████████████████████████████████████████████████▌                           | 494/630 [1:33:32<22:47, 10.05s/it]\u001b[A\n",
      " 79%|███████████████████████████████████████████████████████████████████████████████████████████████████▊                           | 495/630 [1:33:43<23:40, 10.53s/it]\u001b[A\n",
      " 79%|███████████████████████████████████████████████████████████████████████████████████████████████████▉                           | 496/630 [1:33:53<22:49, 10.22s/it]\u001b[A\n",
      " 79%|████████████████████████████████████████████████████████████████████████████████████████████████████▏                          | 497/630 [1:34:03<22:37, 10.21s/it]\u001b[A\n",
      " 79%|████████████████████████████████████████████████████████████████████████████████████████████████████▍                          | 498/630 [1:34:14<22:51, 10.39s/it]\u001b[A\n",
      " 79%|████████████████████████████████████████████████████████████████████████████████████████████████████▌                          | 499/630 [1:34:24<22:48, 10.45s/it]\u001b[A\n",
      " 79%|████████████████████████████████████████████████████████████████████████████████████████████████████▊                          | 500/630 [1:34:34<22:19, 10.30s/it]\u001b[A\n",
      " 80%|████████████████████████████████████████████████████████████████████████████████████████████████████▉                          | 501/630 [1:34:46<22:49, 10.62s/it]\u001b[A\n",
      " 80%|█████████████████████████████████████████████████████████████████████████████████████████████████████▏                         | 502/630 [1:34:56<22:36, 10.60s/it]\u001b[A\n",
      " 80%|█████████████████████████████████████████████████████████████████████████████████████████████████████▍                         | 503/630 [1:35:07<22:34, 10.66s/it]\u001b[A\n",
      " 80%|█████████████████████████████████████████████████████████████████████████████████████████████████████▌                         | 504/630 [1:35:17<22:12, 10.58s/it]\u001b[A\n",
      " 80%|█████████████████████████████████████████████████████████████████████████████████████████████████████▊                         | 505/630 [1:35:28<22:03, 10.59s/it]\u001b[A\n",
      " 80%|██████████████████████████████████████████████████████████████████████████████████████████████████████                         | 506/630 [1:35:37<20:58, 10.15s/it]\u001b[A\n",
      " 80%|██████████████████████████████████████████████████████████████████████████████████████████████████████▏                        | 507/630 [1:35:46<20:10,  9.84s/it]\u001b[A\n",
      " 81%|██████████████████████████████████████████████████████████████████████████████████████████████████████▍                        | 508/630 [1:35:57<20:17,  9.98s/it]\u001b[A\n",
      " 81%|██████████████████████████████████████████████████████████████████████████████████████████████████████▌                        | 509/630 [1:36:06<19:53,  9.87s/it]\u001b[A\n",
      " 81%|██████████████████████████████████████████████████████████████████████████████████████████████████████▊                        | 510/630 [1:36:16<19:27,  9.73s/it]\u001b[A\n",
      " 81%|███████████████████████████████████████████████████████████████████████████████████████████████████████                        | 511/630 [1:36:25<19:15,  9.71s/it]\u001b[A\n",
      " 81%|███████████████████████████████████████████████████████████████████████████████████████████████████████▏                       | 512/630 [1:36:35<18:56,  9.63s/it]\u001b[A\n",
      " 81%|███████████████████████████████████████████████████████████████████████████████████████████████████████▍                       | 513/630 [1:36:43<18:13,  9.35s/it]\u001b[A\n",
      " 82%|███████████████████████████████████████████████████████████████████████████████████████████████████████▌                       | 514/630 [1:36:54<18:34,  9.61s/it]\u001b[A\n",
      " 82%|███████████████████████████████████████████████████████████████████████████████████████████████████████▊                       | 515/630 [1:37:04<18:44,  9.78s/it]\u001b[A\n",
      " 82%|████████████████████████████████████████████████████████████████████████████████████████████████████████                       | 516/630 [1:37:14<18:42,  9.85s/it]\u001b[A\n"
     ]
    },
    {
     "name": "stderr",
     "output_type": "stream",
     "text": [
      " 82%|████████████████████████████████████████████████████████████████████████████████████████████████████████▏                      | 517/630 [1:37:23<18:03,  9.59s/it]\u001b[A\n",
      " 82%|████████████████████████████████████████████████████████████████████████████████████████████████████████▍                      | 518/630 [1:37:31<17:24,  9.33s/it]\u001b[A\n",
      " 82%|████████████████████████████████████████████████████████████████████████████████████████████████████████▌                      | 519/630 [1:37:41<17:25,  9.41s/it]\u001b[A\n",
      " 83%|████████████████████████████████████████████████████████████████████████████████████████████████████████▊                      | 520/630 [1:37:50<16:59,  9.26s/it]\u001b[A\n",
      " 83%|█████████████████████████████████████████████████████████████████████████████████████████████████████████                      | 521/630 [1:37:59<16:51,  9.28s/it]\u001b[A\n",
      " 83%|█████████████████████████████████████████████████████████████████████████████████████████████████████████▏                     | 522/630 [1:38:09<16:52,  9.37s/it]\u001b[A\n",
      " 83%|█████████████████████████████████████████████████████████████████████████████████████████████████████████▍                     | 523/630 [1:38:19<17:16,  9.69s/it]\u001b[A\n",
      " 83%|█████████████████████████████████████████████████████████████████████████████████████████████████████████▋                     | 524/630 [1:38:29<17:19,  9.80s/it]\u001b[A\n",
      " 83%|█████████████████████████████████████████████████████████████████████████████████████████████████████████▊                     | 525/630 [1:38:41<17:57, 10.27s/it]\u001b[A\n",
      " 83%|██████████████████████████████████████████████████████████████████████████████████████████████████████████                     | 526/630 [1:38:50<17:19, 10.00s/it]\u001b[A\n",
      " 84%|██████████████████████████████████████████████████████████████████████████████████████████████████████████▏                    | 527/630 [1:38:59<16:28,  9.60s/it]\u001b[A\n",
      " 84%|██████████████████████████████████████████████████████████████████████████████████████████████████████████▍                    | 528/630 [1:39:07<15:33,  9.16s/it]\u001b[A\n",
      " 84%|██████████████████████████████████████████████████████████████████████████████████████████████████████████▋                    | 529/630 [1:39:15<14:57,  8.89s/it]\u001b[A\n",
      " 84%|██████████████████████████████████████████████████████████████████████████████████████████████████████████▊                    | 530/630 [1:39:25<15:22,  9.22s/it]\u001b[A\n",
      " 84%|███████████████████████████████████████████████████████████████████████████████████████████████████████████                    | 531/630 [1:39:34<14:48,  8.97s/it]\u001b[A\n",
      " 84%|███████████████████████████████████████████████████████████████████████████████████████████████████████████▏                   | 532/630 [1:39:42<14:24,  8.83s/it]\u001b[A\n",
      " 85%|███████████████████████████████████████████████████████████████████████████████████████████████████████████▍                   | 533/630 [1:39:50<14:04,  8.70s/it]\u001b[A\n",
      " 85%|███████████████████████████████████████████████████████████████████████████████████████████████████████████▋                   | 534/630 [1:39:58<13:32,  8.47s/it]\u001b[A\n",
      " 85%|███████████████████████████████████████████████████████████████████████████████████████████████████████████▊                   | 535/630 [1:40:07<13:38,  8.62s/it]\u001b[A\n",
      " 85%|████████████████████████████████████████████████████████████████████████████████████████████████████████████                   | 536/630 [1:40:16<13:24,  8.56s/it]\u001b[A\n",
      " 85%|████████████████████████████████████████████████████████████████████████████████████████████████████████████▎                  | 537/630 [1:40:24<13:11,  8.51s/it]\u001b[A\n",
      " 85%|████████████████████████████████████████████████████████████████████████████████████████████████████████████▍                  | 538/630 [1:40:32<12:54,  8.42s/it]\u001b[A\n",
      " 86%|████████████████████████████████████████████████████████████████████████████████████████████████████████████▋                  | 539/630 [1:40:40<12:25,  8.19s/it]\u001b[A\n",
      " 86%|████████████████████████████████████████████████████████████████████████████████████████████████████████████▊                  | 540/630 [1:40:46<11:25,  7.61s/it]\u001b[A\n",
      " 86%|█████████████████████████████████████████████████████████████████████████████████████████████████████████████                  | 541/630 [1:40:55<11:42,  7.89s/it]\u001b[A\n",
      " 86%|█████████████████████████████████████████████████████████████████████████████████████████████████████████████▎                 | 542/630 [1:41:03<11:44,  8.01s/it]\u001b[A\n",
      " 86%|█████████████████████████████████████████████████████████████████████████████████████████████████████████████▍                 | 543/630 [1:41:11<11:43,  8.09s/it]\u001b[A\n",
      " 86%|█████████████████████████████████████████████████████████████████████████████████████████████████████████████▋                 | 544/630 [1:41:19<11:23,  7.95s/it]\u001b[A\n",
      " 87%|█████████████████████████████████████████████████████████████████████████████████████████████████████████████▊                 | 545/630 [1:41:27<11:11,  7.90s/it]\u001b[A\n",
      " 87%|██████████████████████████████████████████████████████████████████████████████████████████████████████████████                 | 546/630 [1:41:36<11:32,  8.25s/it]\u001b[A\n",
      " 87%|██████████████████████████████████████████████████████████████████████████████████████████████████████████████▎                | 547/630 [1:41:44<11:32,  8.34s/it]\u001b[A\n",
      " 87%|██████████████████████████████████████████████████████████████████████████████████████████████████████████████▍                | 548/630 [1:41:51<10:47,  7.90s/it]\u001b[A\n",
      " 87%|██████████████████████████████████████████████████████████████████████████████████████████████████████████████▋                | 549/630 [1:41:59<10:35,  7.85s/it]\u001b[A\n",
      " 87%|██████████████████████████████████████████████████████████████████████████████████████████████████████████████▊                | 550/630 [1:42:07<10:35,  7.95s/it]\u001b[A\n",
      " 87%|███████████████████████████████████████████████████████████████████████████████████████████████████████████████                | 551/630 [1:42:16<10:36,  8.06s/it]\u001b[A\n",
      " 88%|███████████████████████████████████████████████████████████████████████████████████████████████████████████████▎               | 552/630 [1:42:23<10:07,  7.79s/it]\u001b[A\n",
      " 88%|███████████████████████████████████████████████████████████████████████████████████████████████████████████████▍               | 553/630 [1:42:30<09:49,  7.65s/it]\u001b[A\n",
      " 88%|███████████████████████████████████████████████████████████████████████████████████████████████████████████████▋               | 554/630 [1:42:37<09:32,  7.53s/it]\u001b[A\n",
      " 88%|███████████████████████████████████████████████████████████████████████████████████████████████████████████████▉               | 555/630 [1:42:46<09:44,  7.79s/it]\u001b[A\n",
      " 88%|████████████████████████████████████████████████████████████████████████████████████████████████████████████████               | 556/630 [1:42:53<09:23,  7.61s/it]\u001b[A\n",
      " 88%|████████████████████████████████████████████████████████████████████████████████████████████████████████████████▎              | 557/630 [1:43:00<09:16,  7.62s/it]\u001b[A\n",
      " 89%|████████████████████████████████████████████████████████████████████████████████████████████████████████████████▍              | 558/630 [1:43:09<09:20,  7.79s/it]\u001b[A\n",
      " 89%|████████████████████████████████████████████████████████████████████████████████████████████████████████████████▋              | 559/630 [1:43:16<09:11,  7.77s/it]\u001b[A\n",
      " 89%|████████████████████████████████████████████████████████████████████████████████████████████████████████████████▉              | 560/630 [1:43:23<08:48,  7.54s/it]\u001b[A\n",
      " 89%|█████████████████████████████████████████████████████████████████████████████████████████████████████████████████              | 561/630 [1:43:31<08:47,  7.64s/it]\u001b[A\n",
      " 89%|█████████████████████████████████████████████████████████████████████████████████████████████████████████████████▎             | 562/630 [1:43:39<08:40,  7.66s/it]\u001b[A\n",
      " 89%|█████████████████████████████████████████████████████████████████████████████████████████████████████████████████▍             | 563/630 [1:43:46<08:17,  7.42s/it]\u001b[A\n"
     ]
    },
    {
     "name": "stderr",
     "output_type": "stream",
     "text": [
      " 90%|█████████████████████████████████████████████████████████████████████████████████████████████████████████████████▋             | 564/630 [1:43:53<08:07,  7.38s/it]\u001b[A\n",
      " 90%|█████████████████████████████████████████████████████████████████████████████████████████████████████████████████▉             | 565/630 [1:44:00<07:57,  7.34s/it]\u001b[A\n",
      " 90%|██████████████████████████████████████████████████████████████████████████████████████████████████████████████████             | 566/630 [1:44:07<07:42,  7.23s/it]\u001b[A\n",
      " 90%|██████████████████████████████████████████████████████████████████████████████████████████████████████████████████▎            | 567/630 [1:44:13<07:07,  6.79s/it]\u001b[A\n",
      " 90%|██████████████████████████████████████████████████████████████████████████████████████████████████████████████████▌            | 568/630 [1:44:20<06:55,  6.71s/it]\u001b[A\n",
      " 90%|██████████████████████████████████████████████████████████████████████████████████████████████████████████████████▋            | 569/630 [1:44:26<06:41,  6.58s/it]\u001b[A\n",
      " 90%|██████████████████████████████████████████████████████████████████████████████████████████████████████████████████▉            | 570/630 [1:44:33<06:40,  6.68s/it]\u001b[A\n",
      " 91%|███████████████████████████████████████████████████████████████████████████████████████████████████████████████████            | 571/630 [1:44:39<06:25,  6.53s/it]\u001b[A\n",
      " 91%|███████████████████████████████████████████████████████████████████████████████████████████████████████████████████▎           | 572/630 [1:44:45<06:09,  6.37s/it]\u001b[A\n",
      " 91%|███████████████████████████████████████████████████████████████████████████████████████████████████████████████████▌           | 573/630 [1:44:52<06:13,  6.55s/it]\u001b[A\n",
      " 91%|███████████████████████████████████████████████████████████████████████████████████████████████████████████████████▋           | 574/630 [1:44:58<05:59,  6.42s/it]\u001b[A\n",
      " 91%|███████████████████████████████████████████████████████████████████████████████████████████████████████████████████▉           | 575/630 [1:45:05<05:54,  6.44s/it]\u001b[A\n",
      " 91%|████████████████████████████████████████████████████████████████████████████████████████████████████████████████████           | 576/630 [1:45:12<06:08,  6.82s/it]\u001b[A\n",
      " 92%|████████████████████████████████████████████████████████████████████████████████████████████████████████████████████▎          | 577/630 [1:45:18<05:39,  6.41s/it]\u001b[A\n",
      " 92%|████████████████████████████████████████████████████████████████████████████████████████████████████████████████████▌          | 578/630 [1:45:24<05:30,  6.36s/it]\u001b[A\n",
      " 92%|████████████████████████████████████████████████████████████████████████████████████████████████████████████████████▋          | 579/630 [1:45:30<05:24,  6.37s/it]\u001b[A\n",
      " 92%|████████████████████████████████████████████████████████████████████████████████████████████████████████████████████▉          | 580/630 [1:45:37<05:25,  6.51s/it]\u001b[A\n",
      " 92%|█████████████████████████████████████████████████████████████████████████████████████████████████████████████████████          | 581/630 [1:45:43<05:07,  6.28s/it]\u001b[A\n",
      " 92%|█████████████████████████████████████████████████████████████████████████████████████████████████████████████████████▎         | 582/630 [1:45:49<05:03,  6.32s/it]\u001b[A\n",
      " 93%|█████████████████████████████████████████████████████████████████████████████████████████████████████████████████████▌         | 583/630 [1:45:57<05:18,  6.77s/it]\u001b[A\n",
      " 93%|█████████████████████████████████████████████████████████████████████████████████████████████████████████████████████▋         | 584/630 [1:46:03<04:53,  6.37s/it]\u001b[A\n",
      " 93%|█████████████████████████████████████████████████████████████████████████████████████████████████████████████████████▉         | 585/630 [1:46:09<04:45,  6.35s/it]\u001b[A\n",
      " 93%|██████████████████████████████████████████████████████████████████████████████████████████████████████████████████████▏        | 586/630 [1:46:15<04:36,  6.29s/it]\u001b[A\n",
      " 93%|██████████████████████████████████████████████████████████████████████████████████████████████████████████████████████▎        | 587/630 [1:46:21<04:30,  6.29s/it]\u001b[A\n",
      " 93%|██████████████████████████████████████████████████████████████████████████████████████████████████████████████████████▌        | 588/630 [1:46:27<04:19,  6.17s/it]\u001b[A\n",
      " 93%|██████████████████████████████████████████████████████████████████████████████████████████████████████████████████████▋        | 589/630 [1:46:33<04:10,  6.11s/it]\u001b[A\n",
      " 94%|██████████████████████████████████████████████████████████████████████████████████████████████████████████████████████▉        | 590/630 [1:46:39<03:56,  5.92s/it]\u001b[A\n",
      " 94%|███████████████████████████████████████████████████████████████████████████████████████████████████████████████████████▏       | 591/630 [1:46:45<03:54,  6.01s/it]\u001b[A\n",
      " 94%|███████████████████████████████████████████████████████████████████████████████████████████████████████████████████████▎       | 592/630 [1:46:51<03:52,  6.13s/it]\u001b[A\n",
      " 94%|███████████████████████████████████████████████████████████████████████████████████████████████████████████████████████▌       | 593/630 [1:46:58<03:49,  6.21s/it]\u001b[A\n",
      " 94%|███████████████████████████████████████████████████████████████████████████████████████████████████████████████████████▋       | 594/630 [1:47:04<03:40,  6.13s/it]\u001b[A\n",
      " 94%|███████████████████████████████████████████████████████████████████████████████████████████████████████████████████████▉       | 595/630 [1:47:10<03:38,  6.25s/it]\u001b[A\n",
      " 95%|████████████████████████████████████████████████████████████████████████████████████████████████████████████████████████▏      | 596/630 [1:47:16<03:24,  6.00s/it]\u001b[A\n",
      " 95%|████████████████████████████████████████████████████████████████████████████████████████████████████████████████████████▎      | 597/630 [1:47:21<03:10,  5.79s/it]\u001b[A\n",
      " 95%|████████████████████████████████████████████████████████████████████████████████████████████████████████████████████████▌      | 598/630 [1:47:28<03:18,  6.19s/it]\u001b[A\n",
      " 95%|████████████████████████████████████████████████████████████████████████████████████████████████████████████████████████▊      | 599/630 [1:47:33<03:04,  5.94s/it]\u001b[A\n",
      " 95%|████████████████████████████████████████████████████████████████████████████████████████████████████████████████████████▉      | 600/630 [1:47:40<02:59,  5.99s/it]\u001b[A\n",
      " 95%|█████████████████████████████████████████████████████████████████████████████████████████████████████████████████████████▏     | 601/630 [1:47:46<02:57,  6.12s/it]\u001b[A\n",
      " 96%|█████████████████████████████████████████████████████████████████████████████████████████████████████████████████████████▎     | 602/630 [1:47:53<03:00,  6.46s/it]\u001b[A\n",
      " 96%|█████████████████████████████████████████████████████████████████████████████████████████████████████████████████████████▌     | 603/630 [1:47:58<02:44,  6.10s/it]\u001b[A\n",
      " 96%|█████████████████████████████████████████████████████████████████████████████████████████████████████████████████████████▊     | 604/630 [1:48:04<02:33,  5.91s/it]\u001b[A\n",
      " 96%|█████████████████████████████████████████████████████████████████████████████████████████████████████████████████████████▉     | 605/630 [1:48:10<02:25,  5.82s/it]\u001b[A\n",
      " 96%|██████████████████████████████████████████████████████████████████████████████████████████████████████████████████████████▏    | 606/630 [1:48:16<02:24,  6.01s/it]\u001b[A\n",
      " 96%|██████████████████████████████████████████████████████████████████████████████████████████████████████████████████████████▎    | 607/630 [1:48:22<02:15,  5.90s/it]\u001b[A\n",
      " 97%|██████████████████████████████████████████████████████████████████████████████████████████████████████████████████████████▌    | 608/630 [1:48:28<02:10,  5.94s/it]\u001b[A\n",
      " 97%|██████████████████████████████████████████████████████████████████████████████████████████████████████████████████████████▊    | 609/630 [1:48:33<02:01,  5.81s/it]\u001b[A\n",
      " 97%|██████████████████████████████████████████████████████████████████████████████████████████████████████████████████████████▉    | 610/630 [1:48:39<01:54,  5.70s/it]\u001b[A\n"
     ]
    },
    {
     "name": "stderr",
     "output_type": "stream",
     "text": [
      " 97%|███████████████████████████████████████████████████████████████████████████████████████████████████████████████████████████▏   | 611/630 [1:48:45<01:50,  5.80s/it]\u001b[A"
     ]
    },
    {
     "name": "stdout",
     "output_type": "stream",
     "text": [
      "can't get per round statistics!\n",
      "list index out of range\n",
      "\n",
      "can't get per round statistics!\n",
      "list index out of range\n",
      "\n"
     ]
    },
    {
     "name": "stderr",
     "output_type": "stream",
     "text": [
      "\n",
      " 97%|███████████████████████████████████████████████████████████████████████████████████████████████████████████████████████████▎   | 612/630 [1:48:51<01:49,  6.07s/it]\u001b[A"
     ]
    },
    {
     "name": "stdout",
     "output_type": "stream",
     "text": [
      "can't get per round statistics!\n",
      "list index out of range\n",
      "\n"
     ]
    },
    {
     "name": "stderr",
     "output_type": "stream",
     "text": [
      "\n",
      " 97%|███████████████████████████████████████████████████████████████████████████████████████████████████████████████████████████▌   | 613/630 [1:48:57<01:42,  6.03s/it]\u001b[A"
     ]
    },
    {
     "name": "stdout",
     "output_type": "stream",
     "text": [
      "can't get per round statistics!\n",
      "list index out of range\n",
      "\n"
     ]
    },
    {
     "name": "stderr",
     "output_type": "stream",
     "text": [
      "\n",
      " 97%|███████████████████████████████████████████████████████████████████████████████████████████████████████████████████████████▊   | 614/630 [1:49:03<01:32,  5.81s/it]\u001b[A\n",
      " 98%|███████████████████████████████████████████████████████████████████████████████████████████████████████████████████████████▉   | 615/630 [1:49:08<01:25,  5.67s/it]\u001b[A\n",
      " 98%|████████████████████████████████████████████████████████████████████████████████████████████████████████████████████████████▏  | 616/630 [1:49:15<01:26,  6.17s/it]\u001b[A\n",
      " 98%|████████████████████████████████████████████████████████████████████████████████████████████████████████████████████████████▍  | 617/630 [1:49:22<01:21,  6.27s/it]\u001b[A"
     ]
    },
    {
     "name": "stdout",
     "output_type": "stream",
     "text": [
      "can't get per round statistics!\n",
      "list index out of range\n",
      "\n"
     ]
    },
    {
     "name": "stderr",
     "output_type": "stream",
     "text": [
      "\n",
      " 98%|████████████████████████████████████████████████████████████████████████████████████████████████████████████████████████████▌  | 618/630 [1:49:29<01:18,  6.54s/it]\u001b[A"
     ]
    },
    {
     "name": "stdout",
     "output_type": "stream",
     "text": [
      "can't get per round statistics!\n",
      "list index out of range\n",
      "\n",
      "can't get per round statistics!\n",
      "list index out of range\n",
      "\n",
      "can't get per round statistics!\n",
      "list index out of range\n",
      "\n"
     ]
    },
    {
     "name": "stderr",
     "output_type": "stream",
     "text": [
      "\n",
      " 98%|████████████████████████████████████████████████████████████████████████████████████████████████████████████████████████████▊  | 619/630 [1:49:36<01:14,  6.78s/it]\u001b[A"
     ]
    },
    {
     "name": "stdout",
     "output_type": "stream",
     "text": [
      "can't get per round statistics!\n",
      "list index out of range\n",
      "\n",
      "can't get per round statistics!\n",
      "list index out of range\n",
      "\n"
     ]
    },
    {
     "name": "stderr",
     "output_type": "stream",
     "text": [
      "\n",
      " 98%|████████████████████████████████████████████████████████████████████████████████████████████████████████████████████████████▉  | 620/630 [1:49:42<01:06,  6.61s/it]\u001b[A"
     ]
    },
    {
     "name": "stdout",
     "output_type": "stream",
     "text": [
      "can't get per round statistics!\n",
      "list index out of range\n",
      "\n",
      "can't get per round statistics!\n",
      "list index out of range\n",
      "\n"
     ]
    },
    {
     "name": "stderr",
     "output_type": "stream",
     "text": [
      "\n",
      " 99%|█████████████████████████████████████████████████████████████████████████████████████████████████████████████████████████████▏ | 621/630 [1:49:48<00:57,  6.37s/it]\u001b[A\n",
      " 99%|█████████████████████████████████████████████████████████████████████████████████████████████████████████████████████████████▍ | 622/630 [1:49:53<00:48,  6.00s/it]\u001b[A\n",
      " 99%|█████████████████████████████████████████████████████████████████████████████████████████████████████████████████████████████▌ | 623/630 [1:49:59<00:41,  5.93s/it]\u001b[A"
     ]
    },
    {
     "name": "stdout",
     "output_type": "stream",
     "text": [
      "can't get per round statistics!\n",
      "list index out of range\n",
      "\n",
      "can't get per round statistics!\n",
      "list index out of range\n",
      "\n"
     ]
    },
    {
     "name": "stderr",
     "output_type": "stream",
     "text": [
      "\n",
      " 99%|█████████████████████████████████████████████████████████████████████████████████████████████████████████████████████████████▊ | 624/630 [1:50:06<00:36,  6.09s/it]\u001b[A"
     ]
    },
    {
     "name": "stdout",
     "output_type": "stream",
     "text": [
      "can't get per round statistics!\n",
      "list index out of range\n",
      "\n",
      "can't get per round statistics!\n",
      "list index out of range\n",
      "\n"
     ]
    },
    {
     "name": "stderr",
     "output_type": "stream",
     "text": [
      "\n",
      " 99%|█████████████████████████████████████████████████████████████████████████████████████████████████████████████████████████████▉ | 625/630 [1:50:14<00:33,  6.73s/it]\u001b[A"
     ]
    },
    {
     "name": "stdout",
     "output_type": "stream",
     "text": [
      "can't get per round statistics!\n",
      "list index out of range\n",
      "\n",
      "can't get per round statistics!\n",
      "list index out of range\n",
      "\n"
     ]
    },
    {
     "name": "stderr",
     "output_type": "stream",
     "text": [
      "\n",
      " 99%|██████████████████████████████████████████████████████████████████████████████████████████████████████████████████████████████▏| 626/630 [1:50:21<00:27,  6.78s/it]\u001b[A"
     ]
    },
    {
     "name": "stdout",
     "output_type": "stream",
     "text": [
      "can't get per round statistics!\n",
      "list index out of range\n",
      "\n"
     ]
    },
    {
     "name": "stderr",
     "output_type": "stream",
     "text": [
      "\n",
      "100%|██████████████████████████████████████████████████████████████████████████████████████████████████████████████████████████████▍| 627/630 [1:50:28<00:20,  6.96s/it]\u001b[A"
     ]
    },
    {
     "name": "stdout",
     "output_type": "stream",
     "text": [
      "can't get per round statistics!\n",
      "list index out of range\n",
      "\n"
     ]
    },
    {
     "name": "stderr",
     "output_type": "stream",
     "text": [
      "\n",
      "100%|██████████████████████████████████████████████████████████████████████████████████████████████████████████████████████████████▌| 628/630 [1:50:35<00:13,  6.85s/it]\u001b[A"
     ]
    },
    {
     "name": "stdout",
     "output_type": "stream",
     "text": [
      "can't get per round statistics!\n",
      "list index out of range\n",
      "\n"
     ]
    },
    {
     "name": "stderr",
     "output_type": "stream",
     "text": [
      "\n",
      "100%|██████████████████████████████████████████████████████████████████████████████████████████████████████████████████████████████▊| 629/630 [1:50:39<00:06,  6.15s/it]\u001b[A\n",
      "100%|███████████████████████████████████████████████████████████████████████████████████████████████████████████████████████████████| 630/630 [1:50:50<00:00, 10.56s/it]\u001b[A\n"
     ]
    }
   ],
   "source": [
    "all_fights_list = []\n",
    "for event_uri, event_date, event_location, event_name in tqdm(\n",
    "    fights_df[['event_url', 'date', 'location', 'event_name']].itertuples(index=False),\n",
    "    total=len(fights_df)\n",
    "):\n",
    "    one_event = requests.get(event_uri)\n",
    "    one_event = BeautifulSoup(one_event.content, 'lxml')\n",
    "    one_event = (\n",
    "        one_event\n",
    "        .find_all(\n",
    "            \"tr\", {\"class\": \"b-fight-details__table-row b-fight-details__table-row__hover js-fight-details-click\"}\n",
    "        )\n",
    "    )\n",
    "    for one_fight in one_event:\n",
    "        fight_uri = [\n",
    "            row.replace('data-link', '').replace('=', '').replace('\"', '') \n",
    "            for row in str(one_fight).split() if 'data-link' in row\n",
    "        ][0]\n",
    "\n",
    "        fight_stats_dict = get_one_fight_stats(fight_uri=fight_uri)\n",
    "        fight_stats_dict['date'] = event_date\n",
    "        fight_stats_dict['location'] = event_location\n",
    "        fight_stats_dict['event_name'] = event_name\n",
    "        fight_stats_dict['event_uri'] = event_uri\n",
    "        fight_stats_dict['fight_uri'] = fight_uri\n",
    "        all_fights_list.append(fight_stats_dict)"
   ]
  },
  {
   "cell_type": "code",
   "execution_count": 11,
   "metadata": {
    "ExecuteTime": {
     "end_time": "2023-01-08T18:41:24.492516Z",
     "start_time": "2023-01-08T18:41:24.419555Z"
    }
   },
   "outputs": [
    {
     "ename": "NameError",
     "evalue": "name 'json' is not defined",
     "output_type": "error",
     "traceback": [
      "\u001b[0;31m---------------------------------------------------------------------------\u001b[0m",
      "\u001b[0;31mNameError\u001b[0m                                 Traceback (most recent call last)",
      "Input \u001b[0;32mIn [11]\u001b[0m, in \u001b[0;36m<cell line: 1>\u001b[0;34m()\u001b[0m\n\u001b[0;32m----> 1\u001b[0m \u001b[43mjson\u001b[49m\u001b[38;5;241m.\u001b[39mdump(\n\u001b[1;32m      2\u001b[0m     all_fights_list, \n\u001b[1;32m      3\u001b[0m     \u001b[38;5;28mopen\u001b[39m(PARSED_DATA_PATH, mode\u001b[38;5;241m=\u001b[39m\u001b[38;5;124m'\u001b[39m\u001b[38;5;124mw\u001b[39m\u001b[38;5;124m'\u001b[39m, encoding\u001b[38;5;241m=\u001b[39m\u001b[38;5;124m'\u001b[39m\u001b[38;5;124mutf-8\u001b[39m\u001b[38;5;124m'\u001b[39m), ensure_ascii\u001b[38;5;241m=\u001b[39m\u001b[38;5;28;01mFalse\u001b[39;00m, indent\u001b[38;5;241m=\u001b[39m\u001b[38;5;241m2\u001b[39m\n\u001b[1;32m      4\u001b[0m )\n",
      "\u001b[0;31mNameError\u001b[0m: name 'json' is not defined"
     ]
    }
   ],
   "source": [
    "json.dump(\n",
    "    all_fights_list, \n",
    "    open(PARSED_DATA_PATH, mode='w', encoding='utf-8'), ensure_ascii=False, indent=2\n",
    ")"
   ]
  },
  {
   "cell_type": "code",
   "execution_count": 10,
   "metadata": {
    "ExecuteTime": {
     "end_time": "2022-08-13T16:50:40.730958Z",
     "start_time": "2022-08-13T16:50:40.692960Z"
    }
   },
   "outputs": [],
   "source": [
    "from src.parse_utils import get_fighters_info"
   ]
  },
  {
   "cell_type": "code",
   "execution_count": 11,
   "metadata": {
    "ExecuteTime": {
     "end_time": "2022-08-13T16:51:15.578856Z",
     "start_time": "2022-08-13T16:50:44.762263Z"
    }
   },
   "outputs": [
    {
     "name": "stderr",
     "output_type": "stream",
     "text": [
      "100%|██████████████████████████████████████████████████████████████████████████████████████████████████████| 26/26 [00:30<00:00,  1.18s/it]"
     ]
    },
    {
     "name": "stdout",
     "output_type": "stream",
     "text": [
      "status_ok: True\n",
      "476\n"
     ]
    },
    {
     "name": "stderr",
     "output_type": "stream",
     "text": [
      "\n"
     ]
    }
   ],
   "source": [
    "overall_fighters_list, status_ok = get_fighters_info()\n",
    "print(f\"status_ok: {status_ok}\")\n",
    "print(len(overall_fighters_list))"
   ]
  },
  {
   "cell_type": "code",
   "execution_count": 400,
   "metadata": {
    "ExecuteTime": {
     "end_time": "2022-07-31T18:57:47.006309Z",
     "start_time": "2022-07-31T18:57:46.974005Z"
    }
   },
   "outputs": [
    {
     "data": {
      "text/plain": [
       "[('Tom_Aaron', 1)]"
      ]
     },
     "execution_count": 400,
     "metadata": {},
     "output_type": "execute_result"
    }
   ],
   "source": [
    "# are there namesakes among fighters?\n",
    "res = Counter([f\"{dct['First']}_{dct['Last']}\" for dct in overall_fighters_list])\n",
    "res.most_common(1)"
   ]
  },
  {
   "cell_type": "code",
   "execution_count": null,
   "metadata": {},
   "outputs": [],
   "source": [
    "n = 2\n",
    "unq = {1, 2}\n",
    "p(n) = 1/2"
   ]
  },
  {
   "cell_type": "code",
   "execution_count": null,
   "metadata": {
    "ExecuteTime": {
     "end_time": "2023-01-08T19:20:04.706004Z",
     "start_time": "2023-01-08T19:20:04.653215Z"
    }
   },
   "outputs": [],
   "source": [
    "\"\"\"\n",
    "                        m\n",
    "         1         2        3         4          5\n",
    "    |--------||--------||--------||--------||--------|\n",
    "    |        ||        ||        ||        |         |\n",
    "  1 |    1   ||   0    ||    0   ||    0   |     0   | \n",
    "    |        ||        ||        ||        |         |\n",
    "    |--------||--------||--------||--------||--------|\n",
    "    |        ||        ||        ||        |         |\n",
    "  2 |    0   ||   1/2  ||(1/2)^2*||(1/2)^3*|(1/2)^4* | \n",
    "    |        ||        ||(1/2)   ||(1/2)   |(1/2)    |\n",
    "    |--------||--------||--------||--------||--------|\n",
    "    |        ||        ||        ||        |         |\n",
    "  3 |    0   ||   0    ||3!/3^3  ||p(3, 2)*|        |\n",
    "    |        ||        ||        ||(1/n)   |         | \n",
    "    |--------||--------||--------||--------||--------| \n",
    "    |        ||        ||        ||        |         |\n",
    "  4 |    0    ||        ||        ||        |        | \n",
    "    |        ||        ||        ||        |         | \n",
    "    |--------||--------||--------||--------||--------|\n",
    "    |        ||        ||        ||        |         |\n",
    "  5 |    0    ||        ||        ||        |        |\n",
    "    |        ||        ||        ||        |         |\n",
    "    |--------||--------||--------||--------||--------|\n",
    "    \n",
    "\n",
    "\"\"\""
   ]
  },
  {
   "cell_type": "code",
   "execution_count": null,
   "metadata": {},
   "outputs": [],
   "source": [
    "p(4, 3) = p(3, 2)*(1/n) + p(2, 1)*p(2, 2) + p(2, 2)*p(2, 1)"
   ]
  },
  {
   "cell_type": "code",
   "execution_count": null,
   "metadata": {},
   "outputs": [],
   "source": [
    "p(m, n) = ???\n",
    "p(1, 1) = 1\n",
    "p(2, 2) = 1/2\n",
    "p(3, 2) = \n",
    "                      m\n",
    "       \\   1  2  3  4  5  6  7 ...\n",
    "    1      1 \n",
    "    \n",
    "n   2\n",
    "    \n",
    "    3\n",
    "    \n",
    "    4\n",
    "    \n",
    "    5"
   ]
  },
  {
   "cell_type": "code",
   "execution_count": null,
   "metadata": {},
   "outputs": [],
   "source": [
    "n = 2\n",
    "p(m=2) = 1/2\n",
    "p(m=3) = (1/2)^2 * (1/2)\n",
    "p(m=4) = (1/2)^3 * (1/2)\n",
    "...\n",
    "p(m=x) = (1/2)^(x-1) * (1/2)\n",
    "\n",
    "\n",
    "n=3 \n",
    "p(m=1,2) = 0\n",
    "p(m=3) = 3!/3^3\n",
    "p(m=4) = (1 - p(m=3))*"
   ]
  },
  {
   "cell_type": "code",
   "execution_count": null,
   "metadata": {},
   "outputs": [],
   "source": [
    "p(3) = p(2)*(1/n) + p(1)"
   ]
  },
  {
   "cell_type": "code",
   "execution_count": null,
   "metadata": {},
   "outputs": [],
   "source": [
    "Omega_(m=2) = {(1, 1), (1, 2), (2, 1), (2, 2)}\n",
    "Omega_(m=3) = {\n",
    "    (1, 1, 1), (1, 1, 2), (1, 2, 1), (1, 2, 2), (2, 1, 1), (2, 1, 2), (2, 2, 1), (2, 2, 2)\n",
    "}\n",
    "Omega_(n=3) = {\n",
    "    (1, 1, 1), \n",
    "    (1, 1, 2), (1, 2, 1), (1, 2, 2), (2, 1, 1), (2, 1, 2), (2, 2, 1), (2, 2, 2), \n",
    "    (1, 1, 3), (1, 3, 1), (1, 3, 3), (3, 1, 1), (3, 1, 3), (3, 3, 1), (3, 3, 3),\n",
    "    (2, 2, 2), \n",
    "    (2, 2, 3), (2, 3, 2), (2, 3, 3), (3, 2, 2), (3, 2, 3), (3, 3, 2)\n",
    "}"
   ]
  },
  {
   "cell_type": "code",
   "execution_count": null,
   "metadata": {},
   "outputs": [],
   "source": []
  }
 ],
 "metadata": {
  "kernelspec": {
   "display_name": "ufc_venv",
   "language": "python",
   "name": "ufc_venv"
  },
  "language_info": {
   "codemirror_mode": {
    "name": "ipython",
    "version": 3
   },
   "file_extension": ".py",
   "mimetype": "text/x-python",
   "name": "python",
   "nbconvert_exporter": "python",
   "pygments_lexer": "ipython3",
   "version": "3.9.9"
  },
  "toc": {
   "base_numbering": 1,
   "nav_menu": {},
   "number_sections": true,
   "sideBar": true,
   "skip_h1_title": false,
   "title_cell": "Table of Contents",
   "title_sidebar": "Contents",
   "toc_cell": false,
   "toc_position": {},
   "toc_section_display": true,
   "toc_window_display": false
  },
  "varInspector": {
   "cols": {
    "lenName": 16,
    "lenType": 16,
    "lenVar": 40
   },
   "kernels_config": {
    "python": {
     "delete_cmd_postfix": "",
     "delete_cmd_prefix": "del ",
     "library": "var_list.py",
     "varRefreshCmd": "print(var_dic_list())"
    },
    "r": {
     "delete_cmd_postfix": ") ",
     "delete_cmd_prefix": "rm(",
     "library": "var_list.r",
     "varRefreshCmd": "cat(var_dic_list()) "
    }
   },
   "types_to_exclude": [
    "module",
    "function",
    "builtin_function_or_method",
    "instance",
    "_Feature"
   ],
   "window_display": false
  }
 },
 "nbformat": 4,
 "nbformat_minor": 1
}
