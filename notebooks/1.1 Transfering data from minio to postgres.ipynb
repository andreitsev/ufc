{
 "cells": [
  {
   "attachments": {},
   "cell_type": "markdown",
   "metadata": {},
   "source": [
    "<a id='home'></a>\n",
    "### Contents\n",
    "\n",
    "[Imports](#Imports)\n",
    "\n",
    "[Dataloading](#Dataloading)"
   ]
  },
  {
   "attachments": {},
   "cell_type": "markdown",
   "metadata": {},
   "source": [
    "<a id='Imports'></a>\n",
    "### Imports\n",
    "[back to contents](#home)"
   ]
  },
  {
   "cell_type": "code",
   "execution_count": 3,
   "metadata": {},
   "outputs": [],
   "source": [
    "%load_ext autoreload\n",
    "%autoreload 2"
   ]
  },
  {
   "cell_type": "code",
   "execution_count": 4,
   "metadata": {},
   "outputs": [],
   "source": [
    "import os\n",
    "from os.path import join as p_join\n",
    "import sys\n",
    "from typing import List, Tuple, Dict, Set, Any, Optional, Callable\n",
    "from pathlib import Path\n",
    "sys.path.insert(0, str(Path(os.getcwd()).parent))\n",
    "import requests\n",
    "import json\n",
    "import pickle\n",
    "from tqdm import tqdm\n",
    "try:\n",
    "    from fabulous import color as fb_color\n",
    "    color_print = lambda x, color='green': print(getattr(fb_color, color)(x)) if 'fb_color' in globals() else print(x)\n",
    "except Exception as e:\n",
    "    color_print = lambda x, color='green': print(x)\n",
    "\n",
    "from bs4 import BeautifulSoup\n",
    "from sqlalchemy import create_engine\n",
    "import numpy as np\n",
    "import pandas as pd\n",
    "import matplotlib\n",
    "import matplotlib.pyplot as plt\n",
    "import seaborn as sns\n",
    "%matplotlib inline"
   ]
  },
  {
   "cell_type": "code",
   "execution_count": 5,
   "metadata": {},
   "outputs": [],
   "source": [
    "from src.common_utils import get_container_ipaddr"
   ]
  },
  {
   "attachments": {},
   "cell_type": "markdown",
   "metadata": {},
   "source": [
    "<a id='Dataloading'></a>\n",
    "### Dataloading\n",
    "[back to contents](#home)"
   ]
  },
  {
   "cell_type": "code",
   "execution_count": 6,
   "metadata": {},
   "outputs": [],
   "source": [
    "MINIO_ACCESS_KEY = os.environ['MINIO_ACCESS_KEY']\n",
    "MINIO_SECRET_KEY = os.environ['MINIO_SECRET_KEY']\n",
    "POSTGRES_USER = os.environ['POSTGRES_USER']\n",
    "POSTGRES_PASSWORD = os.environ['POSTGRES_PASSWORD']"
   ]
  },
  {
   "cell_type": "code",
   "execution_count": 7,
   "metadata": {},
   "outputs": [
    {
     "name": "stdout",
     "output_type": "stream",
     "text": [
      "MINIO_IPADDR: 172.27.0.2\n"
     ]
    }
   ],
   "source": [
    "import docker\n",
    "docker_client = docker.from_env()\n",
    "docker_client\n",
    "\n",
    "minio_container = [container for container in docker_client.containers.list() \n",
    " if 'minio' in str(container.name).lower()]\n",
    "assert len(minio_container) == 1, 'There should be only one minio container'\n",
    "minio_container = minio_container[0]\n",
    "minio_container\n",
    "\n",
    "MINIO_IPADDR = get_container_ipaddr(minio_container)\n",
    "print(f\"MINIO_IPADDR: {MINIO_IPADDR}\")"
   ]
  },
  {
   "cell_type": "code",
   "execution_count": 19,
   "metadata": {},
   "outputs": [],
   "source": [
    "from src.minio_utils import initialize_minio_client"
   ]
  },
  {
   "cell_type": "code",
   "execution_count": 27,
   "metadata": {},
   "outputs": [],
   "source": [
    "import os\n",
    "import sys\n",
    "import typing as t\n",
    "\n",
    "if 'PYTHONPATH' in os.environ:\n",
    "\tPROJECT_PATH = os.environ[\"PYTHONPATH\"]\n",
    "\tsys.path.insert(0, PROJECT_PATH)\n",
    "else:\n",
    "\tPROJECT_PATH = '..'\n",
    "\n",
    "import docker\n",
    "import minio\n",
    "from minio import Minio\n",
    "\n",
    "from src.common_utils import get_container_ipaddr  \n",
    "\n",
    "\n",
    "def initialize_minio_client(\n",
    "\t\tipaddr: t.Optional[str]=None,\n",
    "\t\taccess_key: t.Optional[str]=None,\n",
    "\t\tsecret_key: t.Optional[str]=None,\n",
    "\t\tport_number: int=9001,\n",
    ") -> minio.api.Minio:\n",
    "    \"\"\"Returns initialized minio client\"\"\"\n",
    "    if ipaddr is None:\n",
    "        docker_client = docker.from_env()\n",
    "        minio_container = [\n",
    "            container for container in docker_client.containers.list() \n",
    "            if 'minio' in str(container.name).lower()\n",
    "        ]\n",
    "        assert len(minio_container) == 1, 'There should be only one minio container'\n",
    "        minio_container = minio_container[0]\n",
    "        ipaddr = get_container_ipaddr(container=minio_container)\n",
    "\n",
    "    print(f\"ipaddr: {ipaddr}\")\n",
    "    minio_access_key = (\n",
    "\t    access_key if access_key is not None else os.getenv('MINIO_ACCESS_KEY', \"\")\n",
    "    )\n",
    "    minio_secret_key = (\n",
    "\t    secret_key if secret_key is not None else os.getenv('MINIO_SECRET_KEY', \"\")\n",
    "    )\n",
    "    minio_client = Minio(\n",
    "        endpoint=f\"{ipaddr}:{port_number}\",\n",
    "        access_key=minio_access_key,\n",
    "        secret_key=minio_secret_key,\n",
    "        secure=False,\n",
    "    )\n",
    "    print(f\"minio_client: {minio_client}\")\n",
    "    print(f'minio_client.list_buckets(): {minio_client.list_buckets()}')\n",
    "    # checking client creation\n",
    "    assert isinstance(minio_client.list_buckets(), list), \\\n",
    "\t    'minio_client if not initialized!'\n",
    "    \n",
    "    return minio_client"
   ]
  },
  {
   "cell_type": "code",
   "execution_count": 28,
   "metadata": {},
   "outputs": [
    {
     "name": "stdout",
     "output_type": "stream",
     "text": [
      "minio_client: <minio.api.Minio object at 0x7fb962aabf40>\n"
     ]
    },
    {
     "ename": "InvalidResponseError",
     "evalue": "non-XML response from server; Response code: 400, Content-Type: text/xml; charset=utf-8, Body: <?xml version=\"1.0\" encoding=\"UTF-8\"?><Error><Code>InvalidArgument</Code><Message>S3 API Requests must be made to API port.</Message><RequestId>0</RequestId></Error>",
     "output_type": "error",
     "traceback": [
      "\u001b[0;31m---------------------------------------------------------------------------\u001b[0m",
      "\u001b[0;31mInvalidResponseError\u001b[0m                      Traceback (most recent call last)",
      "\u001b[1;32m/home/aiandrejcev/ufc/notebooks/1.1 Transfering data from minio to postgres.ipynb Ячейка 11\u001b[0m in \u001b[0;36m<cell line: 1>\u001b[0;34m()\u001b[0m\n\u001b[0;32m----> <a href='vscode-notebook-cell://ssh-remote%2Btalisker.econ.msu.ru/home/aiandrejcev/ufc/notebooks/1.1%20Transfering%20data%20from%20minio%20to%20postgres.ipynb#X12sdnNjb2RlLXJlbW90ZQ%3D%3D?line=0'>1</a>\u001b[0m minio_client \u001b[39m=\u001b[39m initialize_minio_client(\n\u001b[1;32m      <a href='vscode-notebook-cell://ssh-remote%2Btalisker.econ.msu.ru/home/aiandrejcev/ufc/notebooks/1.1%20Transfering%20data%20from%20minio%20to%20postgres.ipynb#X12sdnNjb2RlLXJlbW90ZQ%3D%3D?line=1'>2</a>\u001b[0m     access_key\u001b[39m=\u001b[39;49mMINIO_ACCESS_KEY,\n\u001b[1;32m      <a href='vscode-notebook-cell://ssh-remote%2Btalisker.econ.msu.ru/home/aiandrejcev/ufc/notebooks/1.1%20Transfering%20data%20from%20minio%20to%20postgres.ipynb#X12sdnNjb2RlLXJlbW90ZQ%3D%3D?line=2'>3</a>\u001b[0m     secret_key\u001b[39m=\u001b[39;49mMINIO_SECRET_KEY\n\u001b[1;32m      <a href='vscode-notebook-cell://ssh-remote%2Btalisker.econ.msu.ru/home/aiandrejcev/ufc/notebooks/1.1%20Transfering%20data%20from%20minio%20to%20postgres.ipynb#X12sdnNjb2RlLXJlbW90ZQ%3D%3D?line=3'>4</a>\u001b[0m )\n\u001b[1;32m      <a href='vscode-notebook-cell://ssh-remote%2Btalisker.econ.msu.ru/home/aiandrejcev/ufc/notebooks/1.1%20Transfering%20data%20from%20minio%20to%20postgres.ipynb#X12sdnNjb2RlLXJlbW90ZQ%3D%3D?line=4'>5</a>\u001b[0m minio_client\n",
      "\u001b[1;32m/home/aiandrejcev/ufc/notebooks/1.1 Transfering data from minio to postgres.ipynb Ячейка 11\u001b[0m in \u001b[0;36minitialize_minio_client\u001b[0;34m(ipaddr, access_key, secret_key, port_number)\u001b[0m\n\u001b[1;32m     <a href='vscode-notebook-cell://ssh-remote%2Btalisker.econ.msu.ru/home/aiandrejcev/ufc/notebooks/1.1%20Transfering%20data%20from%20minio%20to%20postgres.ipynb#X12sdnNjb2RlLXJlbW90ZQ%3D%3D?line=40'>41</a>\u001b[0m     minio_client \u001b[39m=\u001b[39m Minio(\n\u001b[1;32m     <a href='vscode-notebook-cell://ssh-remote%2Btalisker.econ.msu.ru/home/aiandrejcev/ufc/notebooks/1.1%20Transfering%20data%20from%20minio%20to%20postgres.ipynb#X12sdnNjb2RlLXJlbW90ZQ%3D%3D?line=41'>42</a>\u001b[0m         endpoint\u001b[39m=\u001b[39m\u001b[39mf\u001b[39m\u001b[39m\"\u001b[39m\u001b[39m{\u001b[39;00mipaddr\u001b[39m}\u001b[39;00m\u001b[39m:\u001b[39m\u001b[39m{\u001b[39;00mport_number\u001b[39m}\u001b[39;00m\u001b[39m\"\u001b[39m,\n\u001b[1;32m     <a href='vscode-notebook-cell://ssh-remote%2Btalisker.econ.msu.ru/home/aiandrejcev/ufc/notebooks/1.1%20Transfering%20data%20from%20minio%20to%20postgres.ipynb#X12sdnNjb2RlLXJlbW90ZQ%3D%3D?line=42'>43</a>\u001b[0m         access_key\u001b[39m=\u001b[39mminio_access_key,\n\u001b[1;32m     <a href='vscode-notebook-cell://ssh-remote%2Btalisker.econ.msu.ru/home/aiandrejcev/ufc/notebooks/1.1%20Transfering%20data%20from%20minio%20to%20postgres.ipynb#X12sdnNjb2RlLXJlbW90ZQ%3D%3D?line=43'>44</a>\u001b[0m         secret_key\u001b[39m=\u001b[39mminio_secret_key,\n\u001b[1;32m     <a href='vscode-notebook-cell://ssh-remote%2Btalisker.econ.msu.ru/home/aiandrejcev/ufc/notebooks/1.1%20Transfering%20data%20from%20minio%20to%20postgres.ipynb#X12sdnNjb2RlLXJlbW90ZQ%3D%3D?line=44'>45</a>\u001b[0m         secure\u001b[39m=\u001b[39m\u001b[39mFalse\u001b[39;00m,\n\u001b[1;32m     <a href='vscode-notebook-cell://ssh-remote%2Btalisker.econ.msu.ru/home/aiandrejcev/ufc/notebooks/1.1%20Transfering%20data%20from%20minio%20to%20postgres.ipynb#X12sdnNjb2RlLXJlbW90ZQ%3D%3D?line=45'>46</a>\u001b[0m     )\n\u001b[1;32m     <a href='vscode-notebook-cell://ssh-remote%2Btalisker.econ.msu.ru/home/aiandrejcev/ufc/notebooks/1.1%20Transfering%20data%20from%20minio%20to%20postgres.ipynb#X12sdnNjb2RlLXJlbW90ZQ%3D%3D?line=46'>47</a>\u001b[0m     \u001b[39mprint\u001b[39m(\u001b[39mf\u001b[39m\u001b[39m\"\u001b[39m\u001b[39mminio_client: \u001b[39m\u001b[39m{\u001b[39;00mminio_client\u001b[39m}\u001b[39;00m\u001b[39m\"\u001b[39m)\n\u001b[0;32m---> <a href='vscode-notebook-cell://ssh-remote%2Btalisker.econ.msu.ru/home/aiandrejcev/ufc/notebooks/1.1%20Transfering%20data%20from%20minio%20to%20postgres.ipynb#X12sdnNjb2RlLXJlbW90ZQ%3D%3D?line=47'>48</a>\u001b[0m     \u001b[39mprint\u001b[39m(\u001b[39mf\u001b[39m\u001b[39m'\u001b[39m\u001b[39mminio_client.list_buckets(): \u001b[39m\u001b[39m{\u001b[39;00mminio_client\u001b[39m.\u001b[39mlist_buckets()\u001b[39m}\u001b[39;00m\u001b[39m'\u001b[39m)\n\u001b[1;32m     <a href='vscode-notebook-cell://ssh-remote%2Btalisker.econ.msu.ru/home/aiandrejcev/ufc/notebooks/1.1%20Transfering%20data%20from%20minio%20to%20postgres.ipynb#X12sdnNjb2RlLXJlbW90ZQ%3D%3D?line=48'>49</a>\u001b[0m     \u001b[39m# checking client creation\u001b[39;00m\n\u001b[1;32m     <a href='vscode-notebook-cell://ssh-remote%2Btalisker.econ.msu.ru/home/aiandrejcev/ufc/notebooks/1.1%20Transfering%20data%20from%20minio%20to%20postgres.ipynb#X12sdnNjb2RlLXJlbW90ZQ%3D%3D?line=49'>50</a>\u001b[0m     \u001b[39massert\u001b[39;00m \u001b[39misinstance\u001b[39m(minio_client\u001b[39m.\u001b[39mlist_buckets(), \u001b[39mlist\u001b[39m), \\\n\u001b[1;32m     <a href='vscode-notebook-cell://ssh-remote%2Btalisker.econ.msu.ru/home/aiandrejcev/ufc/notebooks/1.1%20Transfering%20data%20from%20minio%20to%20postgres.ipynb#X12sdnNjb2RlLXJlbW90ZQ%3D%3D?line=50'>51</a>\u001b[0m \t    \u001b[39m'\u001b[39m\u001b[39mminio_client if not initialized!\u001b[39m\u001b[39m'\u001b[39m\n",
      "File \u001b[0;32m~/ufc_venv/lib64/python3.9/site-packages/minio/api.py:639\u001b[0m, in \u001b[0;36mMinio.list_buckets\u001b[0;34m(self)\u001b[0m\n\u001b[1;32m    627\u001b[0m \u001b[39mdef\u001b[39;00m \u001b[39mlist_buckets\u001b[39m(\u001b[39mself\u001b[39m):\n\u001b[1;32m    628\u001b[0m     \u001b[39m\"\"\"\u001b[39;00m\n\u001b[1;32m    629\u001b[0m \u001b[39m    List information of all accessible buckets.\u001b[39;00m\n\u001b[1;32m    630\u001b[0m \n\u001b[0;32m   (...)\u001b[0m\n\u001b[1;32m    636\u001b[0m \u001b[39m            print(bucket.name, bucket.creation_date)\u001b[39;00m\n\u001b[1;32m    637\u001b[0m \u001b[39m    \"\"\"\u001b[39;00m\n\u001b[0;32m--> 639\u001b[0m     response \u001b[39m=\u001b[39m \u001b[39mself\u001b[39;49m\u001b[39m.\u001b[39;49m_execute(\u001b[39m\"\u001b[39;49m\u001b[39mGET\u001b[39;49m\u001b[39m\"\u001b[39;49m)\n\u001b[1;32m    640\u001b[0m     result \u001b[39m=\u001b[39m unmarshal(ListAllMyBucketsResult, response\u001b[39m.\u001b[39mdata\u001b[39m.\u001b[39mdecode())\n\u001b[1;32m    641\u001b[0m     \u001b[39mreturn\u001b[39;00m result\u001b[39m.\u001b[39mbuckets\n",
      "File \u001b[0;32m~/ufc_venv/lib64/python3.9/site-packages/minio/api.py:403\u001b[0m, in \u001b[0;36mMinio._execute\u001b[0;34m(self, method, bucket_name, object_name, body, headers, query_params, preload_content, no_body_trace)\u001b[0m\n\u001b[1;32m    400\u001b[0m region \u001b[39m=\u001b[39m \u001b[39mself\u001b[39m\u001b[39m.\u001b[39m_get_region(bucket_name, \u001b[39mNone\u001b[39;00m)\n\u001b[1;32m    402\u001b[0m \u001b[39mtry\u001b[39;00m:\n\u001b[0;32m--> 403\u001b[0m     \u001b[39mreturn\u001b[39;00m \u001b[39mself\u001b[39;49m\u001b[39m.\u001b[39;49m_url_open(\n\u001b[1;32m    404\u001b[0m         method,\n\u001b[1;32m    405\u001b[0m         region,\n\u001b[1;32m    406\u001b[0m         bucket_name\u001b[39m=\u001b[39;49mbucket_name,\n\u001b[1;32m    407\u001b[0m         object_name\u001b[39m=\u001b[39;49mobject_name,\n\u001b[1;32m    408\u001b[0m         body\u001b[39m=\u001b[39;49mbody,\n\u001b[1;32m    409\u001b[0m         headers\u001b[39m=\u001b[39;49mheaders,\n\u001b[1;32m    410\u001b[0m         query_params\u001b[39m=\u001b[39;49mquery_params,\n\u001b[1;32m    411\u001b[0m         preload_content\u001b[39m=\u001b[39;49mpreload_content,\n\u001b[1;32m    412\u001b[0m         no_body_trace\u001b[39m=\u001b[39;49mno_body_trace,\n\u001b[1;32m    413\u001b[0m     )\n\u001b[1;32m    414\u001b[0m \u001b[39mexcept\u001b[39;00m S3Error \u001b[39mas\u001b[39;00m exc:\n\u001b[1;32m    415\u001b[0m     \u001b[39mif\u001b[39;00m exc\u001b[39m.\u001b[39mcode \u001b[39m!=\u001b[39m \u001b[39m\"\u001b[39m\u001b[39mRetryHead\u001b[39m\u001b[39m\"\u001b[39m:\n",
      "File \u001b[0;32m~/ufc_venv/lib64/python3.9/site-packages/minio/api.py:311\u001b[0m, in \u001b[0;36mMinio._url_open\u001b[0;34m(self, method, region, bucket_name, object_name, body, headers, query_params, preload_content, no_body_trace)\u001b[0m\n\u001b[1;32m    306\u001b[0m     \u001b[39mif\u001b[39;00m response\u001b[39m.\u001b[39mstatus \u001b[39m==\u001b[39m \u001b[39m304\u001b[39m \u001b[39mand\u001b[39;00m \u001b[39mnot\u001b[39;00m response\u001b[39m.\u001b[39mdata:\n\u001b[1;32m    307\u001b[0m         \u001b[39mraise\u001b[39;00m ServerError(\n\u001b[1;32m    308\u001b[0m             \u001b[39mf\u001b[39m\u001b[39m\"\u001b[39m\u001b[39mserver failed with HTTP status code \u001b[39m\u001b[39m{\u001b[39;00mresponse\u001b[39m.\u001b[39mstatus\u001b[39m}\u001b[39;00m\u001b[39m\"\u001b[39m,\n\u001b[1;32m    309\u001b[0m             response\u001b[39m.\u001b[39mstatus,\n\u001b[1;32m    310\u001b[0m         )\n\u001b[0;32m--> 311\u001b[0m     \u001b[39mraise\u001b[39;00m InvalidResponseError(\n\u001b[1;32m    312\u001b[0m         response\u001b[39m.\u001b[39mstatus,\n\u001b[1;32m    313\u001b[0m         response\u001b[39m.\u001b[39mgetheader(\u001b[39m\"\u001b[39m\u001b[39mcontent-type\u001b[39m\u001b[39m\"\u001b[39m),\n\u001b[1;32m    314\u001b[0m         response\u001b[39m.\u001b[39mdata\u001b[39m.\u001b[39mdecode() \u001b[39mif\u001b[39;00m response\u001b[39m.\u001b[39mdata \u001b[39melse\u001b[39;00m \u001b[39mNone\u001b[39;00m,\n\u001b[1;32m    315\u001b[0m     )\n\u001b[1;32m    317\u001b[0m \u001b[39mif\u001b[39;00m \u001b[39mnot\u001b[39;00m response\u001b[39m.\u001b[39mdata \u001b[39mand\u001b[39;00m method \u001b[39m!=\u001b[39m \u001b[39m\"\u001b[39m\u001b[39mHEAD\u001b[39m\u001b[39m\"\u001b[39m:\n\u001b[1;32m    318\u001b[0m     \u001b[39mif\u001b[39;00m \u001b[39mself\u001b[39m\u001b[39m.\u001b[39m_trace_stream:\n",
      "\u001b[0;31mInvalidResponseError\u001b[0m: non-XML response from server; Response code: 400, Content-Type: text/xml; charset=utf-8, Body: <?xml version=\"1.0\" encoding=\"UTF-8\"?><Error><Code>InvalidArgument</Code><Message>S3 API Requests must be made to API port.</Message><RequestId>0</RequestId></Error>"
     ]
    }
   ],
   "source": [
    "minio_client = initialize_minio_client(\n",
    "    access_key=MINIO_ACCESS_KEY,\n",
    "    secret_key=MINIO_SECRET_KEY\n",
    ")\n",
    "minio_client"
   ]
  },
  {
   "cell_type": "code",
   "execution_count": 26,
   "metadata": {},
   "outputs": [],
   "source": [
    "for bucket in minio_client.list_buckets(): break"
   ]
  },
  {
   "cell_type": "code",
   "execution_count": 16,
   "metadata": {},
   "outputs": [],
   "source": [
    "tmp_data = {'some_key': ['some', 'list', 'of', 'values']}\n",
    "json.dump(\n",
    "    obj=tmp_data, fp=open('/home/aiandrejcev/tmp.json', mode='w', encoding='utf-8'), \n",
    "    ensure_ascii=False, indent=2\n",
    ")"
   ]
  },
  {
   "cell_type": "code",
   "execution_count": 18,
   "metadata": {},
   "outputs": [
    {
     "data": {
      "text/plain": [
       "<minio.helpers.ObjectWriteResult at 0x7f598227bfa0>"
      ]
     },
     "execution_count": 18,
     "metadata": {},
     "output_type": "execute_result"
    }
   ],
   "source": [
    "minio_client.fput_object(\n",
    "    bucket_name='ufc-raw-data',\n",
    "    object_name='tmp_try.json',\n",
    "    file_path='/home/aiandrejcev/tmp.json',\n",
    ")"
   ]
  },
  {
   "cell_type": "code",
   "execution_count": null,
   "metadata": {},
   "outputs": [],
   "source": [
    "minio_client = Minio(\n",
    "    endpoint=\"172.17.0.2:9000\",\n",
    "    access_key=MINIO_ACCESS_KEY,\n",
    "    secret_key=MINIO_SECRET_KEY,\n",
    "    secure=False,\n",
    ")\n",
    "\n",
    "minio_client.fget_object(\n",
    "    bucket_name=args.minio_bucket_name,\n",
    "    object_name=args.object_name,\n",
    "    file_path=tmp_data_local_path,\n",
    ")\n",
    "\n",
    "all_fights_list = json.load(open(tmp_data_local_path, mode='r', encoding='utf-8'))\n",
    "os.remove(tmp_data_local_path)"
   ]
  },
  {
   "cell_type": "code",
   "execution_count": 10,
   "metadata": {},
   "outputs": [],
   "source": [
    "from sqlalchemy import create_engine"
   ]
  },
  {
   "cell_type": "code",
   "execution_count": 11,
   "metadata": {},
   "outputs": [
    {
     "name": "stdout",
     "output_type": "stream",
     "text": [
      "POSTGRES_IPADDR: 172.27.0.4\n"
     ]
    }
   ],
   "source": [
    "import docker\n",
    "docker_client = docker.from_env()\n",
    "docker_client\n",
    "\n",
    "pg_container = [container for container in docker_client.containers.list() \n",
    " if 'pgdatabase' in str(container.name).lower()]\n",
    "assert len(pg_container) == 1, 'There should be only one postgres container!'\n",
    "pg_container = pg_container[0]\n",
    "\n",
    "POSTGRES_IPADDR = get_container_ipaddr(pg_container)\n",
    "print(f\"POSTGRES_IPADDR: {POSTGRES_IPADDR}\")"
   ]
  },
  {
   "cell_type": "code",
   "execution_count": 12,
   "metadata": {},
   "outputs": [
    {
     "data": {
      "text/plain": [
       "<sqlalchemy.engine.base.Connection at 0x7fb9b16a5a00>"
      ]
     },
     "execution_count": 12,
     "metadata": {},
     "output_type": "execute_result"
    }
   ],
   "source": [
    "eng = create_engine(\n",
    "    f'postgresql+psycopg2://{POSTGRES_USER}:{POSTGRES_PASSWORD}@{POSTGRES_IPADDR}'\n",
    ")\n",
    "eng.connect()"
   ]
  },
  {
   "cell_type": "code",
   "execution_count": 13,
   "metadata": {},
   "outputs": [],
   "source": [
    "with eng.connect() as conn:\n",
    "    conn.execute('create schema if not exists raw_data')"
   ]
  },
  {
   "cell_type": "code",
   "execution_count": 26,
   "metadata": {},
   "outputs": [
    {
     "data": {
      "text/plain": [
       "15"
      ]
     },
     "execution_count": 26,
     "metadata": {},
     "output_type": "execute_result"
    }
   ],
   "source": [
    "df.to_sql(\n",
    "    name='tmp_table',\n",
    "    con=eng,\n",
    "    schema='tmp',\n",
    "    if_exists='replace',\n",
    "    index=False,\n",
    ")"
   ]
  },
  {
   "cell_type": "code",
   "execution_count": 28,
   "metadata": {},
   "outputs": [
    {
     "data": {
      "text/html": [
       "<div>\n",
       "<style scoped>\n",
       "    .dataframe tbody tr th:only-of-type {\n",
       "        vertical-align: middle;\n",
       "    }\n",
       "\n",
       "    .dataframe tbody tr th {\n",
       "        vertical-align: top;\n",
       "    }\n",
       "\n",
       "    .dataframe thead th {\n",
       "        text-align: right;\n",
       "    }\n",
       "</style>\n",
       "<table border=\"1\" class=\"dataframe\">\n",
       "  <thead>\n",
       "    <tr style=\"text-align: right;\">\n",
       "      <th></th>\n",
       "      <th>var1</th>\n",
       "      <th>var2</th>\n",
       "      <th>var3</th>\n",
       "      <th>var4</th>\n",
       "      <th>var5</th>\n",
       "    </tr>\n",
       "  </thead>\n",
       "  <tbody>\n",
       "    <tr>\n",
       "      <th>0</th>\n",
       "      <td>4</td>\n",
       "      <td>4</td>\n",
       "      <td>-3</td>\n",
       "      <td>-3</td>\n",
       "      <td>2</td>\n",
       "    </tr>\n",
       "    <tr>\n",
       "      <th>1</th>\n",
       "      <td>-3</td>\n",
       "      <td>4</td>\n",
       "      <td>2</td>\n",
       "      <td>-3</td>\n",
       "      <td>-5</td>\n",
       "    </tr>\n",
       "    <tr>\n",
       "      <th>2</th>\n",
       "      <td>-1</td>\n",
       "      <td>1</td>\n",
       "      <td>-1</td>\n",
       "      <td>-2</td>\n",
       "      <td>3</td>\n",
       "    </tr>\n",
       "    <tr>\n",
       "      <th>3</th>\n",
       "      <td>3</td>\n",
       "      <td>2</td>\n",
       "      <td>-2</td>\n",
       "      <td>-4</td>\n",
       "      <td>0</td>\n",
       "    </tr>\n",
       "    <tr>\n",
       "      <th>4</th>\n",
       "      <td>0</td>\n",
       "      <td>4</td>\n",
       "      <td>-1</td>\n",
       "      <td>-4</td>\n",
       "      <td>-4</td>\n",
       "    </tr>\n",
       "    <tr>\n",
       "      <th>5</th>\n",
       "      <td>4</td>\n",
       "      <td>-5</td>\n",
       "      <td>0</td>\n",
       "      <td>-4</td>\n",
       "      <td>0</td>\n",
       "    </tr>\n",
       "    <tr>\n",
       "      <th>6</th>\n",
       "      <td>1</td>\n",
       "      <td>3</td>\n",
       "      <td>-4</td>\n",
       "      <td>-1</td>\n",
       "      <td>-4</td>\n",
       "    </tr>\n",
       "    <tr>\n",
       "      <th>7</th>\n",
       "      <td>2</td>\n",
       "      <td>3</td>\n",
       "      <td>-5</td>\n",
       "      <td>0</td>\n",
       "      <td>-1</td>\n",
       "    </tr>\n",
       "    <tr>\n",
       "      <th>8</th>\n",
       "      <td>-4</td>\n",
       "      <td>4</td>\n",
       "      <td>-5</td>\n",
       "      <td>1</td>\n",
       "      <td>3</td>\n",
       "    </tr>\n",
       "    <tr>\n",
       "      <th>9</th>\n",
       "      <td>-2</td>\n",
       "      <td>0</td>\n",
       "      <td>-3</td>\n",
       "      <td>2</td>\n",
       "      <td>-3</td>\n",
       "    </tr>\n",
       "    <tr>\n",
       "      <th>10</th>\n",
       "      <td>-2</td>\n",
       "      <td>-5</td>\n",
       "      <td>-4</td>\n",
       "      <td>-4</td>\n",
       "      <td>-2</td>\n",
       "    </tr>\n",
       "    <tr>\n",
       "      <th>11</th>\n",
       "      <td>-3</td>\n",
       "      <td>-5</td>\n",
       "      <td>0</td>\n",
       "      <td>-4</td>\n",
       "      <td>3</td>\n",
       "    </tr>\n",
       "    <tr>\n",
       "      <th>12</th>\n",
       "      <td>0</td>\n",
       "      <td>-4</td>\n",
       "      <td>-4</td>\n",
       "      <td>0</td>\n",
       "      <td>-2</td>\n",
       "    </tr>\n",
       "    <tr>\n",
       "      <th>13</th>\n",
       "      <td>-2</td>\n",
       "      <td>1</td>\n",
       "      <td>-1</td>\n",
       "      <td>-5</td>\n",
       "      <td>-3</td>\n",
       "    </tr>\n",
       "    <tr>\n",
       "      <th>14</th>\n",
       "      <td>-5</td>\n",
       "      <td>-5</td>\n",
       "      <td>3</td>\n",
       "      <td>1</td>\n",
       "      <td>-1</td>\n",
       "    </tr>\n",
       "  </tbody>\n",
       "</table>\n",
       "</div>"
      ],
      "text/plain": [
       "    var1  var2  var3  var4  var5\n",
       "0      4     4    -3    -3     2\n",
       "1     -3     4     2    -3    -5\n",
       "2     -1     1    -1    -2     3\n",
       "3      3     2    -2    -4     0\n",
       "4      0     4    -1    -4    -4\n",
       "5      4    -5     0    -4     0\n",
       "6      1     3    -4    -1    -4\n",
       "7      2     3    -5     0    -1\n",
       "8     -4     4    -5     1     3\n",
       "9     -2     0    -3     2    -3\n",
       "10    -2    -5    -4    -4    -2\n",
       "11    -3    -5     0    -4     3\n",
       "12     0    -4    -4     0    -2\n",
       "13    -2     1    -1    -5    -3\n",
       "14    -5    -5     3     1    -1"
      ]
     },
     "execution_count": 28,
     "metadata": {},
     "output_type": "execute_result"
    }
   ],
   "source": [
    "pd.read_sql('select * from tmp.tmp_table', eng)"
   ]
  },
  {
   "cell_type": "code",
   "execution_count": null,
   "metadata": {},
   "outputs": [],
   "source": []
  }
 ],
 "metadata": {
  "kernelspec": {
   "display_name": "ufc_venv",
   "language": "python",
   "name": "ufc_venv"
  },
  "language_info": {
   "codemirror_mode": {
    "name": "ipython",
    "version": 3
   },
   "file_extension": ".py",
   "mimetype": "text/x-python",
   "name": "python",
   "nbconvert_exporter": "python",
   "pygments_lexer": "ipython3",
   "version": "3.9.9"
  },
  "orig_nbformat": 4
 },
 "nbformat": 4,
 "nbformat_minor": 2
}
